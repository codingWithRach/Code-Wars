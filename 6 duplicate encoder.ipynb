{
 "metadata": {
  "language_info": {
   "codemirror_mode": {
    "name": "ipython",
    "version": 3
   },
   "file_extension": ".py",
   "mimetype": "text/x-python",
   "name": "python",
   "nbconvert_exporter": "python",
   "pygments_lexer": "ipython3",
   "version": "3.8.5-final"
  },
  "orig_nbformat": 2,
  "kernelspec": {
   "name": "python3",
   "display_name": "Python 3",
   "language": "python"
  }
 },
 "nbformat": 4,
 "nbformat_minor": 2,
 "cells": [
  {
   "source": [
    "Convert a string to a new string where each character in the new string is \"(\" if that character appears only once in the original string, or \")\" if that character appears more than once in the original string. Ignore capitalization when determining if a character is a duplicate"
   ],
   "cell_type": "markdown",
   "metadata": {}
  },
  {
   "cell_type": "code",
   "execution_count": 82,
   "metadata": {},
   "outputs": [],
   "source": [
    "def replace_bracket( word, encoded, bracket ):\n",
    "    pos = word.find(bracket, 0)\n",
    "    while pos != -1:\n",
    "        encoded = encoded[0:pos] + ('(' if word.count(bracket) == 1 else ')') + encoded[pos + 1:]\n",
    "        pos = word.find(bracket, pos + 1)\n",
    "    return encoded"
   ]
  },
  {
   "cell_type": "code",
   "execution_count": 83,
   "metadata": {},
   "outputs": [],
   "source": [
    "def duplicate_encode(word):\n",
    "    word = word.upper()\n",
    "    encoded = word\n",
    "    for char in word:\n",
    "        # if the character is ( or ) this needs to be handled separately, to distinguish between the character appearing in the original string, or appearing as a result of a substitution\n",
    "        if char not in ('(', ')'):\n",
    "            encoded = encoded.replace(char, '(' if word.count(char) == 1 else ')')\n",
    "\n",
    "    # now check for instances of ( in the original string\n",
    "    encoded = replace_bracket(word, encoded, '(')        \n",
    "\n",
    "    # now check for instances of ) in the original string\n",
    "    encoded = replace_bracket(word, encoded, ')')   \n",
    "\n",
    "    return encoded"
   ]
  },
  {
   "cell_type": "code",
   "execution_count": null,
   "metadata": {},
   "outputs": [],
   "source": []
  }
 ]
}
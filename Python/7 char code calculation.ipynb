{
 "metadata": {
  "language_info": {
   "codemirror_mode": {
    "name": "ipython",
    "version": 3
   },
   "file_extension": ".py",
   "mimetype": "text/x-python",
   "name": "python",
   "nbconvert_exporter": "python",
   "pygments_lexer": "ipython3",
   "version": "3.8.5"
  },
  "orig_nbformat": 2,
  "kernelspec": {
   "name": "python3",
   "display_name": "Python 3.8.5 64-bit ('base': conda)",
   "metadata": {
    "interpreter": {
     "hash": "a6d5379567e5c9aa2d153209ef4a1d00a383d1ae7f32ebada2471f125a521807"
    }
   }
  }
 },
 "nbformat": 4,
 "nbformat_minor": 2,
 "cells": [
  {
   "source": [
    "Given a string, turn each character into its ASCII character code and join them together to create a number - let's call this number total1:\n",
    "\n",
    "'ABC' --> 'A' = 65, 'B' = 66, 'C' = 67 --> 656667\n",
    "\n",
    "Then replace any incidence of the number 7 with the number 1, and call this number 'total2':\n",
    "\n",
    "total1 = 656667\n",
    "              ^\n",
    "total2 = 656661\n",
    "              ^\n",
    "\n",
    "Then return the difference between the sum of the digits in total1 and total2:\n",
    "\n",
    "  (6 + 5 + 6 + 6 + 6 + 7)\n",
    "- (6 + 5 + 6 + 6 + 6 + 1)\n",
    "-------------------------\n",
    "                       6"
   ],
   "cell_type": "markdown",
   "metadata": {}
  },
  {
   "cell_type": "code",
   "execution_count": 17,
   "metadata": {},
   "outputs": [],
   "source": [
    "def calc(x):\n",
    "    total1 = ''\n",
    "    for char in x:\n",
    "        total1 += str(ord(char))\n",
    "    total2 = total1.replace('7', '1')\n",
    "    return abs(sum([int(char) for char in total1]) - sum([int(char) for char in total2]))"
   ]
  },
  {
   "cell_type": "code",
   "execution_count": 18,
   "metadata": {},
   "outputs": [
    {
     "output_type": "execute_result",
     "data": {
      "text/plain": [
       "6"
      ]
     },
     "metadata": {},
     "execution_count": 18
    }
   ],
   "source": [
    "calc('ABC')"
   ]
  },
  {
   "cell_type": "code",
   "execution_count": null,
   "metadata": {},
   "outputs": [],
   "source": []
  }
 ]
}
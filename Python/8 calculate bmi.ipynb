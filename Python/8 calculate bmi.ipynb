{
 "metadata": {
  "language_info": {
   "codemirror_mode": {
    "name": "ipython",
    "version": 3
   },
   "file_extension": ".py",
   "mimetype": "text/x-python",
   "name": "python",
   "nbconvert_exporter": "python",
   "pygments_lexer": "ipython3",
   "version": 3
  },
  "orig_nbformat": 2
 },
 "nbformat": 4,
 "nbformat_minor": 2,
 "cells": [
  {
   "source": [
    "Write function bmi that calculates body mass index (bmi = weight / height2).\n",
    "\n",
    "if bmi <= 18.5 return \"Underweight\"\n",
    "\n",
    "if bmi <= 25.0 return \"Normal\"\n",
    "\n",
    "if bmi <= 30.0 return \"Overweight\"\n",
    "\n",
    "if bmi > 30 return \"Obese\""
   ],
   "cell_type": "markdown",
   "metadata": {}
  },
  {
   "cell_type": "code",
   "execution_count": null,
   "metadata": {},
   "outputs": [],
   "source": [
    "def bmi(weight, height):\n",
    "    bmi = weight / (height * height)\n",
    "    if bmi <= 18.5:\n",
    "        return 'Underweight'\n",
    "    elif bmi <= 25:\n",
    "        return 'Normal'\n",
    "    elif bmi <= 30:\n",
    "        return 'Overweight'\n",
    "    return 'Obese'"
   ]
  }
 ]
}
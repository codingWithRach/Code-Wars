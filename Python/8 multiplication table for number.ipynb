{
 "cells": [
  {
   "cell_type": "markdown",
   "metadata": {},
   "source": [
    "Your goal is to return multiplication table for number that is always an integer from 1 to 10.\r\n",
    "\r\n",
    "For example, a multiplication table (string) for number == 5 looks like below:\r\n",
    "\r\n",
    "1 * 5 = 5\r\n",
    "2 * 5 = 10\r\n",
    "3 * 5 = 15\r\n",
    "4 * 5 = 20\r\n",
    "5 * 5 = 25\r\n",
    "6 * 5 = 30\r\n",
    "7 * 5 = 35\r\n",
    "8 * 5 = 40\r\n",
    "9 * 5 = 45\r\n",
    "10 * 5 = 50\r\n",
    "\r\n",
    "P. S. You can use \\n in string to jump to the next line.\r\n",
    "\r\n",
    "Note: newlines should be added between rows, but there should be no trailing newline at the end. If you're unsure about the format, look at the sample tests.\r\n"
   ]
  },
  {
   "cell_type": "code",
   "execution_count": 8,
   "metadata": {},
   "outputs": [],
   "source": [
    "def multi_table(number):\r\n",
    "    result = ''\r\n",
    "    for i in range(1,11):\r\n",
    "        if len(result) > 0:\r\n",
    "            result += '\\n'\r\n",
    "        result += str(i) + ' * ' + str(number) + ' = ' + str(i*number)\r\n",
    "    return result"
   ]
  },
  {
   "cell_type": "code",
   "execution_count": 10,
   "metadata": {},
   "outputs": [
    {
     "name": "stdout",
     "output_type": "stream",
     "text": [
      "1 * 5 = 5\n",
      "2 * 5 = 10\n",
      "3 * 5 = 15\n",
      "4 * 5 = 20\n",
      "5 * 5 = 25\n",
      "6 * 5 = 30\n",
      "7 * 5 = 35\n",
      "8 * 5 = 40\n",
      "9 * 5 = 45\n",
      "10 * 5 = 50\n"
     ]
    }
   ],
   "source": [
    "print(multi_table(5))"
   ]
  }
 ],
 "metadata": {
  "interpreter": {
   "hash": "e9440e5d603c35774c62af017100812874226e35d1790890ccf27e7cab51d293"
  },
  "kernelspec": {
   "display_name": "Python 3.9.0 64-bit",
   "name": "python3"
  },
  "language_info": {
   "codemirror_mode": {
    "name": "ipython",
    "version": 3
   },
   "file_extension": ".py",
   "mimetype": "text/x-python",
   "name": "python",
   "nbconvert_exporter": "python",
   "pygments_lexer": "ipython3",
   "version": "3.9.0"
  },
  "orig_nbformat": 2
 },
 "nbformat": 4,
 "nbformat_minor": 2
}
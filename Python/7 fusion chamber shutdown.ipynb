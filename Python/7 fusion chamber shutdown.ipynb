{
 "metadata": {
  "language_info": {
   "codemirror_mode": {
    "name": "ipython",
    "version": 3
   },
   "file_extension": ".py",
   "mimetype": "text/x-python",
   "name": "python",
   "nbconvert_exporter": "python",
   "pygments_lexer": "ipython3",
   "version": "3.8.5-final"
  },
  "orig_nbformat": 2,
  "kernelspec": {
   "name": "python3",
   "display_name": "Python 3",
   "language": "python"
  }
 },
 "nbformat": 4,
 "nbformat_minor": 2,
 "cells": [
  {
   "source": [
    "A laboratory is testing how atoms react in ionic state during nuclear fusion. They introduce different elements with Hydrogen in high temperature and pressurized chamber. Due to unknown reason the chamber lost its power and the elements in it started precipitating\n",
    "Given the number of atoms of Carbon [C],Hydrogen[H] and Oxygen[O] in the chamber. Calculate how many molecules of Water [H2O], Carbon Dioxide [CO2] and Methane [CH4] will be produced following the order of reaction affinity below\n",
    "\n",
    "1. Hydrogen reacts with Oxygen   = H2O\n",
    "2. Carbon   reacts with Oxygen   = CO2\n",
    "3. Carbon   reacts with Hydrogen = CH4\n",
    "\n",
    "(C,H,O) = (45,11,100)\n",
    "return no. of water, carbon dioxide and methane molecules\n",
    "Output should be like:\n",
    "(5,45,0)"
   ],
   "cell_type": "markdown",
   "metadata": {}
  },
  {
   "cell_type": "code",
   "execution_count": 18,
   "metadata": {},
   "outputs": [],
   "source": [
    "# Make sure you follow the order of reaction\n",
    "# output should be H2O,CO2,CH4\n",
    "def burner(c,h,o):\n",
    "    water = min( h//2, o )\n",
    "    co2 = min( c, (o-water)//2)\n",
    "    methane = min(c - co2, (h - (2*water))//4)\n",
    "    return water,co2,methane"
   ]
  },
  {
   "cell_type": "code",
   "execution_count": null,
   "metadata": {},
   "outputs": [],
   "source": []
  }
 ]
}
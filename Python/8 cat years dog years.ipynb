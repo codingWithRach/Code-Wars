{
 "metadata": {
  "language_info": {
   "codemirror_mode": {
    "name": "ipython",
    "version": 3
   },
   "file_extension": ".py",
   "mimetype": "text/x-python",
   "name": "python",
   "nbconvert_exporter": "python",
   "pygments_lexer": "ipython3",
   "version": 3
  },
  "orig_nbformat": 4
 },
 "nbformat": 4,
 "nbformat_minor": 2,
 "cells": [
  {
   "source": [
    "I have a cat and a dog.\n",
    "\n",
    "I got them at the same time as kitten/puppy. That was humanYears years ago.\n",
    "\n",
    "Return their respective ages now as [humanYears,catYears,dogYears]\n",
    "\n",
    "NOTES:\n",
    "\n",
    "    humanYears >= 1\n",
    "    humanYears are whole numbers only\n",
    "\n",
    "Cat Years\n",
    "\n",
    "    15 cat years for first year\n",
    "    +9 cat years for second year\n",
    "    +4 cat years for each year after that\n",
    "\n",
    "Dog Years\n",
    "\n",
    "    15 dog years for first year\n",
    "    +9 dog years for second year\n",
    "    +5 dog years for each year after that\n"
   ],
   "cell_type": "markdown",
   "metadata": {}
  },
  {
   "cell_type": "code",
   "execution_count": null,
   "metadata": {},
   "outputs": [],
   "source": [
    "def human_years_cat_years_dog_years(human_years):\n",
    "    cat_years = 15\n",
    "    if human_years > 1:\n",
    "        cat_years += 9\n",
    "    dog_years = cat_years\n",
    "    if human_years > 2:\n",
    "        cat_years += (4 * (human_years - 2))\n",
    "        dog_years += (5 * (human_years - 2))\n",
    "    return [human_years,cat_years,dog_years]"
   ]
  }
 ]
}
{
 "metadata": {
  "language_info": {
   "codemirror_mode": {
    "name": "ipython",
    "version": 3
   },
   "file_extension": ".py",
   "mimetype": "text/x-python",
   "name": "python",
   "nbconvert_exporter": "python",
   "pygments_lexer": "ipython3",
   "version": 3
  },
  "orig_nbformat": 2
 },
 "nbformat": 4,
 "nbformat_minor": 2,
 "cells": [
  {
   "source": [
    "# Task\n",
    "\n",
    "A rectangle with sides equal to even integers a and b is drawn on the Cartesian plane. Its center (the intersection point of its diagonals) coincides with the point (0, 0), but the sides of the rectangle are not parallel to the axes; instead, they are forming 45 degree angles with the axes.\n",
    "\n",
    "How many points with integer coordinates are located inside the given rectangle (including on its sides)?\n",
    "\n",
    "# Example\n",
    "\n",
    "For a = 6 and b = 4, the output should be 23\n",
    "\n",
    "The following picture illustrates the example, and the 23 points are marked green.\n",
    "\n",
    "# Input/Output\n",
    "\n",
    "    [input] integer a\n",
    "\n",
    "    A positive even integer.\n",
    "\n",
    "    Constraints: 2 ≤ a ≤ 10000.\n",
    "\n",
    "    [input] integer b\n",
    "\n",
    "    A positive even integer.\n",
    "\n",
    "    Constraints: 2 ≤ b ≤ 10000.\n",
    "\n",
    "    [output] an integer\n",
    "\n",
    "    The number of inner points with integer coordinates.\n",
    "\n"
   ],
   "cell_type": "markdown",
   "metadata": {}
  },
  {
   "cell_type": "code",
   "execution_count": null,
   "metadata": {},
   "outputs": [],
   "source": [
    "def rectangle_rotation(a, b):\n",
    "    x = (a/(2**0.5))//1\n",
    "    y = (b/(2**0.5))//1\n",
    "    result = ((x+1)*(y+1)) + (x*y)\n",
    "    if result % 2 == 0:\n",
    "        result -= 1\n",
    "    return int(result)"
   ]
  }
 ]
}
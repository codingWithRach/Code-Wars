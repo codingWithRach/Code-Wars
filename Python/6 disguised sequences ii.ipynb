{
 "metadata": {
  "language_info": {
   "codemirror_mode": {
    "name": "ipython",
    "version": 3
   },
   "file_extension": ".py",
   "mimetype": "text/x-python",
   "name": "python",
   "nbconvert_exporter": "python",
   "pygments_lexer": "ipython3",
   "version": "3.8.5"
  },
  "orig_nbformat": 2,
  "kernelspec": {
   "name": "python385jvsc74a57bd0a6d5379567e5c9aa2d153209ef4a1d00a383d1ae7f32ebada2471f125a521807",
   "display_name": "Python 3.8.5 64-bit ('base': conda)"
  }
 },
 "nbformat": 4,
 "nbformat_minor": 2,
 "cells": [
  {
   "source": [
    "Let us define two sums v(n, p) and u(n, p):\n",
    "\n",
    "v(n,p)=∑k=0n(−1)k×p×4n−k×(2n−kk)v(n,p) = \\sum_{k=0}^n (-1)^k \\times p \\times 4^{n-k} \\times {2n - k \\choose k}v(n,p)=∑k=0n​(−1)k×p×4n−k×(k2n−k​)\n",
    "\n",
    "u(n,p)=∑k=0n(−1)k×p×4n−k×(2n−k+1k)u(n,p) = \\sum_{k=0}^n (-1)^k \\times p \\times 4^{n-k} \\times {2n - k + 1 \\choose k}u(n,p)=∑k=0n​(−1)k×p×4n−k×(k2n−k+1​)\n",
    "\n",
    "# Task:\n",
    "1. Calculate v(n, p) and u(n, p) with two brute-force functions v1(n, p) and u1(n, p).\n",
    "2. Try v1(n, p) and u1(n, p) for small values of n and p and guess the results of u(n, p) and v(n, p)\n",
    "3. Using 2) write v_eff(n, p) and u_eff(n, p) (or vEff(n, p) and uEff(n, p) or v-eff(n, p) and u-eff(n, p)) to efficiently calculate v and u for bigger values of n and p.\n",
    "\n",
    "# Examples:\n",
    "v1(12, 70) --> 1750\n",
    "\n",
    "u1(13, 18) --> 252\n",
    "\n",
    "# Extra points:-)\n",
    "For the mathy ones: find a relation between v(n, p), v(n-1, p) and u(n-1, p) :-)\n",
    "\n",
    "# Notes\n",
    "- If you have found u_eff(n, p) and v_eff(n, p) you can use them to calculate u(n, p) and v(n, p).\n",
    "- You could see: https://en.wikipedia.org/wiki/Binomial_coefficient for a refresh about binomial coefficients.\n"
   ],
   "cell_type": "markdown",
   "metadata": {}
  },
  {
   "cell_type": "code",
   "execution_count": 29,
   "metadata": {},
   "outputs": [],
   "source": [
    "from math import factorial\n",
    "def bin_coeff(a, b):\n",
    "    return int(factorial(a) / (factorial(b) * factorial(a-b)))"
   ]
  },
  {
   "cell_type": "code",
   "execution_count": 33,
   "metadata": {},
   "outputs": [],
   "source": [
    "def v1(n, p):\n",
    "    result = 0\n",
    "    for k in range(n+1):\n",
    "        result += (-1)**k * p * 4**(n-k) * bin_coeff((2*n)-k, k)\n",
    "    return result"
   ]
  },
  {
   "cell_type": "code",
   "execution_count": 34,
   "metadata": {},
   "outputs": [
    {
     "output_type": "execute_result",
     "data": {
      "text/plain": [
       "1750"
      ]
     },
     "metadata": {},
     "execution_count": 34
    }
   ],
   "source": [
    "v1(12,70) #1750"
   ]
  },
  {
   "cell_type": "code",
   "execution_count": 35,
   "metadata": {},
   "outputs": [],
   "source": [
    "def u1(n, p):\n",
    "    result = 0\n",
    "    for k in range(n+1):\n",
    "        result += (-1)**k * p * 4**(n-k) * bin_coeff((2*n)-k+1, k)\n",
    "    return result"
   ]
  },
  {
   "cell_type": "code",
   "execution_count": 36,
   "metadata": {},
   "outputs": [
    {
     "output_type": "execute_result",
     "data": {
      "text/plain": [
       "252"
      ]
     },
     "metadata": {},
     "execution_count": 36
    }
   ],
   "source": [
    "u1(13,18) #252"
   ]
  },
  {
   "cell_type": "code",
   "execution_count": 47,
   "metadata": {},
   "outputs": [],
   "source": [
    "def v_eff(n, p):\n",
    "    return u_eff(2*n,p)"
   ]
  },
  {
   "cell_type": "code",
   "execution_count": 48,
   "metadata": {},
   "outputs": [],
   "source": [
    "def u_eff(n, p):\n",
    "    return p * (n+1)"
   ]
  },
  {
   "cell_type": "code",
   "execution_count": 49,
   "metadata": {},
   "outputs": [
    {
     "output_type": "execute_result",
     "data": {
      "text/plain": [
       "1750"
      ]
     },
     "metadata": {},
     "execution_count": 49
    }
   ],
   "source": [
    "v_eff(12,70)"
   ]
  },
  {
   "cell_type": "code",
   "execution_count": 50,
   "metadata": {},
   "outputs": [
    {
     "output_type": "execute_result",
     "data": {
      "text/plain": [
       "252"
      ]
     },
     "metadata": {},
     "execution_count": 50
    }
   ],
   "source": [
    "u_eff(13,18)"
   ]
  },
  {
   "cell_type": "code",
   "execution_count": null,
   "metadata": {},
   "outputs": [],
   "source": []
  }
 ]
}
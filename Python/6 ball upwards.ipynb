{
 "cells": [
  {
   "cell_type": "markdown",
   "metadata": {},
   "source": [
    "You throw a ball vertically upwards with an initial speed v (in km per hour). The height h of the ball at each time t is given by h = v*t - 0.5*g*t*t where g is Earth's gravity (g ~ 9.81 m/s**2). A device is recording at every tenth of second the height of the ball. For example with v = 15 km/h the device gets something of the following form: (0, 0.0), (1, 0.367...), (2, 0.637...), (3, 0.808...), (4, 0.881..) ... where the first number is the time in tenth of second and the second number the height in meter.\r\n",
    "\r\n",
    "Task\r\n",
    "\r\n",
    "Write a function max_ball with parameter v (in km per hour) that returns the time in tenth of second of the maximum height recorded by the device.\r\n",
    "\r\n",
    "Examples:\r\n",
    "\r\n",
    "max_ball(15) should return 4\r\n",
    "max_ball(25) should return 7\r\n",
    "\r\n",
    "Notes\r\n",
    "    - Remember to convert the velocity from km/h to m/s or from m/s in km/h when necessary.\r\n",
    "    - The maximum height recorded by the device is not necessarily the maximum height reached by the ball."
   ]
  },
  {
   "cell_type": "code",
   "execution_count": 48,
   "metadata": {},
   "outputs": [],
   "source": [
    "def get_height(v, g, t):\r\n",
    "    return (v * t) - (0.5 * g * t * t)"
   ]
  },
  {
   "cell_type": "code",
   "execution_count": 65,
   "metadata": {},
   "outputs": [],
   "source": [
    "def max_ball(v0):\r\n",
    "    g = 9.81                # m/s**2\r\n",
    "    v = v0 * 1000 / 3600    # convert from km/h to m/s\r\n",
    "\r\n",
    "    # for a quadratic equation, t value at vertex of parabola is given by -b/2a where a is coefficient of the t**2 term (i.e. -0.5g) and b is the coefficient of the t term (i.e. v)\r\n",
    "    t = v/g\r\n",
    "\r\n",
    "    # the t value at the max height may not be at a multiple of tenths of a second\r\n",
    "    # need to find out whether the height is greater at the floor or ceiling value of t\r\n",
    "    floor_height = get_height(v,g,(int(t*10))/10)\r\n",
    "    ceil_height = get_height(v,g,(int((t+0.1)*10))/10)\r\n",
    "    if floor_height > ceil_height:\r\n",
    "        return int(10 * t)\r\n",
    "    else:\r\n",
    "        return int(10 * (t + 0.1))"
   ]
  },
  {
   "cell_type": "code",
   "execution_count": 66,
   "metadata": {},
   "outputs": [
    {
     "data": {
      "text/plain": [
       "4"
      ]
     },
     "execution_count": 66,
     "metadata": {},
     "output_type": "execute_result"
    }
   ],
   "source": [
    "max_ball(15)"
   ]
  },
  {
   "cell_type": "code",
   "execution_count": 67,
   "metadata": {},
   "outputs": [
    {
     "data": {
      "text/plain": [
       "7"
      ]
     },
     "execution_count": 67,
     "metadata": {},
     "output_type": "execute_result"
    }
   ],
   "source": [
    "max_ball(25)"
   ]
  },
  {
   "cell_type": "code",
   "execution_count": 68,
   "metadata": {},
   "outputs": [
    {
     "data": {
      "text/plain": [
       "10"
      ]
     },
     "execution_count": 68,
     "metadata": {},
     "output_type": "execute_result"
    }
   ],
   "source": [
    "max_ball(37)"
   ]
  }
 ],
 "metadata": {
  "interpreter": {
   "hash": "e9440e5d603c35774c62af017100812874226e35d1790890ccf27e7cab51d293"
  },
  "kernelspec": {
   "display_name": "Python 3.9.0 64-bit",
   "name": "python3"
  },
  "language_info": {
   "codemirror_mode": {
    "name": "ipython",
    "version": 3
   },
   "file_extension": ".py",
   "mimetype": "text/x-python",
   "name": "python",
   "nbconvert_exporter": "python",
   "pygments_lexer": "ipython3",
   "version": "3.9.0"
  },
  "orig_nbformat": 2
 },
 "nbformat": 4,
 "nbformat_minor": 2
}
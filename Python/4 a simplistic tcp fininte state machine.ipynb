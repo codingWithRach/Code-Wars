{
 "metadata": {
  "language_info": {
   "codemirror_mode": {
    "name": "ipython",
    "version": 3
   },
   "file_extension": ".py",
   "mimetype": "text/x-python",
   "name": "python",
   "nbconvert_exporter": "python",
   "pygments_lexer": "ipython3",
   "version": "3.9.0"
  },
  "orig_nbformat": 2,
  "kernelspec": {
   "name": "python390jvsc74a57bd0e9440e5d603c35774c62af017100812874226e35d1790890ccf27e7cab51d293",
   "display_name": "Python 3.9.0 64-bit"
  },
  "metadata": {
   "interpreter": {
    "hash": "e9440e5d603c35774c62af017100812874226e35d1790890ccf27e7cab51d293"
   }
  }
 },
 "nbformat": 4,
 "nbformat_minor": 2,
 "cells": [
  {
   "source": [
    "Automatons, or Finite State Machines (FSM), are extremely useful to programmers when it comes to software design. You will be given a simplistic version of an FSM to code for a basic TCP session.\n",
    "\n",
    "The outcome of this exercise will be to return the correct state of the TCP FSM based on the array of events given.\n",
    "\n",
    "The input array of events will consist of one or more of the following strings:\n",
    "\n",
    "APP_PASSIVE_OPEN, APP_ACTIVE_OPEN, APP_SEND, APP_CLOSE, APP_TIMEOUT, RCV_SYN, RCV_ACK, RCV_SYN_ACK, RCV_FIN, RCV_FIN_ACK\n",
    "\n",
    "The states are as follows and should be returned in all capital letters as shown:\n",
    "\n",
    "CLOSED, LISTEN, SYN_SENT, SYN_RCVD, ESTABLISHED, CLOSE_WAIT, LAST_ACK, FIN_WAIT_1, FIN_WAIT_2, CLOSING, TIME_WAIT\n",
    "\n",
    "The input will be an array of events. Your job is to traverse the FSM as determined by the events, and return the proper state as a string, all caps, as shown above.\n",
    "\n",
    "If an event is not applicable to the current state, your code will return \"ERROR\".\n",
    "Action of each event upon each state:\n",
    "\n",
    "(the format is INITIAL_STATE: EVENT -> NEW_STATE)\n",
    "\n",
    "CLOSED: APP_PASSIVE_OPEN -> LISTEN\n",
    "CLOSED: APP_ACTIVE_OPEN  -> SYN_SENT\n",
    "LISTEN: RCV_SYN          -> SYN_RCVD\n",
    "LISTEN: APP_SEND         -> SYN_SENT\n",
    "LISTEN: APP_CLOSE        -> CLOSED\n",
    "SYN_RCVD: APP_CLOSE      -> FIN_WAIT_1\n",
    "SYN_RCVD: RCV_ACK        -> ESTABLISHED\n",
    "SYN_SENT: RCV_SYN        -> SYN_RCVD\n",
    "SYN_SENT: RCV_SYN_ACK    -> ESTABLISHED\n",
    "SYN_SENT: APP_CLOSE      -> CLOSED\n",
    "ESTABLISHED: APP_CLOSE   -> FIN_WAIT_1\n",
    "ESTABLISHED: RCV_FIN     -> CLOSE_WAIT\n",
    "FIN_WAIT_1: RCV_FIN      -> CLOSING\n",
    "FIN_WAIT_1: RCV_FIN_ACK  -> TIME_WAIT\n",
    "FIN_WAIT_1: RCV_ACK      -> FIN_WAIT_2\n",
    "CLOSING: RCV_ACK         -> TIME_WAIT\n",
    "FIN_WAIT_2: RCV_FIN      -> TIME_WAIT\n",
    "TIME_WAIT: APP_TIMEOUT   -> CLOSED\n",
    "CLOSE_WAIT: APP_CLOSE    -> LAST_ACK\n",
    "LAST_ACK: RCV_ACK        -> CLOSED\n",
    "\n",
    "\"EFSM TCP\"\n",
    "# Examples\n",
    "\n",
    "[\"APP_PASSIVE_OPEN\", \"APP_SEND\", \"RCV_SYN_ACK\"] =>  \"ESTABLISHED\"\n",
    "\n",
    "[\"APP_ACTIVE_OPEN\"] =>  \"SYN_SENT\"\n",
    "\n",
    "[\"APP_ACTIVE_OPEN\", \"RCV_SYN_ACK\", \"APP_CLOSE\", \"RCV_FIN_ACK\", \"RCV_ACK\"] =>  \"ERROR\"\n",
    "\n",
    "This kata is similar to Design a Simple Automaton (Finite State Machine), and you may wish to try that kata before tackling this one.\n",
    "\n",
    "See wikipedia page Transmission Control Protocol for further details.\n",
    "\n",
    "See http://www.medianet.kent.edu/techreports/TR2005-07-22-tcp-EFSM.pdf page 4, for the FSM diagram used for this kata.\n"
   ],
   "cell_type": "markdown",
   "metadata": {}
  },
  {
   "cell_type": "code",
   "execution_count": 18,
   "metadata": {},
   "outputs": [],
   "source": [
    "def get_new_state(current_state, action):\n",
    "    if current_state == 'CLOSED':\n",
    "        if action == 'APP_PASSIVE_OPEN':\n",
    "            return 'LISTEN'\n",
    "        elif action == 'APP_ACTIVE_OPEN':\n",
    "            return 'SYN_SENT'\n",
    "        else:\n",
    "            return 'ERROR'\n",
    "\n",
    "    if action == 'RCV_SYN':\n",
    "        if current_state in ('LISTEN', 'SYN_SENT'):\n",
    "            return 'SYN_RCVD'\n",
    "        else:\n",
    "            return 'ERROR'\n",
    "\n",
    "    if action == 'APP_CLOSE':\n",
    "        if current_state in ('LISTEN', 'SYN_SENT'):\n",
    "            return 'CLOSED'\n",
    "        elif current_state in ('SYN_RCVD', 'ESTABLISHED'):\n",
    "            return 'FIN_WAIT_1'\n",
    "        elif current_state == 'CLOSE_WAIT':\n",
    "            return 'LAST_ACK'\n",
    "        else:\n",
    "            return 'ERROR'\n",
    "\n",
    "    if current_state == 'FIN_WAIT_1':\n",
    "        if action == 'RCV_FIN':\n",
    "            return 'CLOSING'\n",
    "        elif action == 'RCV_FIN_ACK':\n",
    "            return 'TIME_WAIT'\n",
    "        elif action == 'RCV_ACK':\n",
    "            return 'FIN_WAIT_2'\n",
    "        else:\n",
    "            return 'ERROR'\n",
    "\n",
    "    if action == 'RCV_ACK':\n",
    "        if current_state == 'SYN_RCVD':\n",
    "            return 'ESTABLISHED'\n",
    "        elif current_state == 'CLOSING':\n",
    "            return 'TIME_WAIT'\n",
    "        elif current_state == 'LAST_ACK':\n",
    "            return 'CLOSED'\n",
    "        else:\n",
    "            return 'ERROR'\n",
    "\n",
    "    if action == 'RCV_FIN':\n",
    "        if current_state == 'ESTABLISHED':\n",
    "            return 'CLOSE_WAIT'\n",
    "        elif current_state == 'FIN_WAIT_2':\n",
    "            return 'TIME_WAIT'\n",
    "        else:\n",
    "            return 'ERROR'\n",
    "\n",
    "    if current_state == 'LISTEN':\n",
    "        if action == 'APP_SEND':\n",
    "            return 'SYN_SENT'\n",
    "        else:\n",
    "            return 'ERROR'\n",
    "\n",
    "    if current_state == 'SYN_SENT':\n",
    "        if action == 'RCV_SYN_ACK':\n",
    "            return 'ESTABLISHED'\n",
    "        else:\n",
    "            return 'ERROR'\n",
    "\n",
    "    if current_state == 'TIME_WAIT':\n",
    "        if action == 'APP_TIMEOUT':\n",
    "            return 'CLOSED'\n",
    "        else:\n",
    "            return 'ERROR'\n",
    "\n",
    "    return 'ERROR'"
   ]
  },
  {
   "cell_type": "code",
   "execution_count": 19,
   "metadata": {},
   "outputs": [],
   "source": [
    "def traverse_TCP_states(events):\n",
    "    state = \"CLOSED\"  # initial state, always\n",
    "    for entry in events:\n",
    "        state = get_new_state(state, entry)\n",
    "        if state == 'ERROR':\n",
    "            return state\n",
    "    return state"
   ]
  },
  {
   "cell_type": "code",
   "execution_count": 20,
   "metadata": {},
   "outputs": [
    {
     "output_type": "execute_result",
     "data": {
      "text/plain": [
       "'CLOSE_WAIT'"
      ]
     },
     "metadata": {},
     "execution_count": 20
    }
   ],
   "source": [
    "traverse_TCP_states([\"APP_ACTIVE_OPEN\",\"RCV_SYN_ACK\",\"RCV_FIN\"])\n",
    "# CLOSE_WAIT"
   ]
  },
  {
   "cell_type": "code",
   "execution_count": null,
   "metadata": {},
   "outputs": [],
   "source": []
  }
 ]
}
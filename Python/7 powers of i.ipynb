{
 "metadata": {
  "language_info": {
   "codemirror_mode": {
    "name": "ipython",
    "version": 3
   },
   "file_extension": ".py",
   "mimetype": "text/x-python",
   "name": "python",
   "nbconvert_exporter": "python",
   "pygments_lexer": "ipython3",
   "version": 3
  },
  "orig_nbformat": 2
 },
 "nbformat": 4,
 "nbformat_minor": 2,
 "cells": [
  {
   "source": [
    "i is the imaginary unit, it is defined by i²=−1, therefore it is a solution to x²+1=0.\n",
    "# Your Task\n",
    "Complete the function pofi that returns i to the power of a given non-negative integer in its simplest form, as a string (answer may contain i)."
   ],
   "cell_type": "markdown",
   "metadata": {}
  },
  {
   "cell_type": "code",
   "execution_count": null,
   "metadata": {},
   "outputs": [],
   "source": [
    "def pofi(n):\n",
    "    return ['1', 'i', '-1', '-i'][n%4]"
   ]
  }
 ]
}
{
 "metadata": {
  "language_info": {
   "codemirror_mode": {
    "name": "ipython",
    "version": 3
   },
   "file_extension": ".py",
   "mimetype": "text/x-python",
   "name": "python",
   "nbconvert_exporter": "python",
   "pygments_lexer": "ipython3",
   "version": "3.8.5-final"
  },
  "orig_nbformat": 2,
  "kernelspec": {
   "name": "python3",
   "display_name": "Python 3",
   "language": "python"
  }
 },
 "nbformat": 4,
 "nbformat_minor": 2,
 "cells": [
  {
   "source": [
    "In this kata your task is to differentiate a mathematical expression given as a string in prefix notation. The result should be the derivative of the expression returned in prefix notation.\n",
    "\n",
    "To simplify things we will use a simple list format made up of parentesis and spaces.\n",
    "\n",
    "    The expression format is (func arg1) or (op arg1 arg2) where op means operator, func means function and arg1, arg2 are aguments to the operator or function. For example (+ x 1) or (cos x)\n",
    "\n",
    "    The expressions will always have balanced parentesis and with spaces between list items.\n",
    "\n",
    "    Expression operators, functions and arguments will all be lowercase.\n",
    "\n",
    "    Expressions are single variable expressions using x as the variable.\n",
    "\n",
    "    Expressions can have nested arguments at any depth for example (+ (* 1 x) (* 2 (+ x 1)))\n",
    "\n",
    "Examples of prefix notation in this format:\n",
    "\n",
    "(+ x 2)        // prefix notation version of x+2\n",
    "\n",
    "(* (+ x 3) 5)  // same as 5 * (x + 3)\n",
    "\n",
    "(cos (+ x 1))  // same as cos(x+1)\n",
    "\n",
    "(^ x 2)        // same as x^2 meaning x raised to power of 2\n",
    "\n",
    "The operators and functions you are required to implement are + - * / ^ cos sin tan exp ln where ^ means raised to power of. exp is the exponential function (same as e^x) and ln is the natural logarithm (base e).\n",
    "\n",
    "Example of input values and their derivatives:\n",
    "\n",
    "(* 1 x) => 1\n",
    "\n",
    "(^ x 3) => (* 3 (^ x 2))\n",
    "\n",
    "(cos x) => (* -1 (sin x))\n",
    "\n",
    "In addition to returning the derivative your solution must also do some simplifications of the result but only what is specified below.\n",
    "\n",
    "    The returned expression should not have unecessary 0 or 1 factors. For example it should not return (* 1 (+ x 1)) but simply the term (+ x 1) similarly it should not return (* 0 (+ x 1)) instead it should return just 0\n",
    "\n",
    "    Results with two constant values such as for example (+ 2 2) should be evaluated and returned as a single value 4\n",
    "\n",
    "    Any argument raised to the zero power should return 1 and if raised to 1 should return the same value or variable. For example (^ x 0) should return 1 and (^ x 1) should return x\n",
    "\n",
    "    No simplifactions are expected for functions like cos, sin, exp, ln... (but their arguments might require a simplification).\n",
    "\n",
    "Think recursively and build your answer according to the rules of derivation and sample test cases."
   ],
   "cell_type": "markdown",
   "metadata": {}
  },
  {
   "source": [
    "# NOTE that this is not an accepted answer as CodeWars does not allow sympy to be imported.  However, it was a useful exercise in converting between prefix notation and Python notation!\n",
    "\n",
    "I have not attempted any work on simplication of the entries, nor has my testing been exhaustive"
   ],
   "cell_type": "markdown",
   "metadata": {}
  },
  {
   "cell_type": "code",
   "execution_count": 340,
   "metadata": {},
   "outputs": [],
   "source": [
    "# join entries until the number of opening and closing brackets matches\n",
    "def join_entries(entries, i):\n",
    "    count_start_bracket = count_end_bracket = 0\n",
    "    arg = entry = entries[i]\n",
    "\n",
    "    # count the opening and closing brackets in the current entry\n",
    "    count_start_bracket += entry.count('(')\n",
    "    count_end_bracket += entry.count(')')\n",
    "    \n",
    "    while count_end_bracket < count_start_bracket and i < len(entries) - 1:\n",
    "        # increment the count with brackets in the next entry\n",
    "        count_start_bracket += entries[i+1].count('(')\n",
    "        count_end_bracket += entries[i+1].count(')')\n",
    "                   \n",
    "        # join this entry with the next and delete the merged entry\n",
    "        entries[i] = entries[i] + ' ' + entries[i+1]\n",
    "        del entries[i+1]\n",
    "        entry = entries[i]\n",
    "    # convert the merged entry from prefix notation into Python notation\n",
    "    arg = from_prefix_notation(entry)\n",
    "    return entries, arg"
   ]
  },
  {
   "cell_type": "code",
   "execution_count": 341,
   "metadata": {},
   "outputs": [],
   "source": [
    "def from_prefix_notation(s):\n",
    "    # if first character is ( and final character is ), remove both\n",
    "    if s[0] == '(' and s[-1] == ')':\n",
    "        s = s[1:-1]\n",
    "\n",
    "    # split argument at white space - if there's only one entry, no processing is needed\n",
    "    entries = s.split()\n",
    "    if len(entries) == 1:\n",
    "        return s\n",
    "\n",
    "    # process the entries to determine operator and arguments\n",
    "    arg = function = ''\n",
    "    i = 0\n",
    "    while i < len(entries):\n",
    "        entry = entries[i]\n",
    "        # if there's an opening bracket and it's not the first character, there must be a function\n",
    "        if entry.find('(') not in [-1, 0]:\n",
    "            function = entry[:entry.find('(')]\n",
    "            entry = entry[entry.find('('):]\n",
    "\n",
    "        # determine operator\n",
    "        if i % 3 == 0:\n",
    "            if entry[0] == '(':\n",
    "                operator = entry[1:]\n",
    "            else:\n",
    "                operator = entry\n",
    "            if operator == '^':\n",
    "                operator = '**'\n",
    "\n",
    "        # determine first argument - if it contains brackets, need to combine with the following\n",
    "        # entry/entries until the number of end brackets matches the number of start brackets\n",
    "        elif i % 3 == 1:\n",
    "            arg1 = entry\n",
    "            if entry.count('(') > 0:\n",
    "                entries, arg1 = join_entries(entries, i)\n",
    "            \n",
    "        # determine second argument - if it contains brackets, need to combine with the following\n",
    "        # entry/entries until the number of end brackets matches the number of start brackets\n",
    "        else:\n",
    "            arg2 = entry\n",
    "            if entry.count('(') > 0:\n",
    "                entries, arg2 = join_entries(entries, i)\n",
    "\n",
    "            # construct argument\n",
    "            arg = function + '(' + arg1 + ' ' + operator + ' ' + arg2\n",
    "            if len(function) == 0:\n",
    "                arg += ')'\n",
    "\n",
    "        # increment counter\n",
    "        i += 1\n",
    "\n",
    "    return arg"
   ]
  },
  {
   "cell_type": "code",
   "execution_count": 342,
   "metadata": {},
   "outputs": [],
   "source": [
    "def process_operator(s, operator):\n",
    "    arg = s\n",
    "    converted_arg = ''\n",
    "    pos = arg.find(operator)\n",
    "    if pos == -1:\n",
    "        return s\n",
    "\n",
    "    while pos != -1:\n",
    "        # work backwards from start of operator until finding another operator or the start of the string.  \n",
    "        # If an end bracket is found, we need to find the matching start bracket\n",
    "        substr = arg[:pos]\n",
    "        arg1 = substr\n",
    "        before = ''\n",
    "        function = ''\n",
    "        count_start_bracket = count_end_bracket = 0\n",
    "        for i in range(len(substr)-1, -1, -1):\n",
    "            if substr[i] in '*/+-' and count_end_bracket == 0:\n",
    "                arg1 = substr[i+1]\n",
    "                before = substr[:i+1]\n",
    "                break\n",
    "            elif substr[i] == ')':\n",
    "                count_end_bracket += 1\n",
    "            elif substr[i] == '(':\n",
    "                if ((count_start_bracket == count_end_bracket) or (count_start_bracket + 1 == count_end_bracket)) and (i>2 and substr[i-3:i] in ['sin', 'cos', 'tan', 'exp']) or (i>1 and substr[i-2:i] == 'ln'):\n",
    "                    function = 'ln'\n",
    "                    if substr[i-2:i] != function:\n",
    "                        function = substr[i-3:i]\n",
    "\n",
    "                    # if we haven't found an end bracket then the operator is inside the function call\n",
    "                    if count_end_bracket == 0:\n",
    "                        arg1 = substr[i+1:]\n",
    "                        before = substr[:i-len(function)]\n",
    "\n",
    "                    # otherwise the operator is after the function call\n",
    "                    else:\n",
    "                        arg1 = substr[i-len(function):]\n",
    "                        before = substr[:i-len(function)]\n",
    "                        function = ''\n",
    "                    break\n",
    "                else:\n",
    "                    function = ''\n",
    "                    count_start_bracket += 1\n",
    "                    if count_start_bracket == count_end_bracket:\n",
    "                        arg1 = substr[i:]\n",
    "                        before = substr[:1]\n",
    "                        count_start_bracket = count_end_bracket = 0\n",
    "                    \n",
    "        # work forwards from end of operator until finding another operator or the end of the string.  \n",
    "        # If a start bracket is found, we need to find the matching end bracket\n",
    "        substr = arg[pos+len(operator):]\n",
    "        arg2 = substr\n",
    "        after = ''\n",
    "        count_start_bracket = count_end_bracket = 0\n",
    "        for i in range(len(substr)):\n",
    "            if substr[i] in '*/+-':\n",
    "                arg2 = substr[:i]\n",
    "                after = substr[i:]\n",
    "                break\n",
    "            elif substr[i] == '(':\n",
    "                count_start_bracket += 1\n",
    "            elif substr[i] == ')':\n",
    "                count_end_bracket += 1\n",
    "                if count_end_bracket == count_start_bracket:\n",
    "                    arg2 = substr[:i+1]\n",
    "                    after = substr[i+1:]\n",
    "                    count_start_bracket = count_end_bracket = 0\n",
    "\n",
    "        # reconstruct this part of the argument using prefix notation\n",
    "        if operator == '**':\n",
    "            operator = '^'\n",
    "        if len(arg1) == 0:\n",
    "            arg1 = converted_arg\n",
    "            converted_arg = ''\n",
    "        converted_arg += before + ' ' + function + '(' + operator + ' ' + arg1 + ' ' + arg2 + ')'\n",
    "\n",
    "        # check if there's another instance of the operator\n",
    "        arg = after\n",
    "        pos = arg.find(operator)\n",
    "\n",
    "    # once no more instances of the operator found, append the remaining text to the string\n",
    "    converted_arg += arg\n",
    "\n",
    "    # return the string in prefix notation\n",
    "    return converted_arg"
   ]
  },
  {
   "cell_type": "code",
   "execution_count": 346,
   "metadata": {},
   "outputs": [],
   "source": [
    "def to_prefix_notation(s):\n",
    "\n",
    "    # operator with highest priority is **\n",
    "    s = process_operator(s, '**')\n",
    "\n",
    "    # operators with next highest priority are * and /\n",
    "    s = process_operator(s, '*')\n",
    "    s = process_operator(s, '/')\n",
    "\n",
    "    # operators with lowest priority are + and -\n",
    "    s = process_operator(s, '+')\n",
    "    s = process_operator(s, '-')\n",
    "    \n",
    "    return s"
   ]
  },
  {
   "cell_type": "code",
   "execution_count": 344,
   "metadata": {},
   "outputs": [],
   "source": [
    "def diff(s):\n",
    "    # convert prefix notation into python notation\n",
    "    converted = from_prefix_notation(s)\n",
    "\n",
    "    # differentiate the expression\n",
    "    import sympy as sym\n",
    "    result = str(sym.diff(converted))\n",
    "\n",
    "    # convert result back into prefix notation\n",
    "    return to_prefix_notation(result).strip().replace('  ', ' ')"
   ]
  },
  {
   "cell_type": "code",
   "execution_count": 347,
   "metadata": {},
   "outputs": [
    {
     "output_type": "execute_result",
     "data": {
      "text/plain": [
       "'exp(x)'"
      ]
     },
     "metadata": {},
     "execution_count": 347
    }
   ],
   "source": [
    "diff( 'exp(x)' )"
   ]
  },
  {
   "cell_type": "code",
   "execution_count": 348,
   "metadata": {},
   "outputs": [
    {
     "output_type": "execute_result",
     "data": {
      "text/plain": [
       "'(/ 1 x)'"
      ]
     },
     "metadata": {},
     "execution_count": 348
    }
   ],
   "source": [
    "diff( 'ln(x)')"
   ]
  },
  {
   "cell_type": "code",
   "execution_count": 349,
   "metadata": {},
   "outputs": [
    {
     "output_type": "execute_result",
     "data": {
      "text/plain": [
       "'(* 10 (^ x 4))'"
      ]
     },
     "metadata": {},
     "execution_count": 349
    }
   ],
   "source": [
    "diff('(* 2 (^ x 5))')"
   ]
  },
  {
   "cell_type": "code",
   "execution_count": 350,
   "metadata": {},
   "outputs": [
    {
     "output_type": "execute_result",
     "data": {
      "text/plain": [
       "'(* (* 2 x) cos(^ x 2)))'"
      ]
     },
     "metadata": {},
     "execution_count": 350
    }
   ],
   "source": [
    "diff('sin(^ x 2)')"
   ]
  },
  {
   "cell_type": "code",
   "execution_count": 351,
   "metadata": {},
   "outputs": [
    {
     "output_type": "execute_result",
     "data": {
      "text/plain": [
       "'(+ (^ tan(x) 2 ) 1)'"
      ]
     },
     "metadata": {},
     "execution_count": 351
    }
   ],
   "source": [
    "diff('tan(x)')"
   ]
  },
  {
   "cell_type": "code",
   "execution_count": null,
   "metadata": {},
   "outputs": [],
   "source": []
  }
 ]
}
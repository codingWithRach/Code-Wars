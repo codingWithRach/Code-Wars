{
 "metadata": {
  "language_info": {
   "codemirror_mode": {
    "name": "ipython",
    "version": 3
   },
   "file_extension": ".py",
   "mimetype": "text/x-python",
   "name": "python",
   "nbconvert_exporter": "python",
   "pygments_lexer": "ipython3",
   "version": "3.8.5"
  },
  "orig_nbformat": 2,
  "kernelspec": {
   "name": "python385jvsc74a57bd0a6d5379567e5c9aa2d153209ef4a1d00a383d1ae7f32ebada2471f125a521807",
   "display_name": "Python 3.8.5 64-bit ('base': conda)"
  }
 },
 "nbformat": 4,
 "nbformat_minor": 2,
 "cells": [
  {
   "source": [
    "In this Kata you must convert integers numbers from and to a negative-base binary system.\n",
    "\n",
    "Negative-base systems can accommodate all the same numbers as standard place-value systems, but both positive and negative numbers are represented without the use of a minus sign (or, in computer representation, a sign bit); this advantage is countered by an increased complexity of arithmetic operations.\n",
    "\n",
    "To help understand, the first eight digits (in decimal) of the Base(-2) system is:\n",
    "\n",
    "[1, -2, 4, -8, 16, -32, 64, -128]\n",
    "\n",
    "Example conversions:\n",
    "\n",
    "Decimal, negabinary\n",
    "\n",
    "- 6,   '11010'\n",
    "- -6,  '1110'\n",
    "- 4,   '100'\n",
    "- 18,  '10110'\n",
    "- -11, '110101'"
   ],
   "cell_type": "markdown",
   "metadata": {}
  },
  {
   "cell_type": "code",
   "execution_count": 59,
   "metadata": {},
   "outputs": [],
   "source": [
    "from math import ceil\n",
    "def int_to_negabinary(i):\n",
    "    if i == 0:\n",
    "        return '0'\n",
    "    int_div = i\n",
    "    result = ''\n",
    "    while int_div != 0:\n",
    "        remainder = abs(int_div % -2)\n",
    "        int_div = ceil(int_div / -2)\n",
    "        result = str(remainder) + result\n",
    "    return result"
   ]
  },
  {
   "cell_type": "code",
   "execution_count": 55,
   "metadata": {
    "tags": []
   },
   "outputs": [
    {
     "output_type": "execute_result",
     "data": {
      "text/plain": [
       "'11010'"
      ]
     },
     "metadata": {},
     "execution_count": 55
    }
   ],
   "source": [
    "int_to_negabinary(6) # 11010"
   ]
  },
  {
   "cell_type": "code",
   "execution_count": 48,
   "metadata": {},
   "outputs": [
    {
     "output_type": "execute_result",
     "data": {
      "text/plain": [
       "'1110'"
      ]
     },
     "metadata": {},
     "execution_count": 48
    }
   ],
   "source": [
    "int_to_negabinary(-6) # 1110"
   ]
  },
  {
   "cell_type": "code",
   "execution_count": 60,
   "metadata": {},
   "outputs": [
    {
     "output_type": "execute_result",
     "data": {
      "text/plain": [
       "'0'"
      ]
     },
     "metadata": {},
     "execution_count": 60
    }
   ],
   "source": [
    "int_to_negabinary(0)"
   ]
  },
  {
   "cell_type": "code",
   "execution_count": 56,
   "metadata": {},
   "outputs": [],
   "source": [
    "def negabinary_to_int(s):\n",
    "    i = result = 0\n",
    "    for char in s:\n",
    "        result += int(char) * (-2) ** (len(s) - i - 1)\n",
    "        i += 1\n",
    "    return result"
   ]
  },
  {
   "cell_type": "code",
   "execution_count": 57,
   "metadata": {},
   "outputs": [
    {
     "output_type": "execute_result",
     "data": {
      "text/plain": [
       "6"
      ]
     },
     "metadata": {},
     "execution_count": 57
    }
   ],
   "source": [
    "negabinary_to_int('11010') # 6"
   ]
  },
  {
   "cell_type": "code",
   "execution_count": 53,
   "metadata": {},
   "outputs": [
    {
     "output_type": "execute_result",
     "data": {
      "text/plain": [
       "-6"
      ]
     },
     "metadata": {},
     "execution_count": 53
    }
   ],
   "source": [
    "negabinary_to_int('1110') # -6"
   ]
  },
  {
   "cell_type": "code",
   "execution_count": 61,
   "metadata": {},
   "outputs": [
    {
     "output_type": "execute_result",
     "data": {
      "text/plain": [
       "0"
      ]
     },
     "metadata": {},
     "execution_count": 61
    }
   ],
   "source": [
    "negabinary_to_int('0')"
   ]
  },
  {
   "cell_type": "code",
   "execution_count": null,
   "metadata": {},
   "outputs": [],
   "source": []
  }
 ]
}
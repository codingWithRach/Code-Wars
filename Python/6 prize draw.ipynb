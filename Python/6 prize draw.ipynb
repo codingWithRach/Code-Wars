{
 "metadata": {
  "language_info": {
   "codemirror_mode": {
    "name": "ipython",
    "version": 3
   },
   "file_extension": ".py",
   "mimetype": "text/x-python",
   "name": "python",
   "nbconvert_exporter": "python",
   "pygments_lexer": "ipython3",
   "version": "3.8.5-final"
  },
  "orig_nbformat": 2,
  "kernelspec": {
   "name": "python3",
   "display_name": "Python 3",
   "language": "python"
  }
 },
 "nbformat": 4,
 "nbformat_minor": 2,
 "cells": [
  {
   "source": [
    "To participate in a prize draw each one gives his/her firstname.\n",
    "\n",
    "Each letter of a firstname has a value which is its rank in the English alphabet. A and a have rank 1, B and b rank 2 and so on.\n",
    "\n",
    "The length of the firstname is added to the sum of these ranks hence a number som.\n",
    "\n",
    "An array of random weights is linked to the firstnames and each som is multiplied by its corresponding weight to get what they call a winning number.\n",
    "Example:\n",
    "\n",
    "names: \"COLIN,AMANDBA,AMANDAB,CAROL,PauL,JOSEPH\"\n",
    "weights: [1, 4, 4, 5, 2, 1]\n",
    "\n",
    "PauL -> som = length of firstname + 16 + 1 + 21 + 12 = 4 + 50 -> 54\n",
    "The *weight* associated with PauL is 2 so PauL's *winning number* is 54 * 2 = 108.\n",
    "\n",
    "Now one can sort the firstnames in decreasing order of the winning numbers. When two people have the same winning number sort them alphabetically by their firstnames.\n",
    "Task:\n",
    "\n",
    "    parameters: st a string of firstnames, we an array of weights, n a rank\n",
    "\n",
    "    return: the firstname of the participant whose rank is n (ranks are numbered from 1)\n",
    "\n",
    "Example:\n",
    "\n",
    "names: \"COLIN,AMANDBA,AMANDAB,CAROL,PauL,JOSEPH\"\n",
    "weights: [1, 4, 4, 5, 2, 1]\n",
    "n: 4\n",
    "\n",
    "The function should return: \"PauL\"\n",
    "\n",
    "Notes:\n",
    "\n",
    "    The weight array is at least as long as the number of names, it may be longer.\n",
    "\n",
    "    If st is empty return \"No participants\".\n",
    "\n",
    "    If n is greater than the number of participants then return \"Not enough participants\".\n"
   ],
   "cell_type": "markdown",
   "metadata": {}
  },
  {
   "cell_type": "code",
   "execution_count": 139,
   "metadata": {},
   "outputs": [],
   "source": [
    "def rank(st, we, n):\n",
    "    # validation\n",
    "    if len(st) == 0:\n",
    "        return 'No participants'\n",
    "    names = st.split(',')\n",
    "    if n > len(names):\n",
    "        return 'Not enough participants'\n",
    "\n",
    "    # create list of winning numbers for list of names\n",
    "    alphabet = 'abcdefghijklmnopqrstuvwxyz'\n",
    "    winning_number = []\n",
    "    for i in range(len(names)):\n",
    "        firstname = names[i]\n",
    "        som = sum([alphabet.find(char.lower()) + 1 for char in firstname]) + len(firstname)\n",
    "        winning_number.append([som * we[i], firstname])\n",
    "\n",
    "    # sort by reverse rank and alphabetical order of name\n",
    "    winning_number.sort(key=lambda k: (-k[0], k[1]))\n",
    "\n",
    "    # return nth entry\n",
    "    return winning_number[n-1][1]"
   ]
  },
  {
   "cell_type": "code",
   "execution_count": 140,
   "metadata": {},
   "outputs": [
    {
     "output_type": "execute_result",
     "data": {
      "text/plain": [
       "'Matthew'"
      ]
     },
     "metadata": {},
     "execution_count": 140
    }
   ],
   "source": [
    "rank('Elijah,Chloe,Elizabeth,Matthew,Natalie,Jayden', [1, 3, 5, 5, 3, 6], 2)"
   ]
  },
  {
   "cell_type": "code",
   "execution_count": 141,
   "metadata": {},
   "outputs": [
    {
     "output_type": "execute_result",
     "data": {
      "text/plain": [
       "'Abigail'"
      ]
     },
     "metadata": {},
     "execution_count": 141
    }
   ],
   "source": [
    "rank('Aubrey,Olivai,Abigail,Chloe,Andrew,Elizabeth', [3, 1, 4, 4, 3, 2], 4)"
   ]
  },
  {
   "cell_type": "code",
   "execution_count": 142,
   "metadata": {},
   "outputs": [
    {
     "output_type": "execute_result",
     "data": {
      "text/plain": [
       "'Benjamin'"
      ]
     },
     "metadata": {},
     "execution_count": 142
    }
   ],
   "source": [
    "rank(\"Addison,Jayden,Sofia,Michael,Andrew,Lily,Benjamin\", [4, 2, 1, 4, 3, 1, 2], 4)"
   ]
  },
  {
   "cell_type": "code",
   "execution_count": null,
   "metadata": {},
   "outputs": [],
   "source": []
  }
 ]
}
{
 "metadata": {
  "language_info": {
   "codemirror_mode": {
    "name": "ipython",
    "version": 3
   },
   "file_extension": ".py",
   "mimetype": "text/x-python",
   "name": "python",
   "nbconvert_exporter": "python",
   "pygments_lexer": "ipython3",
   "version": "3.8.5-final"
  },
  "orig_nbformat": 2,
  "kernelspec": {
   "name": "python3",
   "display_name": "Python 3",
   "language": "python"
  }
 },
 "nbformat": 4,
 "nbformat_minor": 2,
 "cells": [
  {
   "source": [
    "In this kata you have to create all permutations of an input string and remove duplicates, if present. This means, you have to shuffle all letters from the input in all possible orders.\n",
    "\n",
    "Examples:\n",
    "\n",
    "permutations('a'); # 'a' \n",
    "permutations('ab'); # 'ab', 'ba' \n",
    "permutations('aabb'); # 'aabb', 'abab', 'abba', 'baab', 'baba', 'bbaa'\n",
    "\n",
    "The order of the permutations doesn't matter."
   ],
   "cell_type": "markdown",
   "metadata": {}
  },
  {
   "cell_type": "code",
   "execution_count": 132,
   "metadata": {},
   "outputs": [],
   "source": [
    "def get_permutations( start, input, output ):\n",
    "    new_list = input[:]\n",
    "    for char in start:\n",
    "        i = new_list.index(char)\n",
    "        if i != -1:\n",
    "            del new_list[i]\n",
    "\n",
    "    if len(new_list) == 1:\n",
    "        output.append(start + new_list[0])\n",
    "        return \n",
    "\n",
    "    for i in range(len(new_list)):\n",
    "        entry = new_list[i]\n",
    "        this_list = new_list[:]\n",
    "        del this_list[i]\n",
    "        get_permutations( start + entry, input, output )"
   ]
  },
  {
   "cell_type": "code",
   "execution_count": 136,
   "metadata": {},
   "outputs": [],
   "source": [
    "def permutations(string):\n",
    "    input = list(string)\n",
    "    output = []\n",
    "    get_permutations('', input, output)\n",
    "    # remove_duplicates\n",
    "    return list(dict.fromkeys(output))"
   ]
  }
 ]
}
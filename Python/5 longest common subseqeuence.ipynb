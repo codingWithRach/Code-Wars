{
 "metadata": {
  "language_info": {
   "codemirror_mode": {
    "name": "ipython",
    "version": 3
   },
   "file_extension": ".py",
   "mimetype": "text/x-python",
   "name": "python",
   "nbconvert_exporter": "python",
   "pygments_lexer": "ipython3",
   "version": "3.8.5-final"
  },
  "orig_nbformat": 2,
  "kernelspec": {
   "name": "python3",
   "display_name": "Python 3",
   "language": "python"
  }
 },
 "nbformat": 4,
 "nbformat_minor": 2,
 "cells": [
  {
   "source": [
    "Write a function called LCS that accepts two sequences and returns the longest subsequence common to the passed in sequences.\n",
    "Subsequence\n",
    "\n",
    "A subsequence is different from a substring. The terms of a subsequence need not be consecutive terms of the original sequence.\n",
    "Example subsequence\n",
    "\n",
    "Subsequences of \"abc\" = \"a\", \"b\", \"c\", \"ab\", \"ac\", \"bc\" and \"abc\".\n",
    "LCS examples\n",
    "\n",
    "lcs( \"abcdef\" , \"abc\" ) => returns \"abc\"\n",
    "lcs( \"abcdef\" , \"acf\" ) => returns \"acf\"\n",
    "lcs( \"132535365\" , \"123456789\" ) => returns \"12356\"\n",
    "\n",
    "Notes\n",
    "\n",
    "    Both arguments will be strings\n",
    "    Return value must be a string\n",
    "    Return an empty string if there exists no common subsequence\n",
    "    Both arguments will have one or more characters (in JavaScript)\n",
    "    All tests will only have a single longest common subsequence. Don't worry about cases such as LCS( \"1234\", \"3412\" ), which would have two possible longest common subsequences: \"12\" and \"34\"."
   ],
   "cell_type": "markdown",
   "metadata": {}
  },
  {
   "cell_type": "code",
   "execution_count": null,
   "metadata": {},
   "outputs": [],
   "source": [
    "def compare(x,y):\n",
    "    append = ''\n",
    "    for i in range(len(x)-1,-1,-1):\n",
    "        pos = y.rfind(x[i])\n",
    "        if pos != -1:\n",
    "            append = x[i] + append\n",
    "            y = y[:pos]\n",
    "    return append  "
   ]
  },
  {
   "cell_type": "code",
   "execution_count": 56,
   "metadata": {},
   "outputs": [],
   "source": [
    "def lcs(x, y):\n",
    "    # assume the LCS ends with the final character of x\n",
    "    append_x = compare(x,y)\n",
    "    # now assume the LCS ends with the final character of y\n",
    "    append_y = compare(y,x)\n",
    "    # return the longest of the two results\n",
    "    return max(append_x, append_y)"
   ]
  },
  {
   "cell_type": "code",
   "execution_count": null,
   "metadata": {},
   "outputs": [],
   "source": []
  }
 ]
}
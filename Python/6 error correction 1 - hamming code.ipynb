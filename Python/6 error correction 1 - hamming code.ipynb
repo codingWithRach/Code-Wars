{
 "metadata": {
  "language_info": {
   "codemirror_mode": {
    "name": "ipython",
    "version": 3
   },
   "file_extension": ".py",
   "mimetype": "text/x-python",
   "name": "python",
   "nbconvert_exporter": "python",
   "pygments_lexer": "ipython3",
   "version": "3.8.5-final"
  },
  "orig_nbformat": 2,
  "kernelspec": {
   "name": "python3",
   "display_name": "Python 3",
   "language": "python"
  }
 },
 "nbformat": 4,
 "nbformat_minor": 2,
 "cells": [
  {
   "source": [
    "# Background information\n",
    "\n",
    "The Hamming Code is used to correct errors, so-called bit flips, in data transmissions. Later in the description follows a detailed explanation of how it works.\n",
    "In this Kata we will implement the Hamming Code with bit length 3; this has some advantages and disadvantages:\n",
    "\n",
    "    [ + ] It's simple to implement\n",
    "    [ + ] Compared to other versions of hamming code, we can correct more mistakes\n",
    "    [ - ] The size of the input triples\n",
    "\n",
    "# Task 1: Encode function\n",
    "\n",
    "Implement the encode function, using the following steps:\n",
    "\n",
    "    convert every letter of the text to its ASCII value;\n",
    "    convert ASCII values to 8-bit binary;\n",
    "    triple every bit;\n",
    "    concatenate the result;\n",
    "\n",
    "For example:\n",
    "\n",
    "input: \"hey\"\n",
    "--> 104, 101, 121                  // ASCII values\n",
    "--> 01101000, 01100101, 01111001   // binary\n",
    "--> 000111111000111000000000 000111111000000111000111 000111111111111000000111  // tripled\n",
    "--> \"000111111000111000000000000111111000000111000111000111111111111000000111\"  // concatenated\n",
    "\n",
    "# Task 2: Decode function:\n",
    "\n",
    "Check if any errors happened and correct them. Errors will be only bit flips, and not a loss of bits:\n",
    "\n",
    "    111 --> 101 : this can and will happen\n",
    "    111 --> 11 : this cannot happen\n",
    "\n",
    "Note: the length of the input string is also always divisible by 24 so that you can convert it to an ASCII value.\n",
    "\n",
    "Steps:\n",
    "\n",
    "    Split the input into groups of three characters;\n",
    "    Check if an error occurred: replace each group with the character that occurs most often, e.g. 010 --> 0, 110 --> 1, etc;\n",
    "    Take each group of 8 characters and convert that binary number;\n",
    "    Convert the binary values to decimal (ASCII);\n",
    "    Convert the ASCII values to characters and concatenate the result\n",
    "\n",
    "For example:\n",
    "\n",
    "input: \"100111111000111001000010000111111000000111001111000111110110111000010111\"\n",
    "--> 100, 111, 111, 000, 111, 001, ...  // triples\n",
    "-->  0,   1,   1,   0,   1,   0,  ...  // corrected bits\n",
    "--> 01101000, 01100101, 01111001       // bytes\n",
    "--> 104, 101, 121                      // ASCII values\n",
    "--> \"hey\""
   ],
   "cell_type": "markdown",
   "metadata": {}
  },
  {
   "cell_type": "code",
   "execution_count": 73,
   "metadata": {},
   "outputs": [],
   "source": [
    "def encode(string):\n",
    "    converted = bits = ''\n",
    "    for char in string:    \n",
    "        converted += '{0:08b}'.format(ord(char))\n",
    "    for digit in converted:\n",
    "        bits += digit * 3\n",
    "    return bits"
   ]
  },
  {
   "cell_type": "code",
   "execution_count": 78,
   "metadata": {},
   "outputs": [],
   "source": [
    "def decode(bits):\n",
    "    pos = 0\n",
    "    byte = string = ''\n",
    "    while pos < len(bits)-2:\n",
    "        byte += str((int(bits[pos:pos+1])+int(bits[pos+1:pos+2])+int(bits[pos+2:pos+3]))//2)\n",
    "        if len(byte) == 8:\n",
    "            string += chr(int(byte, 2))\n",
    "            byte = ''\n",
    "        pos += 3\n",
    "    return string"
   ]
  },
  {
   "cell_type": "code",
   "execution_count": 79,
   "metadata": {},
   "outputs": [
    {
     "output_type": "execute_result",
     "data": {
      "text/plain": [
       "'000111000111000111000000000111111000111000000000000111111000000111000111000000111000000000000000000111000111000000111111000111111000000111000111000111111000111111111000000111111111000000111111000111111000000111000111000111111000111000000111000000111000000000000000000111111111000111000000000111111000111111111111000111111000111111000000000111111000000111000000000000111000000000000000000111111000111111000111000111111000000111000111000000111000000000000000000111111111000111000000000111111000111000000000000111111000000000000111000111111111000111000000000000111000000000000000000111111000111000000111000000111000000000000000000111111000000000111111000111111000000000000111000111111000111111111000000000111000000000000000000111111000000111000000000111111000111111111111000000111000000000000000000111111111000111000000000111111000111000000000000111111000111000000111000111111111000000111111000000111000000000000000000111111000111000111111000111111000000000000111000111111111000111000000000111111000000000000111'"
      ]
     },
     "metadata": {},
     "execution_count": 79
    }
   ],
   "source": [
    "encode('The Sensei told me that i can do this kata')"
   ]
  },
  {
   "cell_type": "code",
   "execution_count": 80,
   "metadata": {},
   "outputs": [
    {
     "output_type": "execute_result",
     "data": {
      "text/plain": [
       "'The Sensei told me that i can do this kata'"
      ]
     },
     "metadata": {},
     "execution_count": 80
    }
   ],
   "source": [
    "decode(encode('The Sensei told me that i can do this kata'))"
   ]
  },
  {
   "cell_type": "code",
   "execution_count": null,
   "metadata": {},
   "outputs": [],
   "source": []
  }
 ]
}
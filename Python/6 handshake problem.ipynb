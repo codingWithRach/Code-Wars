{
 "cells": [
  {
   "cell_type": "markdown",
   "source": [
    "Johnny is a farmer and he annually holds a beet farmers convention \"Drop the beet\".\r\n",
    "\r\n",
    "Every year he takes photos of farmers handshaking. Johnny knows that no two farmers handshake more than once. He also knows that some of the possible handshake combinations may not happen.\r\n",
    "\r\n",
    "However, Johnny would like to know the minimal amount of people that participated this year just by counting all the handshakes.\r\n",
    "\r\n",
    "Help Johnny by writing a function, that takes the amount of handshakes and returns the minimal amount of people needed to perform these handshakes (a pair of farmers handshake only once)."
   ],
   "metadata": {}
  },
  {
   "cell_type": "code",
   "execution_count": 63,
   "source": [
    "def get_participants(handshakes):\r\n",
    "    farmers = 1\r\n",
    "    while sum([i for i in range(farmers)]) < handshakes:\r\n",
    "        farmers += 1\r\n",
    "    return farmers"
   ],
   "outputs": [],
   "metadata": {}
  },
  {
   "cell_type": "code",
   "execution_count": 64,
   "source": [
    "print(get_participants(0))\r\n",
    "print(get_participants(1))\r\n",
    "print(get_participants(2))\r\n",
    "print(get_participants(3))\r\n",
    "print(get_participants(4))\r\n",
    "print(get_participants(5))\r\n",
    "print(get_participants(6))\r\n",
    "print(get_participants(7))"
   ],
   "outputs": [
    {
     "output_type": "stream",
     "name": "stdout",
     "text": [
      "0\n",
      "2\n",
      "3\n",
      "3\n",
      "4\n",
      "4\n",
      "4\n",
      "5\n"
     ]
    }
   ],
   "metadata": {}
  }
 ],
 "metadata": {
  "orig_nbformat": 4,
  "language_info": {
   "name": "python",
   "version": "3.9.0",
   "mimetype": "text/x-python",
   "codemirror_mode": {
    "name": "ipython",
    "version": 3
   },
   "pygments_lexer": "ipython3",
   "nbconvert_exporter": "python",
   "file_extension": ".py"
  },
  "kernelspec": {
   "name": "python3",
   "display_name": "Python 3.9.0 64-bit"
  },
  "interpreter": {
   "hash": "e9440e5d603c35774c62af017100812874226e35d1790890ccf27e7cab51d293"
  }
 },
 "nbformat": 4,
 "nbformat_minor": 2
}
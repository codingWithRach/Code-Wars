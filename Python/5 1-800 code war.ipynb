{
 "metadata": {
  "language_info": {
   "codemirror_mode": {
    "name": "ipython",
    "version": 3
   },
   "file_extension": ".py",
   "mimetype": "text/x-python",
   "name": "python",
   "nbconvert_exporter": "python",
   "pygments_lexer": "ipython3",
   "version": "3.9.0"
  },
  "orig_nbformat": 2,
  "kernelspec": {
   "name": "python390jvsc74a57bd0e9440e5d603c35774c62af017100812874226e35d1790890ccf27e7cab51d293",
   "display_name": "Python 3.9.0 64-bit"
  },
  "metadata": {
   "interpreter": {
    "hash": "e9440e5d603c35774c62af017100812874226e35d1790890ccf27e7cab51d293"
   }
  }
 },
 "nbformat": 4,
 "nbformat_minor": 2,
 "cells": [
  {
   "source": [
    "# Background\n",
    "\n",
    "If your phone buttons have letters, then it is easy remember long phone numbers by making words from the substituted digits.\n",
    "\n",
    "https://en.wikipedia.org/wiki/Phoneword\n",
    "\n",
    "This is common for 1-800 numbers\n",
    "# 1-800 number format\n",
    "\n",
    "This format probably varies for different countries, but for the purpose of this Kata here are my rules:\n",
    "\n",
    "A 1-800 number is an 11 digit phone number which starts with a 1-800 prefix.\n",
    "\n",
    "The remaining 7 digits can be written as a combination of 3 or 4 letter words. e.g.\n",
    "\n",
    "    1-800-CODE-WAR\n",
    "    1-800-NEW-KATA\n",
    "    1-800-GOOD-JOB\n",
    "\n",
    "The - are included just to improve the readibility.\n",
    "# Story\n",
    "\n",
    "A local company has decided they want to reserve a 1-800 number to help with advertising.\n",
    "\n",
    "They have already chosen what words they want to use, but they are worried that maybe that same phone number could spell out other words as well. Maybe bad words. Maybe embarrassing words.\n",
    "\n",
    "They need somebody to check for them so they can avoid any accidental PR scandals!\n",
    "\n",
    "That's where you come in...\n",
    "# Kata Task\n",
    "\n",
    "There is a preloaded array of lots of 3 and 4 letter (upper-case) words:\n",
    "\n",
    "    For Python it is: WORDS\n",
    "\n",
    "Given the 1-800 (phone word) number that the company wants to use, you need to check against all known words and return the set of all possible 1-800 numbers which can be formed using those same digits.\n",
    "# Notes\n",
    "- The desired phone-word number provided by the company is formatted properly. No need to check.\n",
    "- All the letters are upper-case. No need to check.\n",
    "- Only words in the list are allowed."
   ],
   "cell_type": "markdown",
   "metadata": {}
  },
  {
   "cell_type": "code",
   "execution_count": 15,
   "metadata": {},
   "outputs": [],
   "source": [
    "WORDS = ['ACT', 'ADD', 'ALL', 'APE', 'AND', 'ANN', 'ANY', 'ANT', 'ARE', 'ART', 'ASS', 'BAD', 'BAR', 'BAT', 'BAY', 'BEE', 'BIG', 'BIT', 'BOB', 'BOY', 'BUN', 'BUT', 'CAN', 'CAR', 'CAT', 'COT', 'COW', 'CUT', 'DAD', 'DAY', 'DEW', 'DID', 'DIN', 'DOG', 'DON', 'DOT', 'DUD', 'EAR', 'EAT', 'EEL', 'EGG', 'ERR', 'EYE', 'FAG', 'FAR', 'FLY', 'FOR', 'FUN', 'FUR', 'GAY', 'GET', 'GOT', 'GUM', 'GUN', 'GUY', 'GUT', 'GYM', 'HAS', 'HAT', 'HER', 'HEY', 'HIM', 'HIS', 'HIT', 'HOW', 'HUG', 'HUN', 'ICE', 'INK', 'ITS', 'IVE', 'JAN', 'JET', 'JOB', 'JOT', 'JOY', 'KEY', 'LAP', 'LAY', 'LIE', 'LET', 'LOG', 'MAN', 'MAP', 'MAY', 'MEN', 'MOM', 'MUD', 'MUM', 'NAP', 'NEW', 'NOD', 'NOT', 'NOW', 'OAR', 'ODD', 'OFF', 'OLD', 'ONE', 'OUR', 'OUT', 'PAN', 'PAL', 'PAT', 'PAW', 'PEN', 'PET', 'PIG', 'PIT', 'POT', 'PRO', 'PUT', 'QUO', 'RAG', 'RAM', 'RAN', 'RAP', 'RAT', 'RED', 'RIP', 'ROD', 'ROT', 'RUN', 'RUT', 'SAT', 'SAW', 'SAY', 'SEA', 'SEE', 'SEX', 'SHE', 'SOY', 'SUN', 'SUX', 'TAN', 'TAT', 'TEA', 'THE', 'TIN', 'TIP', 'TIT', 'TON', 'TOP', 'TOO', 'TWO', 'URN', 'USE', 'VAN', 'VET', 'VIP', 'WAR', 'WAS', 'WAY', 'WED', 'WHO', 'WHY', 'WIN', 'WON', 'XXX', 'YAK', 'YAM', 'YAP', 'YOU', 'YUM', 'ZAP', 'ZIP', 'ZIT', 'ZOO', 'ABLE', 'ACED', 'AGOG', 'AHEM', 'AHOY', 'ALLY', 'AMEN', 'ANTI', 'ANTS', 'ANUS', 'APES', 'ARMY', 'ARSE', 'ARTY', 'AVID', 'AWED', 'BABY', 'BARS', 'BATS', 'BAYS', 'BEAR', 'BEES', 'BILL', 'BITE', 'BITS', 'BLOW', 'BLUE', 'BOLD', 'BONE', 'BOOB', 'BOOM', 'BOSS', 'BOYS', 'BUFF', 'BUNG', 'BUNS', 'BUMS', 'BURP', 'BUST', 'BUSY', 'BUZZ', 'CANS', 'CANT', 'CARS', 'CART', 'CATS', 'CHAP', 'CHIC', 'CHUM', 'CIAO', 'CLAP', 'COCK', 'CODE', 'COOL', 'COWS', 'COZY', 'CRAB', 'CREW', 'CURE', 'CULT', 'DADS', 'DAFT', 'DAWN', 'DAYS', 'DECK', 'DEED', 'DICK', 'DING', 'DOGS', 'DOTS', 'DOLL', 'DOLT', 'DONG', 'DOPE', 'DOWN', 'DRAW', 'DUCK', 'DUDE', 'DUMB', 'DUTY', 'EARL', 'EARN', 'EARS', 'EASY', 'EATS', 'EDGE', 'EELS', 'EGGS', 'ENVY', 'EPIC', 'EYES', 'FACE', 'FAGS', 'FANG', 'FARM', 'FART', 'FANS', 'FAST', 'FEAT', 'FEET', 'FISH', 'FIVE', 'FIZZ', 'FLAG', 'FLEW', 'FLIP', 'FLOW', 'FOOD', 'FORT', 'FUCK', 'FUND', 'GAIN', 'GEEK', 'GEMS', 'GIFT', 'GIRL', 'GIST', 'GIVE', 'GLEE', 'GLOW', 'GOLD', 'GOOD', 'GOSH', 'GRAB', 'GRIN', 'GRIT', 'GROT', 'GROW', 'GRUB', 'GUNS', 'GUSH', 'GYMS', 'HAIL', 'HAIR', 'HALO', 'HANG', 'HATS', 'HEAD', 'HEAL', 'HEIR', 'HELL', 'HELP', 'HERE', 'HERO', 'HERS', 'HIGH', 'HIRE', 'HITS', 'HOLY', 'HOPE', 'HOST', 'HUNK', 'HUGE', 'HUNG', 'HUNS', 'HURT', 'ICON', 'IDEA', 'IDLE', 'IDOL', 'IOTA', 'JAZZ', 'JERK', 'JESS', 'JETS', 'JINX', 'JOBS', 'JOHN', 'JOKE', 'JUMP', 'JUNE', 'JULY', 'JUNK', 'JUST', 'KATA', 'KEYS', 'KICK', 'KIND', 'KING', 'KISS', 'KONG', 'KNOB', 'KNOW', 'LARK', 'LATE', 'LEAN', 'LICE', 'LICK', 'LIKE', 'LION', 'LIVE', 'LOGS', 'LOCK', 'LONG', 'LOOK', 'LORD', 'LOVE', 'LUCK', 'LUSH', 'MAKE', 'MANY', 'MART', 'MATE', 'MAXI', 'MEEK', 'MIKE', 'MILD', 'MINT', 'MMMM', 'MOMS', 'MOOD', 'MOON', 'MOOT', 'MUCH', 'MUFF', 'MUMS', 'MUTT', 'NAPS', 'NAZI', 'NEAT', 'NECK', 'NEED', 'NEWS', 'NEXT', 'NICE', 'NICK', 'NOON', 'NOSE', 'NOTE', 'OARS', 'OATS', 'ONCE', 'ONLY', 'OPEN', 'ORGY', 'OVAL', 'OVER', 'PANS', 'PALS', 'PART', 'PAST', 'PATS', 'PAWS', 'PEAR', 'PERT', 'PENS', 'PETS', 'PHEW', 'PIPE', 'PIPS', 'PLAN', 'PLUM', 'PLUS', 'POET', 'POOF', 'POOP', 'POSH', 'POTS', 'PROS', 'PSST', 'PUKE', 'PUNK', 'PURE', 'PUSH', 'PUSS', 'QUAD', 'QUAK', 'QUID', 'QUIT', 'RANT', 'RAPE', 'RAPS', 'RAPT', 'RATE', 'RAMS', 'RATS', 'REAP', 'RICK', 'RING', 'RIPE', 'ROOT', 'ROSE', 'ROSY', 'ROTS', 'RUNT', 'RUTS', 'SAFE', 'SAGE', 'SANE', 'SAVE', 'SAWS', 'SEEK', 'SEXY', 'SHAG', 'SHIT', 'SICK', 'SIGH', 'SIRE', 'SLAG', 'SLIT', 'SLUT', 'SNAP', 'SNOG', 'SNUG', 'SOFT', 'SOON', 'SOUL', 'SOUP', 'SPRY', 'STIR', 'STUN', 'SUCK', 'SWAG', 'SWAY', 'TACT', 'TANK', 'TANS', 'THAT', 'THIS', 'TIME', 'TINS', 'TINY', 'TITS', 'TOES', 'TONS', 'TONY', 'TOPS', 'TOYS', 'UBER', 'URNS', 'USED', 'USER', 'USES', 'VAIN', 'VAMP', 'VARY', 'VEIN', 'VENT', 'VERY', 'VEST', 'VIEW', 'VIVA', 'VOLT', 'VOTE', 'WAFT', 'WAGE', 'WAKE', 'WALK', 'WALL', 'WANG', 'WANK', 'WANT', 'WARD', 'WARM', 'WARP', 'WARS', 'WART', 'WASH', 'WAVE', 'WEAR', 'WEDS', 'WEED', 'WEEN', 'WELD', 'WHAT', 'WHEE', 'WHEW', 'WHIP', 'WHIZ', 'WHOA', 'WIFE', 'WILL', 'WIND', 'WING', 'WINK', 'WINS', 'WIRE', 'WISH', 'WITH', 'WORD', 'WORK', 'WRAP', 'XMAN', 'XMEN', 'XRAY', 'XTRA', 'XXXX', 'YANK', 'YAKS', 'YAMS', 'YAPS', 'YARD', 'YARN', 'YELP', 'YERN', 'YOKE', 'YOLK', 'YULE', 'ZANY', 'ZAPS', 'ZIPS', 'ZITS', 'ZERO', 'ZOOM', 'ZOOS']"
   ]
  },
  {
   "cell_type": "code",
   "execution_count": 33,
   "metadata": {},
   "outputs": [],
   "source": [
    "def get_equiv_letters(char):\n",
    "    letters = ['ABC', 'DEF', 'GHI', 'JKL', 'MNO', 'PQRS', 'TUV', 'WXYZ']\n",
    "    for entry in letters:\n",
    "        if char in entry:\n",
    "            return entry"
   ]
  },
  {
   "cell_type": "code",
   "execution_count": 39,
   "metadata": {},
   "outputs": [],
   "source": [
    "def filter_words(entry, pos, words):\n",
    "    return [word for word in words if word[pos] in entry]"
   ]
  },
  {
   "cell_type": "code",
   "execution_count": 56,
   "metadata": {},
   "outputs": [],
   "source": [
    "def check1800(s):\n",
    "\n",
    "    # remove 1-800 and remaining hyphens from the string\n",
    "    s = s[6:].replace('-', '')\n",
    "\n",
    "    # first look at entries made by a 3 letter word followed by a 4 letter word\n",
    "    three_letter_words = [word for word in WORDS if len(word) == 3]\n",
    "    for i in range(3):\n",
    "        three_letter_words = filter_words(get_equiv_letters(s[i]), i, three_letter_words)\n",
    "    four_letter_words = [word for word in WORDS if len(word) == 4]\n",
    "    for i in range(4):\n",
    "        four_letter_words = filter_words(get_equiv_letters(s[i+3]), i, four_letter_words)\n",
    "\n",
    "    # if both lists contain at least one entry, append all combinations to the results\n",
    "    result = []\n",
    "    for three_letter_word in three_letter_words:\n",
    "        for four_letter_word in four_letter_words:\n",
    "            result.append('1-800-' + three_letter_word + '-' + four_letter_word)\n",
    "\n",
    "    # now look at entries made by a 4 letter word followed by a 3 letter word\n",
    "    four_letter_words = [word for word in WORDS if len(word) == 4]\n",
    "    for i in range(4):\n",
    "        four_letter_words = filter_words(get_equiv_letters(s[i]), i, four_letter_words)    \n",
    "    three_letter_words = [word for word in WORDS if len(word) == 3]\n",
    "    for i in range(3):\n",
    "        three_letter_words = filter_words(get_equiv_letters(s[i+4]), i, three_letter_words)\n",
    "\n",
    "    # if both lists contain at least one entry, append all combinations to the results\n",
    "    for three_letter_word in three_letter_words:\n",
    "        for four_letter_word in four_letter_words:\n",
    "            result.append('1-800-' + four_letter_word + '-' + three_letter_word)\n",
    "\n",
    "    return { entry for entry in result }"
   ]
  },
  {
   "cell_type": "code",
   "execution_count": 57,
   "metadata": {},
   "outputs": [
    {
     "output_type": "execute_result",
     "data": {
      "text/plain": [
       "{'1-800-CODE-WAR', '1-800-CODE-WAS', '1-800-CODE-YAP', '1-800-CODE-ZAP'}"
      ]
     },
     "metadata": {},
     "execution_count": 57
    }
   ],
   "source": [
    "\n",
    "check1800(\"1-800-CODE-WAR\")\n",
    "# {\"1-800-CODE-WAR\", \"1-800-CODE-YAP\", \"1-800-CODE-WAS\", \"1-800-CODE-ZAP\"}"
   ]
  },
  {
   "cell_type": "code",
   "execution_count": null,
   "metadata": {},
   "outputs": [],
   "source": []
  }
 ]
}
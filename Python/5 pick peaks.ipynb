{
 "metadata": {
  "language_info": {
   "codemirror_mode": {
    "name": "ipython",
    "version": 3
   },
   "file_extension": ".py",
   "mimetype": "text/x-python",
   "name": "python",
   "nbconvert_exporter": "python",
   "pygments_lexer": "ipython3",
   "version": "3.8.5-final"
  },
  "orig_nbformat": 2,
  "kernelspec": {
   "name": "python3",
   "display_name": "Python 3",
   "language": "python"
  }
 },
 "nbformat": 4,
 "nbformat_minor": 2,
 "cells": [
  {
   "source": [
    "In this kata, you will write a function that returns the positions and the values of the \"peaks\" (or local maxima) of a numeric array.\n",
    "\n",
    "For example, the array arr = [0, 1, 2, 5, 1, 0] has a peak at position 3 with a value of 5 (since arr[3] equals 5).\n",
    "\n",
    "The output will be returned as an object with two properties: pos and peaks. Both of these properties should be arrays. If there is no peak in the given array, then the output should be {pos: [], peaks: []}.\n",
    "\n",
    "Example: pickPeaks([3, 2, 3, 6, 4, 1, 2, 3, 2, 1, 2, 3]) should return {pos: [3, 7], peaks: [6, 3]} (or equivalent in other languages)\n",
    "\n",
    "All input arrays will be valid integer arrays (although it could still be empty), so you won't need to validate the input.\n",
    "\n",
    "The first and last elements of the array will not be considered as peaks (in the context of a mathematical function, we don't know what is after and before and therefore, we don't know if it is a peak or not).\n",
    "\n",
    "Also, beware of plateaus !!! [1, 2, 2, 2, 1] has a peak while [1, 2, 2, 2, 3] and [1, 2, 2, 2, 2] do not. In case of a plateau-peak, please only return the position and value of the beginning of the plateau. For example: pickPeaks([1, 2, 2, 2, 1]) returns {pos: [1], peaks: [2]}"
   ],
   "cell_type": "markdown",
   "metadata": {}
  },
  {
   "cell_type": "code",
   "execution_count": 204,
   "metadata": {},
   "outputs": [],
   "source": [
    "def pick_peaks(arr):\n",
    "    pos = []\n",
    "    peaks = []\n",
    "    plateau_pos = 0\n",
    "    for i in range(1, len(arr)-1):\n",
    "        if arr[i] > arr[i-1]:\n",
    "            # save the peak\n",
    "            if arr[i] > arr[i+1]:\n",
    "                pos.append(i)\n",
    "                peaks.append(arr[i])\n",
    "                plateau_pos = 0\n",
    "            # start of plateau\n",
    "            elif arr[i] == arr[i+1]:\n",
    "                plateau_pos = i\n",
    "        elif arr[i] > arr[i+1]:\n",
    "            # if value decreasing after a plateau, the plateau denotes a peak, so save the value at the start of the plateau\n",
    "            if plateau_pos > 0:\n",
    "                pos.append(plateau_pos)\n",
    "                peaks.append(arr[plateau_pos])\n",
    "                plateau_pos = 0\n",
    "    return {'pos': pos, 'peaks': peaks }"
   ]
  },
  {
   "cell_type": "code",
   "execution_count": null,
   "metadata": {},
   "outputs": [],
   "source": []
  }
 ]
}
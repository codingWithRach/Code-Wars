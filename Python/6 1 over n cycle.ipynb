{
 "metadata": {
  "language_info": {
   "codemirror_mode": {
    "name": "ipython",
    "version": 3
   },
   "file_extension": ".py",
   "mimetype": "text/x-python",
   "name": "python",
   "nbconvert_exporter": "python",
   "pygments_lexer": "ipython3",
   "version": "3.8.5-final"
  },
  "orig_nbformat": 2,
  "kernelspec": {
   "name": "python3",
   "display_name": "Python 3.8.5 64-bit (conda)",
   "metadata": {
    "interpreter": {
     "hash": "a6d5379567e5c9aa2d153209ef4a1d00a383d1ae7f32ebada2471f125a521807"
    }
   }
  }
 },
 "nbformat": 4,
 "nbformat_minor": 2,
 "cells": [
  {
   "source": [
    "Let be n an integer prime with 10 e.g. 7.\n",
    "\n",
    "1/7 = 0.142857 142857 142857 ....\n",
    "\n",
    "We see that the decimal part has a cycle: 142857. The length of this cycle is 6. In the same way:\n",
    "\n",
    "1/11 = 0.09 09 09 .... Cycle length is 2.\n",
    "Task\n",
    "\n",
    "Given an integer n (n > 1) the function cycle(n) returns the length of the cycle if there is one otherwise (n and 10 not coprimes) return -1.\n",
    "Examples:\n",
    "\n",
    "cycle(5) = -1\n",
    "cycle(13) = 6 -> 0.076923 076923 0769\n",
    "cycle(21) = 6 -> 0.047619 047619 0476\n",
    "cycle(27) = 3 -> 0.037 037 037 037 0370\n",
    "cycle(33) = 2 -> 0.03 03 03 03 03 03 03 03\n",
    "cycle(37) = 3 -> 0.027 027 027 027 027 0\n",
    "cycle(94) = -1 \n",
    "\n",
    "Notes\n",
    "cycle(22) = -1 since 1/22 ~ 0.0 45 45 45 45 ..."
   ],
   "cell_type": "markdown",
   "metadata": {}
  },
  {
   "cell_type": "code",
   "execution_count": 106,
   "metadata": {},
   "outputs": [],
   "source": [
    "def cycle(n):\n",
    "    # if n and 10 are not coprimes, there is no cycle\n",
    "    if n % 2 == 0 or n % 5 == 0:\n",
    "        return -1\n",
    "\n",
    "    # otherwise use the principals of long division to determine the cycle length.  The first step is dividing 1 by n, and ending up with a remainder of n.  Multiply the remainder by 10, and calculate the remainder when that figure is divided by n.  Repeat until the remainder is 1 i.e. we know this is the start of the cycle\n",
    "    len_cycle = 1\n",
    "    result = 10 % n\n",
    "    while result != 1:\n",
    "        len_cycle += 1\n",
    "        result = (result * 10) % n\n",
    "    return len_cycle"
   ]
  },
  {
   "source": [
    "The following works on simple examples but times out on more complex ones"
   ],
   "cell_type": "markdown",
   "metadata": {}
  },
  {
   "cell_type": "code",
   "execution_count": 91,
   "metadata": {},
   "outputs": [],
   "source": [
    "# attempting to divide 1.000000... by n using long division\n",
    "# the first step is dividing 1 by n (and ending up with a remainder of n)\n",
    "# cycle through, each time multiplying the numerator by 10, until the remainder is again 1\n",
    "def cycle(n):\n",
    "    for i in range(1, n):\n",
    "        num = 10 ** i\n",
    "        if num % n == 1:\n",
    "            return i\n",
    "    return -1"
   ]
  },
  {
   "cell_type": "code",
   "execution_count": null,
   "metadata": {},
   "outputs": [],
   "source": []
  }
 ]
}
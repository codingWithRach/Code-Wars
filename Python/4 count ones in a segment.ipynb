{
 "metadata": {
  "language_info": {
   "codemirror_mode": {
    "name": "ipython",
    "version": 3
   },
   "file_extension": ".py",
   "mimetype": "text/x-python",
   "name": "python",
   "nbconvert_exporter": "python",
   "pygments_lexer": "ipython3",
   "version": "3.8.5-final"
  },
  "orig_nbformat": 2,
  "kernelspec": {
   "name": "python3",
   "display_name": "Python 3",
   "language": "python"
  }
 },
 "nbformat": 4,
 "nbformat_minor": 2,
 "cells": [
  {
   "source": [
    "Given two numbers: 'left' and 'right' (1 <= 'left' <= 'right' <= 200000000000000) return sum of all '1' occurencies in binary representations of numbers between 'left' and 'right' (including both)\n",
    "\n",
    "Example:\n",
    "countOnes 4 7 should return 8, because:\n",
    "4(dec) = 100(bin), which adds 1 to the result.\n",
    "5(dec) = 101(bin), which adds 2 to the result.\n",
    "6(dec) = 110(bin), which adds 2 to the result.\n",
    "7(dec) = 111(bin), which adds 3 to the result.\n",
    "So finally result equals 8.\n",
    "\n",
    "WARNING: Segment may contain billion elements, to pass this kata, your solution cannot iterate through all numbers in the segment!"
   ],
   "cell_type": "markdown",
   "metadata": {}
  },
  {
   "cell_type": "code",
   "execution_count": 255,
   "metadata": {},
   "outputs": [],
   "source": [
    "def bin_same_length(left, right):\n",
    "    # if left and right are the same, simply count the ones in the binary equivalent\n",
    "    if left == right:\n",
    "        return bin(left)[2:].count('1'), -1, -1\n",
    "\n",
    "    # if length of binary is 1, there is 1 one\n",
    "    len_bin = len(bin(left)[2:])\n",
    "    if len_bin == 1:\n",
    "        return 1, -1, -1\n",
    "\n",
    "    # if left is at the bottom of the range for digits of this length, and right is at the top \n",
    "    # of the range, there's a short-cut to count the ones in all numbers within this range\n",
    "    if 2**(len_bin-1) == left and (2**len_bin)-1 == right:\n",
    "        # we know all numbers in the range start with a 1\n",
    "        # for all combinations the remaining digits (i.e. n = len -1), the number of combinations \n",
    "        # with a given number of ones i is given by n!/i!(n-i)! combinations\n",
    "        # multiply that by the number of ones to give n!/(i-1)!(n-i)! ones\n",
    "        # then add 1 for each possible combination because we know the numbers in the range all start with 1\n",
    "        from math import factorial\n",
    "        result = 0\n",
    "        for i in range(1, len_bin):\n",
    "            result += factorial(len_bin-1) / (factorial(i-1) * factorial(len_bin-1-i))\n",
    "        result += 2**(len_bin-1)\n",
    "        return int(result), -1, -1\n",
    "\n",
    "    # otherwise calculate the number of numbers in the range\n",
    "    num_numbers = right - left + 1\n",
    "\n",
    "    # convert both numbers to binary and find out how many digits they have in common at the start\n",
    "    bin_left = bin(left)[2:]\n",
    "    bin_right = bin(right)[2:]\n",
    "    digits_in_common = ''\n",
    "    for i in range(len(bin_left)):\n",
    "        if bin_left[i] == bin_right[i]:\n",
    "            digits_in_common += bin_left[i]\n",
    "        else:\n",
    "            break\n",
    "\n",
    "    # determine the number of ones represented by these digits in common\n",
    "    result = digits_in_common.count('1') * num_numbers\n",
    "\n",
    "    # determine the numbers remaining after removing the prefix in common\n",
    "    if digits_in_common == bin_left:\n",
    "        lower = 0\n",
    "    else:\n",
    "        lower = int(bin_left[len(digits_in_common):],2)\n",
    "    upper = int(bin_right[len(digits_in_common):],2)\n",
    "    if lower > upper:\n",
    "        lower, upper = upper, lower\n",
    "    return result, lower, upper\n",
    "\n",
    "def split_range(left, right):\n",
    "    # convert left and right into binary \n",
    "    bin_left = bin(left)[2:]\n",
    "    bin_right = bin(right)[2:]\n",
    "\n",
    "    # check if all entries have the same length\n",
    "    if len(bin_left) == len(bin_right):\n",
    "        return [(left, right)]\n",
    "\n",
    "    # split into multiple entries with the same length\n",
    "    # first a range of numbers with the same length as left\n",
    "    num_split = []\n",
    "    num_split.append( (left, (2**len(bin_left))-1) )\n",
    "\n",
    "    # then add ranges of numbers for each length of number between that of left and that of right\n",
    "    if len(bin_right) - len(bin_left) > 1:\n",
    "        for i in range( len(bin_left) + 1, len(bin_right) ):\n",
    "            num_split.append( (2**(i-1), (2**i)-1) )\n",
    "\n",
    "    # then add range of numbers with the same length as right\n",
    "    if len(bin_right) > len(bin_left):\n",
    "        num_split.append( ((2**(len(bin_right)-1)), right) )\n",
    "    return num_split\n",
    "\n",
    "def process_split(num_split):\n",
    "    result = 0\n",
    "    for entry in num_split:\n",
    "        lower = entry[0]\n",
    "        upper = entry[1]\n",
    "        while lower > -1:\n",
    "            num_ones, lower, upper = bin_same_length(lower, upper)\n",
    "            result += num_ones\n",
    "            if lower > -1:\n",
    "                inner_num_split = split_range(lower, upper)\n",
    "                result += process_split(inner_num_split)\n",
    "                break\n",
    "    return result\n",
    "\n",
    "def countOnes(left, right):\n",
    "    return process_split(split_range(left, right))"
   ]
  },
  {
   "cell_type": "code",
   "execution_count": 256,
   "metadata": {
    "tags": []
   },
   "outputs": [
    {
     "output_type": "execute_result",
     "data": {
      "text/plain": [
       "1611203953924013"
      ]
     },
     "metadata": {},
     "execution_count": 256
    }
   ],
   "source": [
    "countOnes(173624870784686,239652917223111)\n",
    "# expected_result = 1611203953924013"
   ]
  },
  {
   "cell_type": "code",
   "execution_count": null,
   "metadata": {},
   "outputs": [],
   "source": []
  }
 ]
}
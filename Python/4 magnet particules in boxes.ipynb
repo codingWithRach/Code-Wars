{
 "metadata": {
  "language_info": {
   "codemirror_mode": {
    "name": "ipython",
    "version": 3
   },
   "file_extension": ".py",
   "mimetype": "text/x-python",
   "name": "python",
   "nbconvert_exporter": "python",
   "pygments_lexer": "ipython3",
   "version": "3.8.5-final"
  },
  "orig_nbformat": 2,
  "kernelspec": {
   "name": "python3",
   "display_name": "Python 3.8.5 64-bit (conda)",
   "metadata": {
    "interpreter": {
     "hash": "a6d5379567e5c9aa2d153209ef4a1d00a383d1ae7f32ebada2471f125a521807"
    }
   }
  }
 },
 "nbformat": 4,
 "nbformat_minor": 2,
 "cells": [
  {
   "source": [
    "Professor Chambouliard hast just discovered a new type of magnet material. He put particles of this material in a box made of small boxes arranged in K rows and N columns as a kind of 2D matrix K x N where K and N are postive integers. He thinks that his calculations show that the force exerted by the particle in the small box (k, n) is:\n",
    "[v(k, n) = \\frac{1}{k(n+1)^{2k}}]\n",
    "\n",
    "The total force exerted by the first row with k = 1 is:\n",
    "[u(1, N) = \\sum_{n=1}^{n=N}v(1, n) = \\frac{1}{1.2^2} + \\frac{1}{1.3^2}+...+\\frac{1}{1.(N+1)^2}]\n",
    "\n",
    "We can go on with k = 2 and then k = 3 etc ... and consider:\n",
    "[S(K, N) = \\sum_{k=1}^{k=K}u(k, N) = \\sum_{k=1}^{k=K}(\\sum_{n=1}^{n=N}v(k, n)) \\rightarrow (doubles(maxk, maxn))]\n",
    "Task:\n",
    "\n",
    "To help Professor Chambouliard can we calculate the function doubles that will take as parameter maxk and maxn such that doubles(maxk, maxn) = S(maxk, maxn)? Experiences seems to show that this could be something around 0.7 when maxk and maxn are big enough.\n",
    "Examples:\n",
    "\n",
    "doubles(1, 3)  => 0.4236111111111111\n",
    "doubles(1, 10) => 0.5580321939764581\n",
    "doubles(10, 100) => 0.6832948559787737\n",
    "\n",
    "Notes:\n",
    "\n",
    "    In u(1, N) the dot is the multiplication operator.\n",
    "    Don't truncate or round: Have a look at \"assertFuzzyEquals\" in \"RUN EXAMPLES\"."
   ],
   "cell_type": "markdown",
   "metadata": {}
  },
  {
   "source": [
    "This works on simple examples but times out on more complex ones"
   ],
   "cell_type": "markdown",
   "metadata": {}
  },
  {
   "cell_type": "code",
   "execution_count": 1,
   "metadata": {},
   "outputs": [],
   "source": [
    "def doubles(maxk, maxn):\n",
    "    return sum([1/(k * ((n+1)**(2*k))) for k in range(1, maxk+1) for n in range(1, maxn+1)])"
   ]
  },
  {
   "cell_type": "code",
   "execution_count": 2,
   "metadata": {},
   "outputs": [
    {
     "output_type": "execute_result",
     "data": {
      "text/plain": [
       "0.4236111111111111"
      ]
     },
     "metadata": {},
     "execution_count": 2
    }
   ],
   "source": [
    "doubles(1,3)"
   ]
  },
  {
   "cell_type": "code",
   "execution_count": 3,
   "metadata": {},
   "outputs": [
    {
     "output_type": "execute_result",
     "data": {
      "text/plain": [
       "0.5580321939764581"
      ]
     },
     "metadata": {},
     "execution_count": 3
    }
   ],
   "source": [
    "doubles(1,10)"
   ]
  },
  {
   "cell_type": "code",
   "execution_count": 4,
   "metadata": {},
   "outputs": [
    {
     "output_type": "execute_result",
     "data": {
      "text/plain": [
       "0.6832948559787729"
      ]
     },
     "metadata": {},
     "execution_count": 4
    }
   ],
   "source": [
    "doubles(10,100)"
   ]
  },
  {
   "cell_type": "code",
   "execution_count": 5,
   "metadata": {},
   "outputs": [],
   "source": [
    "def doubles(maxk, maxn):\n",
    "    result = 0\n",
    "    for k in range(1, maxk+1):\n",
    "        for n in range(1, maxn+1):\n",
    "            result += 1/(k * ((n+1)**(2*k)))\n",
    "    return result"
   ]
  },
  {
   "cell_type": "code",
   "execution_count": null,
   "metadata": {},
   "outputs": [],
   "source": []
  }
 ]
}
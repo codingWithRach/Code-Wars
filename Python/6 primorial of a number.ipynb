{
 "metadata": {
  "language_info": {
   "codemirror_mode": {
    "name": "ipython",
    "version": 3
   },
   "file_extension": ".py",
   "mimetype": "text/x-python",
   "name": "python",
   "nbconvert_exporter": "python",
   "pygments_lexer": "ipython3",
   "version": "3.8.5"
  },
  "orig_nbformat": 2,
  "kernelspec": {
   "name": "python3",
   "display_name": "Python 3.8.5 64-bit ('base': conda)",
   "metadata": {
    "interpreter": {
     "hash": "a6d5379567e5c9aa2d153209ef4a1d00a383d1ae7f32ebada2471f125a521807"
    }
   }
  }
 },
 "nbformat": 4,
 "nbformat_minor": 2,
 "cells": [
  {
   "source": [
    "# Definition (Primorial Of a Number)\n",
    "Is similar to factorial of a number, In primorial, not all the natural numbers get multiplied, only prime numbers are multiplied to calculate the primorial of a number. It's denoted with P# and it is the product of the first n prime numbers.\n",
    "# Task\n",
    "Given a number N , calculate its primorial.\n",
    "# Notes\n",
    "Only positive numbers will be passed (N > 0) .\n",
    "# Input >> Output Examples:\n",
    "1- numPrimorial (3) ==> return (30)\n",
    "\n",
    "Explanation:\n",
    "\n",
    "Since the passed number is (3) ,Then the primorial should obtained by multiplying 2 * 3 * 5 = 30 .\n",
    "\n",
    "2- numPrimorial (5) ==> return (2310)\n",
    "\n",
    "Explanation:\n",
    "\n",
    "Since the passed number is (5) ,Then the primorial should obtained by multiplying 2 * 3 * 5 * 7 * 11 = 2310 .\n",
    "\n",
    "3- numPrimorial (6) ==> return (30030)\n",
    "\n",
    "Explanation:\n",
    "\n",
    "Since the passed number is (6) ,Then the primorial should obtained by multiplying 2 * 3 * 5 * 7 * 11 * 13 = 30030 ."
   ],
   "cell_type": "markdown",
   "metadata": {}
  },
  {
   "cell_type": "code",
   "execution_count": 53,
   "metadata": {},
   "outputs": [],
   "source": [
    "def is_prime(num):\n",
    "    if num%2 == 0:\n",
    "        return False\n",
    "    for i in range(3, int(num**0.5)+1, 2):\n",
    "        if num%i == 0:\n",
    "            return False\n",
    "    return True"
   ]
  },
  {
   "cell_type": "code",
   "execution_count": 70,
   "metadata": {},
   "outputs": [],
   "source": [
    "def num_primorial(n):\n",
    "    result = 2\n",
    "    last_prime = 1\n",
    "    for i in range(n-1):\n",
    "        j = max(last_prime + 2, (i * 2) + 1)\n",
    "        while not is_prime(j):\n",
    "            j += 2\n",
    "        last_prime = j\n",
    "        result *= j\n",
    "    return result"
   ]
  },
  {
   "source": [
    "The following is too inefficient to pass Codewars testing"
   ],
   "cell_type": "markdown",
   "metadata": {}
  },
  {
   "cell_type": "code",
   "execution_count": 47,
   "metadata": {},
   "outputs": [],
   "source": [
    "def num_primorial(n):\n",
    "    result = 2\n",
    "    primes = [result]\n",
    "    for i in range(n):\n",
    "        j = (i * 2) + 1\n",
    "        while j in primes or not is_prime(j):\n",
    "            j += 2\n",
    "        primes.append(j)\n",
    "        result *= j\n",
    "    return result"
   ]
  },
  {
   "source": [
    "The following is too inefficient to pass CodeWars testing"
   ],
   "cell_type": "markdown",
   "metadata": {}
  },
  {
   "cell_type": "code",
   "execution_count": 27,
   "metadata": {},
   "outputs": [],
   "source": [
    "def num_primorial(n):\n",
    "    # compile a list of numbers that are not prime\n",
    "    multiples = []\n",
    "    for i in range(2,n**2):\n",
    "        if i not in multiples:\n",
    "            for j in range(i*i, n**2, i):\n",
    "                multiples.append(j)\n",
    "\n",
    "    # prime numbers are all the others in the range\n",
    "    primes = [ i for i in range(2,n**2) if i not in multiples]\n",
    "\n",
    "    # multiply up to the nth element\n",
    "    result = 1\n",
    "    for i in range(n):\n",
    "        result *= primes[i]\n",
    "    return result"
   ]
  },
  {
   "cell_type": "code",
   "execution_count": null,
   "metadata": {},
   "outputs": [],
   "source": []
  }
 ]
}
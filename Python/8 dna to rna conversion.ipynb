{
    "cells": [
        {
            "cell_type": "markdown",
            "source": [
                "Deoxyribonucleic acid, DNA is the primary information storage molecule in biological systems. It is composed of four nucleic acid bases Guanine ('G'), Cytosine ('C'), Adenine ('A'), and Thymine ('T').\r\n",
                "\r\n",
                "Ribonucleic acid, RNA, is the primary messenger molecule in cells. RNA differs slightly from DNA its chemical structure and contains no Thymine. In RNA Thymine is replaced by another nucleic acid Uracil ('U').\r\n",
                "\r\n",
                "Create a function which translates a given DNA string into RNA.\r\n",
                "\r\n",
                "For example:\r\n",
                "\r\n",
                "\"GCAT\"  =>  \"GCAU\"\r\n",
                "\r\n",
                "The input string can be of arbitrary length - in particular, it may be empty. All input is guaranteed to be valid, i.e. each input string will only ever consist of 'G', 'C', 'A' and/or 'T'."
            ],
            "metadata": {}
        },
        {
            "cell_type": "code",
            "execution_count": 1,
            "source": [
                "def dna_to_rna(dna):\r\n",
                "    return dna.replace('T','U')"
            ],
            "outputs": [],
            "metadata": {}
        }
    ],
    "metadata": {
        "orig_nbformat": 4,
        "language_info": {
            "name": "python",
            "version": "3.9.0",
            "mimetype": "text/x-python",
            "codemirror_mode": {
                "name": "ipython",
                "version": 3
            },
            "pygments_lexer": "ipython3",
            "nbconvert_exporter": "python",
            "file_extension": ".py"
        },
        "kernelspec": {
            "name": "python3",
            "display_name": "Python 3.9.0 64-bit"
        },
        "interpreter": {
            "hash": "e9440e5d603c35774c62af017100812874226e35d1790890ccf27e7cab51d293"
        }
    },
    "nbformat": 4,
    "nbformat_minor": 2
}
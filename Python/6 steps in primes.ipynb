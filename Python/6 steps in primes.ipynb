{
 "metadata": {
  "language_info": {
   "codemirror_mode": {
    "name": "ipython",
    "version": 3
   },
   "file_extension": ".py",
   "mimetype": "text/x-python",
   "name": "python",
   "nbconvert_exporter": "python",
   "pygments_lexer": "ipython3",
   "version": "3.8.5-final"
  },
  "orig_nbformat": 2,
  "kernelspec": {
   "name": "python3",
   "display_name": "Python 3",
   "language": "python"
  }
 },
 "nbformat": 4,
 "nbformat_minor": 2,
 "cells": [
  {
   "source": [
    "The prime numbers are not regularly spaced. For example from 2 to 3 the step is 1. From 3 to 5 the step is 2. From 7 to 11 it is 4. Between 2 and 50 we have the following pairs of 2-steps primes:\n",
    "\n",
    "3, 5 - 5, 7, - 11, 13, - 17, 19, - 29, 31, - 41, 43\n",
    "\n",
    "We will write a function step with parameters:\n",
    "\n",
    "    g (integer >= 2) which indicates the step we are looking for,\n",
    "\n",
    "    m (integer >= 2) which gives the start of the search (m inclusive),\n",
    "\n",
    "    n (integer >= m) which gives the end of the search (n inclusive)\n",
    "\n",
    "In the example above step(2, 2, 50) will return [3, 5] which is the first pair between 2 and 50 with a 2-steps.\n",
    "\n",
    "So this function should return the first pair of the two prime numbers spaced with a step of g between the limits m, n if these g-steps prime numbers exist otherwise nil or null or None or Nothing or [] or \"0, 0\" or {0, 0} or 0 0(depending on the language).\n",
    "Examples:\n",
    "\n",
    "step(2, 5, 7) --> [5, 7] or (5, 7) or {5, 7} or \"5 7\"\n",
    "\n",
    "step(2, 5, 5) --> nil or ... or [] in Ocaml or {0, 0} in C++\n",
    "\n",
    "step(4, 130, 200) --> [163, 167] or (163, 167) or {163, 167}\n",
    "\n",
    "See more examples for your language in \"TESTS\"\n",
    "Remarks:\n",
    "\n",
    "([193, 197] is also such a 4-steps primes between 130 and 200 but it's not the first pair).\n",
    "\n",
    "step(6, 100, 110) --> [101, 107] though there is a prime between 101 and 107 which is 103; the pair 101-103 is a 2-step.\n",
    "Notes:\n",
    "\n",
    "The idea of \"step\" is close to that of \"gap\" but it is not exactly the same. For those interested they can have a look at http://mathworld.wolfram.com/PrimeGaps.html.\n",
    "\n",
    "A \"gap\" is more restrictive: there must be no primes in between (101-107 is a \"step\" but not a \"gap\". Next kata will be about \"gaps\":-).\n",
    "\n",
    "For Go: nil slice is expected when there are no step between m and n. Example: step(2,4900,4919) --> nil\n"
   ],
   "cell_type": "markdown",
   "metadata": {}
  },
  {
   "cell_type": "code",
   "execution_count": 109,
   "metadata": {},
   "outputs": [],
   "source": [
    "def is_prime(num):\n",
    "    if num%2 == 0:\n",
    "        return False\n",
    "    for i in range(3, int(num**0.5)+1, 2):\n",
    "        if num%i == 0:\n",
    "            return False\n",
    "    return True"
   ]
  },
  {
   "cell_type": "code",
   "execution_count": 113,
   "metadata": {},
   "outputs": [],
   "source": [
    "def step(g, m, n):\n",
    "    for i in range(m, n+1-g):\n",
    "        if is_prime(i) and is_prime(i+g):\n",
    "            return [i, i+g]\n",
    "    return None"
   ]
  },
  {
   "cell_type": "code",
   "execution_count": 114,
   "metadata": {},
   "outputs": [
    {
     "output_type": "execute_result",
     "data": {
      "text/plain": [
       "[3, 5]"
      ]
     },
     "metadata": {},
     "execution_count": 114
    }
   ],
   "source": [
    "step(2,2,10)"
   ]
  },
  {
   "cell_type": "code",
   "execution_count": 115,
   "metadata": {},
   "outputs": [
    {
     "output_type": "execute_result",
     "data": {
      "text/plain": [
       "[307, 317]"
      ]
     },
     "metadata": {},
     "execution_count": 115
    }
   ],
   "source": [
    "step(10,300,400)"
   ]
  },
  {
   "source": [
    "The following works but is too inefficient to pass CodeWars testing.  It's also completely unnecessary to compile the list of primes, as we only need to test whether 2 specific numbers *are* primes"
   ],
   "cell_type": "markdown",
   "metadata": {}
  },
  {
   "cell_type": "code",
   "execution_count": 98,
   "metadata": {},
   "outputs": [],
   "source": [
    "def step1(g, m, n):\n",
    "    # create list of all primes between m and n (both inclusive) using Sieve of Eratosthenes\n",
    "\n",
    "    # start by compiling a list of numbers that are not prime\n",
    "    multiples = []\n",
    "    for i in range(2,n+1):\n",
    "        if i not in multiples:\n",
    "            for j in range(i*i, n+1, i):\n",
    "                multiples.append(j)\n",
    "\n",
    "    # prime numbers are all the others in the range\n",
    "    nums = [ i for i in range(m,n+1) if i not in multiples and i!=2]\n",
    "\n",
    "    # now that we've got the list of primes, look for the first pair with the specified step\n",
    "    for i in range(len(nums)):\n",
    "        for j in range(i, len(nums)):\n",
    "            if nums[j] - nums[i] == g:\n",
    "                return [nums[i], nums[j]]\n",
    "    return None"
   ]
  },
  {
   "cell_type": "code",
   "execution_count": null,
   "metadata": {},
   "outputs": [],
   "source": []
  }
 ]
}
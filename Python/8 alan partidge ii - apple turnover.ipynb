{
 "cells": [
  {
   "cell_type": "markdown",
   "metadata": {},
   "source": [
    "Alan is known for referring to the temperature of the apple turnover as 'Hotter than the sun!'. According to space.com the temperature of the sun's corona is 2,000,000 degrees C, but we will ignore the science for now.\r\n",
    "\r\n",
    "Your job is simple, if (x) squared is more than 1000, return 'It's hotter than the sun!!', else, return 'Help yourself to a honeycomb Yorkie for the glovebox.'.\r\n",
    "\r\n",
    "X will be a valid integer number.\r\n",
    "\r\n",
    "X will be either a number or a string. Both are valid. "
   ]
  },
  {
   "cell_type": "code",
   "execution_count": 1,
   "metadata": {},
   "outputs": [],
   "source": [
    "def apple(x):\r\n",
    "    if int(x) ** 2 > 1000:\r\n",
    "        return \"It's hotter than the sun!!\"\r\n",
    "    return \"Help yourself to a honeycomb Yorkie for the glovebox.\""
   ]
  }
 ],
 "metadata": {
  "interpreter": {
   "hash": "e9440e5d603c35774c62af017100812874226e35d1790890ccf27e7cab51d293"
  },
  "kernelspec": {
   "display_name": "Python 3.9.0 64-bit",
   "name": "python3"
  },
  "language_info": {
   "codemirror_mode": {
    "name": "ipython",
    "version": 3
   },
   "file_extension": ".py",
   "mimetype": "text/x-python",
   "name": "python",
   "nbconvert_exporter": "python",
   "pygments_lexer": "ipython3",
   "version": "3.9.0"
  },
  "orig_nbformat": 4
 },
 "nbformat": 4,
 "nbformat_minor": 2
}
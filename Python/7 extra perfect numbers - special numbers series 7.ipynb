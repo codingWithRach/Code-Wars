{
 "metadata": {
  "language_info": {
   "codemirror_mode": {
    "name": "ipython",
    "version": 3
   },
   "file_extension": ".py",
   "mimetype": "text/x-python",
   "name": "python",
   "nbconvert_exporter": "python",
   "pygments_lexer": "ipython3",
   "version": "3.8.5-final"
  },
  "orig_nbformat": 2,
  "kernelspec": {
   "name": "python3",
   "display_name": "Python 3",
   "language": "python"
  }
 },
 "nbformat": 4,
 "nbformat_minor": 2,
 "cells": [
  {
   "source": [
    "Extra perfect number is the number that first and last bits are set bits.\n",
    "\n",
    "Given a positive integer N , Return the extra perfect numbers in range from 1 to N .\n",
    "\n",
    "Notes\n",
    "- Number passed is always Positive .\n",
    "- Returned array/list should contain the extra perfect numbers in ascending order from lowest to highest\n",
    "\n",
    "# Input >> Output Examples\n",
    "\n",
    "extraPerfect(3)  ==>  return {1,3}\n",
    "\n",
    "Explanation:\n",
    "(1)10 =(1)2\n",
    "\n",
    "First and last bits as set bits.\n",
    "(3)10 = (11)2\n",
    "\n",
    "First and last bits as set bits.\n",
    "\n",
    "\n",
    "extraPerfect(7)  ==>  return {1,3,5,7}\n",
    "\n",
    "Explanation:\n",
    "(5)10 = (101)2\n",
    "\n",
    "First and last bits as set bits.\n",
    "(7)10 = (111)2\n",
    "\n",
    "First and last bits as set bits."
   ],
   "cell_type": "markdown",
   "metadata": {}
  },
  {
   "cell_type": "code",
   "execution_count": 48,
   "metadata": {},
   "outputs": [],
   "source": [
    "def extra_perfect(n):\n",
    "    result = []\n",
    "    for i in range(1, n+1):\n",
    "        if bin(i)[2] == '1' and bin(i)[-1] == '1':\n",
    "            result.append(i)\n",
    "    return result"
   ]
  },
  {
   "cell_type": "code",
   "execution_count": null,
   "metadata": {},
   "outputs": [],
   "source": []
  },
  {
   "cell_type": "code",
   "execution_count": null,
   "metadata": {},
   "outputs": [],
   "source": []
  }
 ]
}
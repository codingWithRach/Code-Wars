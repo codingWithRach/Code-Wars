{
 "metadata": {
  "language_info": {
   "codemirror_mode": {
    "name": "ipython",
    "version": 3
   },
   "file_extension": ".py",
   "mimetype": "text/x-python",
   "name": "python",
   "nbconvert_exporter": "python",
   "pygments_lexer": "ipython3",
   "version": "3.8.5-final"
  },
  "orig_nbformat": 2,
  "kernelspec": {
   "name": "python3",
   "display_name": "Python 3",
   "language": "python"
  }
 },
 "nbformat": 4,
 "nbformat_minor": 2,
 "cells": [
  {
   "source": [
    "\n",
    "-    A friend of mine takes a sequence of numbers from 1 to n (where n > 0).\n",
    "-    Within that sequence, he chooses two numbers, a and b.\n",
    "-    He says that the product of a and b should be equal to the sum of all numbers in the sequence, excluding a and b.\n",
    "-    Given a number n, could you tell me the numbers he excluded from the sequence?\n",
    "\n",
    "The function takes the parameter: n (n is always strictly greater than 0) and returns an array or a string (depending on the language) of the form:\n",
    "\n",
    "[(a, b), ...] or [[a, b], ...] or {{a, b}, ...} or or [{a, b}, ...]\n",
    "\n",
    "with all (a, b) which are the possible removed numbers in the sequence 1 to n.\n",
    "\n",
    "[(a, b), ...] or [[a, b], ...] or {{a, b}, ...} or ...will be sorted in increasing order of the \"a\".\n",
    "\n",
    "It happens that there are several possible (a, b). The function returns an empty array (or an empty string) if no possible numbers are found which will prove that my friend has not told the truth! (Go: in this case return nil).\n",
    "Examples:\n",
    "\n",
    "removNb(26) should return [(15, 21), (21, 15)]\n",
    "or\n",
    "removNb(26) should return { {15, 21}, {21, 15} }\n",
    "or\n",
    "removeNb(26) should return [[15, 21], [21, 15]]\n",
    "or\n",
    "removNb(26) should return [ {15, 21}, {21, 15} ]\n",
    "or\n",
    "removNb(26) should return \"15 21, 21 15\""
   ],
   "cell_type": "markdown",
   "metadata": {}
  },
  {
   "cell_type": "code",
   "execution_count": 60,
   "metadata": {},
   "outputs": [],
   "source": [
    "# THEORY\n",
    "# a * b = total - a - b\n",
    "# total = a * b + a + b = (a + 1)(b + 1) - 1\n",
    "# set x = a + 1 and set y = b + 1\n",
    "# thus total + 1 = x * y\n",
    "# which can be rearranged as y = (total + 1)/x\n",
    "#\n",
    "# a >= 1 and a < n + 1 therefore x >= 2 and x < n + 2\n",
    "# b >= 1 and b < n + 1 therefore y >= 2 and y < n + 2\n",
    "# this means (total + 1)/ x is an integer and (total + 1)/x < n + 1\n",
    "\n",
    "def remov_nb(n):\n",
    "    result = []\n",
    "    total = sum(i for i in range(1,n+1))\n",
    "    for x in [x for x in range(2, n+2) if (total+1)/x == int((total+1)/x) and ((total + 1)/x < n + 1)]:\n",
    "        result.append((x - 1, int(((total + 1)/x)-1)))\n",
    "    return sorted(result)"
   ]
  },
  {
   "source": [
    "The following solution works but is too inefficient to pass codewars testing"
   ],
   "cell_type": "markdown",
   "metadata": {}
  },
  {
   "cell_type": "code",
   "execution_count": 11,
   "metadata": {},
   "outputs": [],
   "source": [
    "def remov_nb1(n):\n",
    "    result = []\n",
    "    total = sum(i for i in range(1,n+1))\n",
    "    for a in range(1,n+1):\n",
    "        for b in [b for b in range(a, n+1) if a*b == total - a - b]:\n",
    "            result.append((a,b))\n",
    "            result.append((b,a))\n",
    "    return sorted(result)"
   ]
  },
  {
   "cell_type": "code",
   "execution_count": 61,
   "metadata": {},
   "outputs": [
    {
     "output_type": "execute_result",
     "data": {
      "text/plain": [
       "[(15, 21), (21, 15)]"
      ]
     },
     "metadata": {},
     "execution_count": 61
    }
   ],
   "source": [
    "remov_nb(26)"
   ]
  },
  {
   "cell_type": "code",
   "execution_count": null,
   "metadata": {},
   "outputs": [],
   "source": []
  }
 ]
}
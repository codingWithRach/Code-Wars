{
 "metadata": {
  "language_info": {
   "codemirror_mode": {
    "name": "ipython",
    "version": 3
   },
   "file_extension": ".py",
   "mimetype": "text/x-python",
   "name": "python",
   "nbconvert_exporter": "python",
   "pygments_lexer": "ipython3",
   "version": "3.8.5"
  },
  "orig_nbformat": 2,
  "kernelspec": {
   "name": "python385jvsc74a57bd0a6d5379567e5c9aa2d153209ef4a1d00a383d1ae7f32ebada2471f125a521807",
   "display_name": "Python 3.8.5 64-bit (conda)"
  }
 },
 "nbformat": 4,
 "nbformat_minor": 2,
 "cells": [
  {
   "source": [
    "With a friend we used to play the following game on a chessboard (8, rows, 8 columns). On the first row at the bottom we put numbers:\n",
    "\n",
    "1/2, 2/3, 3/4, 4/5, 5/6, 6/7, 7/8, 8/9\n",
    "\n",
    "On row 2 (2nd row from the bottom) we have:\n",
    "\n",
    "1/3, 2/4, 3/5, 4/6, 5/7, 6/8, 7/9, 8/10\n",
    "\n",
    "On row 3:\n",
    "\n",
    "1/4, 2/5, 3/6, 4/7, 5/8, 6/9, 7/10, 8/11\n",
    "\n",
    "until last row:\n",
    "\n",
    "1/9, 2/10, 3/11, 4/12, 5/13, 6/14, 7/15, 8/16\n",
    "\n",
    "When all numbers are on the chessboard each in turn we toss a coin. The one who get \"head\" wins and the other gives him, in dollars, the sum of the numbers on the chessboard. We play for fun, the dollars come from a monopoly game!\n",
    "Task\n",
    "\n",
    "How much can I (or my friend) win or loses for each game if the chessboard has n rows and n columns? Add all of the fractional values on an n by n sized board and give the answer as a simplified fraction.\n",
    "\n",
    "The function called 'game' with parameter n (integer >= 0) returns as result an irreducible fraction written as an array of integers: [numerator, denominator]. If the denominator is 1 return [numerator]."
   ],
   "cell_type": "markdown",
   "metadata": {}
  },
  {
   "cell_type": "code",
   "execution_count": null,
   "metadata": {},
   "outputs": [],
   "source": [
    "# each element in grid is populated via:\n",
    "# ( col + 1 ) / ( row + col + 2 )\n",
    "# where both row and col are zero-based"
   ]
  },
  {
   "cell_type": "code",
   "execution_count": 40,
   "metadata": {},
   "outputs": [],
   "source": [
    "# the grid contains n^2 entries\n",
    "# n of these lie along the diagonal, and have a value equivalent to 1/2\n",
    "# thus the total of entries along the diagonal is n/2\n",
    "# of the remaining (n^2 - n) entries, half lie above the diagonal, and half lie below\n",
    "# each of the entries above the diagonal matches one of the entries below to add up to 1 e.g. 2/3 and 1/3, 3/4 and 1/4\n",
    "# thus the total of non-diagonal entries is (n^2 - n)/2\n",
    "# the total of all entries is n/2 + (n^2 - n)/ i.e. n^2/2\n",
    "def game(n):\n",
    "    if n**2 % 2 == 0:\n",
    "        return [int(n**2 / 2)]\n",
    "    else:\n",
    "        return [n**2, 2]"
   ]
  },
  {
   "cell_type": "code",
   "execution_count": 41,
   "metadata": {},
   "outputs": [
    {
     "output_type": "execute_result",
     "data": {
      "text/plain": [
       "[32]"
      ]
     },
     "metadata": {},
     "execution_count": 41
    }
   ],
   "source": [
    "game(8)"
   ]
  },
  {
   "cell_type": "code",
   "execution_count": 42,
   "metadata": {},
   "outputs": [
    {
     "output_type": "execute_result",
     "data": {
      "text/plain": [
       "[0]"
      ]
     },
     "metadata": {},
     "execution_count": 42
    }
   ],
   "source": [
    "game(0)"
   ]
  },
  {
   "cell_type": "code",
   "execution_count": 43,
   "metadata": {},
   "outputs": [
    {
     "output_type": "execute_result",
     "data": {
      "text/plain": [
       "[1, 2]"
      ]
     },
     "metadata": {},
     "execution_count": 43
    }
   ],
   "source": [
    "game(1)"
   ]
  },
  {
   "cell_type": "code",
   "execution_count": null,
   "metadata": {},
   "outputs": [],
   "source": []
  }
 ]
}
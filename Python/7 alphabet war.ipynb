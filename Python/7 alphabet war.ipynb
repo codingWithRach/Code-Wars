{
 "metadata": {
  "language_info": {
   "codemirror_mode": {
    "name": "ipython",
    "version": 3
   },
   "file_extension": ".py",
   "mimetype": "text/x-python",
   "name": "python",
   "nbconvert_exporter": "python",
   "pygments_lexer": "ipython3",
   "version": 3
  },
  "orig_nbformat": 2
 },
 "nbformat": 4,
 "nbformat_minor": 2,
 "cells": [
  {
   "source": [
    "# Introduction\n",
    "\n",
    "There is a war and nobody knows - the alphabet war!\n",
    "There are two groups of hostile letters. The tension between left side letters and right side letters was too high and the war began.\n",
    "# Task\n",
    "\n",
    "Write a function that accepts fight string consists of only small letters and return who wins the fight. When the left side wins return Left side wins!, when the right side wins return Right side wins!, in other case return Let's fight again!.\n",
    "\n",
    "The left side letters and their power:\n",
    "\n",
    " w - 4\n",
    " p - 3\n",
    " b - 2\n",
    " s - 1\n",
    "\n",
    "The right side letters and their power:\n",
    "\n",
    " m - 4\n",
    " q - 3\n",
    " d - 2\n",
    " z - 1\n",
    "\n",
    "The other letters don't have power and are only victims.\n",
    "# Example\n",
    "\n",
    "AlphabetWar(\"z\");        //=> Right side wins!\n",
    "AlphabetWar(\"zdqmwpbs\"); //=> Let's fight again!\n",
    "AlphabetWar(\"zzzzs\");    //=> Right side wins!\n",
    "AlphabetWar(\"wwwwwwz\");  //=> Left side wins!"
   ],
   "cell_type": "markdown",
   "metadata": {}
  },
  {
   "cell_type": "code",
   "execution_count": null,
   "metadata": {},
   "outputs": [],
   "source": [
    "def alphabet_war(fight):\n",
    "    left_score = fight.count('w')*4 + fight.count('p')*3 + fight.count('b')*2 + fight.count('s')\n",
    "    right_score = fight.count('m')*4 + fight.count('q')*3 + fight.count('d')*2 + fight.count('z')\n",
    "    if left_score > right_score:\n",
    "        return 'Left side wins!'\n",
    "    elif right_score > left_score:\n",
    "        return 'Right side wins!'\n",
    "    else:\n",
    "        return \"Let's fight again!\""
   ]
  }
 ]
}
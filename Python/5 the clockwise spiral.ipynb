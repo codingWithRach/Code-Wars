{
 "metadata": {
  "language_info": {
   "codemirror_mode": {
    "name": "ipython",
    "version": 3
   },
   "file_extension": ".py",
   "mimetype": "text/x-python",
   "name": "python",
   "nbconvert_exporter": "python",
   "pygments_lexer": "ipython3",
   "version": "3.8.5"
  },
  "orig_nbformat": 2,
  "kernelspec": {
   "name": "python3",
   "display_name": "Python 3.8.5 64-bit ('base': conda)",
   "metadata": {
    "interpreter": {
     "hash": "a6d5379567e5c9aa2d153209ef4a1d00a383d1ae7f32ebada2471f125a521807"
    }
   }
  }
 },
 "nbformat": 4,
 "nbformat_minor": 2,
 "cells": [
  {
   "source": [
    "Classic definition: A spiral is a curve which emanates from a central point, getting progressively farther away as it revolves around the point.\n",
    "\n",
    "Your objective is to complete a function createSpiral(N) that receives an integer N and returns an NxN two-dimensional array with numbers 1 through NxN represented as a clockwise spiral.\n",
    "\n",
    "Return an empty array if N < 1 or N is not int / number\n",
    "\n",
    "Examples:\n",
    "\n",
    "N = 3 Output: [[1,2,3],[8,9,4],[7,6,5]]\n",
    "\n",
    "1    2    3    \n",
    "8    9    4    \n",
    "7    6    5    \n",
    "\n",
    "N = 4 Output: [[1,2,3,4],[12,13,14,5],[11,16,15,6],[10,9,8,7]]\n",
    "\n",
    "1   2   3   4\n",
    "12  13  14  5\n",
    "11  16  15  6\n",
    "10  9   8   7\n",
    "\n",
    "N = 5 Output: [[1,2,3,4,5],[16,17,18,19,6],[15,24,25,20,7],[14,23,22,21,8],[13,12,11,10,9]]\n",
    "\n",
    "1   2   3   4   5    \n",
    "16  17  18  19  6    \n",
    "15  24  25  20  7    \n",
    "14  23  22  21  8    \n",
    "13  12  11  10  9"
   ],
   "cell_type": "markdown",
   "metadata": {}
  },
  {
   "cell_type": "code",
   "execution_count": 68,
   "metadata": {},
   "outputs": [],
   "source": [
    "def create_spiral(n):\n",
    "    # check n is valid\n",
    "    if not isinstance(n,int) or n < 1:\n",
    "        return []\n",
    "\n",
    "    # create empty structure and initialise variables\n",
    "    result = [[0 for x in range(n)] for x in range(n)]\n",
    "    row = col = 0\n",
    "    min_row = min_col = 0\n",
    "    max_row = max_col = n-1\n",
    "    row_append = 0\n",
    "    col_append = 1\n",
    "\n",
    "    # insert each value into the correct position in the structure\n",
    "    for i in range(1, (n**2)+1):\n",
    "        result[row][col] = i\n",
    "\n",
    "        # adjust the column and check that it's within the boundaries\n",
    "        col += col_append\n",
    "        if col > max_col:\n",
    "            col = max_col\n",
    "            # amend the boundaries\n",
    "            min_row += 1\n",
    "            # amend direction of travel\n",
    "            row_append = 1\n",
    "            col_append = 0\n",
    "        elif col < min_col:\n",
    "            col = min_col\n",
    "            # amend the boundaries\n",
    "            max_row -= 1\n",
    "            # amend direction of travel\n",
    "            row_append = -1\n",
    "            col_append = 0\n",
    "\n",
    "        # adjust the row and check that it's within the boundaries\n",
    "        row += row_append\n",
    "        if row > max_row:\n",
    "            row = max_row\n",
    "            # amend the boundaries\n",
    "            max_col -= 1\n",
    "            col = max_col\n",
    "            # amend direction of travel\n",
    "            row_append = 0\n",
    "            col_append = -1\n",
    "        elif row < min_row:\n",
    "            row = min_row\n",
    "            # amend the boundaries\n",
    "            min_col += 1\n",
    "            col = min_col\n",
    "            # amend direction of travel\n",
    "            row_append = 0\n",
    "            col_append = 1\n",
    "\n",
    "    return result"
   ]
  },
  {
   "cell_type": "code",
   "execution_count": 69,
   "metadata": {},
   "outputs": [
    {
     "output_type": "stream",
     "name": "stdout",
     "text": [
      "[[1, 2, 3], [8, 9, 4], [7, 6, 5]]\n"
     ]
    }
   ],
   "source": [
    "print(create_spiral(3))"
   ]
  },
  {
   "cell_type": "code",
   "execution_count": 70,
   "metadata": {},
   "outputs": [
    {
     "output_type": "stream",
     "name": "stdout",
     "text": [
      "[[1, 2, 3, 4], [12, 13, 14, 5], [11, 16, 15, 6], [10, 9, 8, 7]]\n"
     ]
    }
   ],
   "source": [
    "print(create_spiral(4))"
   ]
  },
  {
   "cell_type": "code",
   "execution_count": null,
   "metadata": {},
   "outputs": [],
   "source": []
  }
 ]
}
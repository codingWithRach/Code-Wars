{
 "cells": [
  {
   "cell_type": "markdown",
   "metadata": {},
   "source": [
    "This function should test if the factor is a factor of base.\n",
    "\n",
    "Return true if it is a factor or false if it is not.\n",
    "\n",
    "# About factors\n",
    "\n",
    "Factors are numbers you can multiply together to get another number.\n",
    "\n",
    "2 and 3 are factors of 6 because: 2 * 3 = 6\n",
    "\n",
    "    You can find a factor by dividing numbers. If the remainder is 0 then the number is a factor.\n",
    "    You can use the mod operator (%) in most languages to check for a remainder\n",
    "\n",
    "For example 2 is not a factor of 7 because: 7 % 2 = 1\n",
    "\n",
    "Note: base is a non-negative number, factor is a positive number.\n"
   ]
  },
  {
   "cell_type": "code",
   "execution_count": null,
   "metadata": {},
   "outputs": [],
   "source": [
    "def check_for_factor(base, factor):\n",
    "    return base % factor == 0"
   ]
  }
 ],
 "metadata": {
  "interpreter": {
   "hash": "e9440e5d603c35774c62af017100812874226e35d1790890ccf27e7cab51d293"
  },
  "kernelspec": {
   "display_name": "Python 3.9.0 64-bit",
   "language": "python",
   "name": "python3"
  },
  "language_info": {
   "name": "python",
   "version": "3.9.0"
  },
  "orig_nbformat": 4
 },
 "nbformat": 4,
 "nbformat_minor": 2
}

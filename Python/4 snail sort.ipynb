{
 "metadata": {
  "language_info": {
   "codemirror_mode": {
    "name": "ipython",
    "version": 3
   },
   "file_extension": ".py",
   "mimetype": "text/x-python",
   "name": "python",
   "nbconvert_exporter": "python",
   "pygments_lexer": "ipython3",
   "version": "3.8.5-final"
  },
  "orig_nbformat": 2,
  "kernelspec": {
   "name": "python3",
   "display_name": "Python 3",
   "language": "python"
  }
 },
 "nbformat": 4,
 "nbformat_minor": 2,
 "cells": [
  {
   "source": [
    "Snail Sort\n",
    "\n",
    "Given an n x n array, return the array elements arranged from outermost elements to the middle element, traveling clockwise.\n",
    "\n",
    "array = [[1,2,3],\n",
    "         [4,5,6],\n",
    "         [7,8,9]]\n",
    "snail(array) #=> [1,2,3,6,9,8,7,4,5]\n",
    "\n",
    "For better understanding, please follow the numbers of the next array consecutively:\n",
    "\n",
    "array = [[1,2,3],\n",
    "         [8,9,4],\n",
    "         [7,6,5]]\n",
    "snail(array) #=> [1,2,3,4,5,6,7,8,9]\n",
    "\n",
    "NOTE: The idea is not sort the elements from the lowest value to the highest; the idea is to traverse the 2-d array in a clockwise snailshell pattern.\n",
    "\n",
    "NOTE 2: The 0x0 (empty matrix) is represented as en empty array inside an array [[]]."
   ],
   "cell_type": "markdown",
   "metadata": {}
  },
  {
   "cell_type": "code",
   "execution_count": 177,
   "metadata": {},
   "outputs": [],
   "source": [
    "def do_row(snail_map, snail, row, start_col, end_col, direction):\n",
    "    for col in range(start_col, end_col, direction):\n",
    "        snail.append(snail_map[row][col])"
   ]
  },
  {
   "cell_type": "code",
   "execution_count": 178,
   "metadata": {},
   "outputs": [],
   "source": [
    "def do_col(snail_map, snail, col, start_row, end_row, direction):\n",
    "    for row in range(start_row, end_row, direction):\n",
    "        snail.append(snail_map[row][col])"
   ]
  },
  {
   "cell_type": "code",
   "execution_count": 184,
   "metadata": {},
   "outputs": [],
   "source": [
    "def snail(snail_map):\n",
    "    snail = []\n",
    "    if snail_map == [[]]:\n",
    "        return snail\n",
    "    min_row_done = min_col_done = -1\n",
    "    max_row_done = max_col_done = len(snail_map)\n",
    "\n",
    "    while (max_row_done - min_row_done > 1) or (max_col_done - min_col_done > 1):\n",
    "        min_row_done += 1\n",
    "        do_row(snail_map, snail, min_row_done, min_col_done + 1, max_col_done, 1)\n",
    "\n",
    "        do_col(snail_map, snail, max_col_done - 1, min_row_done + 1, max_row_done, 1)\n",
    "        max_col_done -= 1\n",
    "\n",
    "        do_row(snail_map, snail, max_row_done - 1, max_col_done - 1, min_col_done, -1)\n",
    "        max_row_done -= 1\n",
    "\n",
    "        do_col(snail_map, snail, min_col_done + 1, max_row_done - 1, min_row_done, -1)\n",
    "        min_col_done += 1\n",
    "    \n",
    "    return snail"
   ]
  },
  {
   "cell_type": "code",
   "execution_count": 185,
   "metadata": {},
   "outputs": [
    {
     "output_type": "execute_result",
     "data": {
      "text/plain": [
       "[1, 2, 3, 6, 9, 8, 7, 4, 5]"
      ]
     },
     "metadata": {},
     "execution_count": 185
    }
   ],
   "source": [
    "array = [[1,2,3],\n",
    "         [4,5,6],\n",
    "         [7,8,9]]\n",
    "snail(array)"
   ]
  },
  {
   "cell_type": "code",
   "execution_count": 181,
   "metadata": {},
   "outputs": [
    {
     "output_type": "execute_result",
     "data": {
      "text/plain": [
       "[1, 2, 3, 1, 4, 7, 7, 9, 8, 7, 7, 4, 5, 6, 9, 8]"
      ]
     },
     "metadata": {},
     "execution_count": 181
    }
   ],
   "source": [
    "array = [[1,2,3,1],\n",
    "         [4,5,6,4],\n",
    "         [7,8,9,7],\n",
    "         [7,8,9,7]]\n",
    "snail(array)"
   ]
  },
  {
   "cell_type": "code",
   "execution_count": null,
   "metadata": {},
   "outputs": [],
   "source": [
    "array = [[1,2,3],\n",
    "         [4,5,6],\n",
    "         [7,8,9]]\n",
    "expected = [1,2,3,6,9,8,7,4,5]\n",
    "test.assert_equals(snail(array), expected)"
   ]
  }
 ]
}
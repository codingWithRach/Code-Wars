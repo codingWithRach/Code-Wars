{
 "metadata": {
  "language_info": {
   "codemirror_mode": {
    "name": "ipython",
    "version": 3
   },
   "file_extension": ".py",
   "mimetype": "text/x-python",
   "name": "python",
   "nbconvert_exporter": "python",
   "pygments_lexer": "ipython3",
   "version": "3.9.0"
  },
  "orig_nbformat": 2,
  "kernelspec": {
   "name": "python390jvsc74a57bd0e9440e5d603c35774c62af017100812874226e35d1790890ccf27e7cab51d293",
   "display_name": "Python 3.9.0 64-bit"
  },
  "metadata": {
   "interpreter": {
    "hash": "e9440e5d603c35774c62af017100812874226e35d1790890ccf27e7cab51d293"
   }
  }
 },
 "nbformat": 4,
 "nbformat_minor": 2,
 "cells": [
  {
   "source": [
    "# Task\n",
    "\n",
    "Given two cells on the standard chess board, determine whether they have the same color or not.\n",
    "\n",
    "# Example\n",
    "\n",
    "- For cell1 = \"A1\" and cell2 = \"C3\", the output should be true.\n",
    "- For cell1 = \"A1\" and cell2 = \"H3\", the output should be false.\n",
    "\n",
    "# Input/Output\n",
    "- [input] string cell1\n",
    "- [input] string cell2\n",
    "- [output] a boolean value: true if both cells have the same color, false otherwise."
   ],
   "cell_type": "markdown",
   "metadata": {}
  },
  {
   "cell_type": "code",
   "execution_count": 19,
   "metadata": {},
   "outputs": [],
   "source": [
    "def chess_board_cell_color(cell1, cell2):\n",
    "    return (ord(cell1[0]) + int(cell1[1])) % 2 == (ord(cell2[0]) + int(cell2[1])) % 2"
   ]
  },
  {
   "cell_type": "code",
   "execution_count": 20,
   "metadata": {},
   "outputs": [
    {
     "output_type": "execute_result",
     "data": {
      "text/plain": [
       "True"
      ]
     },
     "metadata": {},
     "execution_count": 20
    }
   ],
   "source": [
    "chess_board_cell_color(\"A1\", \"C3\")"
   ]
  },
  {
   "cell_type": "code",
   "execution_count": 21,
   "metadata": {},
   "outputs": [
    {
     "output_type": "execute_result",
     "data": {
      "text/plain": [
       "False"
      ]
     },
     "metadata": {},
     "execution_count": 21
    }
   ],
   "source": [
    "chess_board_cell_color(\"A1\", \"H3\")"
   ]
  },
  {
   "cell_type": "code",
   "execution_count": null,
   "metadata": {},
   "outputs": [],
   "source": []
  }
 ]
}
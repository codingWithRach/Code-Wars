{
 "metadata": {
  "language_info": {
   "codemirror_mode": {
    "name": "ipython",
    "version": 3
   },
   "file_extension": ".py",
   "mimetype": "text/x-python",
   "name": "python",
   "nbconvert_exporter": "python",
   "pygments_lexer": "ipython3",
   "version": "3.8.5-final"
  },
  "orig_nbformat": 2,
  "kernelspec": {
   "name": "python3",
   "display_name": "Python 3.8.5 64-bit (conda)",
   "metadata": {
    "interpreter": {
     "hash": "a6d5379567e5c9aa2d153209ef4a1d00a383d1ae7f32ebada2471f125a521807"
    }
   }
  }
 },
 "nbformat": 4,
 "nbformat_minor": 2,
 "cells": [
  {
   "source": [
    "# Task\n",
    "Two integer numbers are added using the column addition method. When using this method, some additions of digits produce non-zero carries to the next positions. Your task is to calculate the number of non-zero carries that will occur while adding the given numbers.\n",
    "\n",
    "The numbers are added in base 10.\n",
    "# Example\n",
    "For a = 543 and b = 3456, the output should be 0\n",
    "\n",
    "For a = 1927 and b = 6426, the output should be 2\n",
    "\n",
    "For a = 9999 and b = 1, the output should be 4\n",
    "# Input/Output\n",
    "- [input] integer a - a positive integer (1 ≤ a ≤ 10^7)\n",
    "- [input] integer b - a positive integer (1 ≤ b ≤ 10^7)\n",
    "- [output] an integer"
   ],
   "cell_type": "markdown",
   "metadata": {}
  },
  {
   "cell_type": "code",
   "execution_count": 56,
   "metadata": {},
   "outputs": [],
   "source": [
    "def number_of_carries(a, b):\n",
    "    num_carries = carry_digit = 0\n",
    "    bigger = [int(digit) for digit in str(max(a,b))][::-1]\n",
    "    smaller = [int(digit) for digit in str(min(a,b))][::-1]\n",
    "    for i in range(len(bigger)):\n",
    "        smaller_digit = 0\n",
    "        if i < len(smaller):\n",
    "            smaller_digit = smaller[i]\n",
    "        sum_digits = bigger[i] + smaller_digit + carry_digit\n",
    "        if sum_digits >= 10:\n",
    "            carry_digit = sum_digits // 10\n",
    "            num_carries += 1\n",
    "        else:\n",
    "            carry_digit = 0\n",
    "    return num_carries       "
   ]
  },
  {
   "cell_type": "code",
   "execution_count": null,
   "metadata": {},
   "outputs": [],
   "source": []
  }
 ]
}
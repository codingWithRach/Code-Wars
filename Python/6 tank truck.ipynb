{
 "metadata": {
  "language_info": {
   "codemirror_mode": {
    "name": "ipython",
    "version": 3
   },
   "file_extension": ".py",
   "mimetype": "text/x-python",
   "name": "python",
   "nbconvert_exporter": "python",
   "pygments_lexer": "ipython3",
   "version": "3.9.0"
  },
  "orig_nbformat": 2,
  "kernelspec": {
   "name": "python390jvsc74a57bd0e9440e5d603c35774c62af017100812874226e35d1790890ccf27e7cab51d293",
   "display_name": "Python 3.9.0 64-bit"
  },
  "metadata": {
   "interpreter": {
    "hash": "e9440e5d603c35774c62af017100812874226e35d1790890ccf27e7cab51d293"
   }
  }
 },
 "nbformat": 4,
 "nbformat_minor": 2,
 "cells": [
  {
   "source": [
    "To introduce the problem think to my neighbor who drives a tanker truck. The level indicator is down and he is worried because he does not know if he will be able to make deliveries. We put the truck on a horizontal ground and measured the height of the liquid in the tank.\n",
    "\n",
    "Fortunately the tank is a perfect cylinder and the vertical walls on each end are flat. The height of the remaining liquid is h, the diameter of the cylinder is d, the total volume is vt (h, d, vt are positive or null integers). You can assume that h <= d.\n",
    "\n",
    "Could you calculate the remaining volume of the liquid? Your function tankvol(h, d, vt) returns an integer which is the truncated result (e.g floor) of your float calculation.\n",
    "\n",
    "Examples:\n",
    "\n",
    "tankvol(40,120,3500) should return 1021 (calculation gives about: 1021.26992027)\n",
    "\n",
    "tankvol(60,120,3500) should return 1750\n",
    "\n",
    "tankvol(80,120,3500) should return 2478 (calculation gives about: 2478.73007973)"
   ],
   "cell_type": "markdown",
   "metadata": {}
  },
  {
   "cell_type": "code",
   "execution_count": 47,
   "metadata": {},
   "outputs": [],
   "source": [
    "# the area we want is a slice of the circle minus 2 right-angled triangles\n",
    "def calc_area_segment(h, r, area_circle):\n",
    "    import math\n",
    "    \n",
    "    # use pythagoras to determine the base of each triangle\n",
    "    base = ( r**2 - (r - h)**2) ** 0.5\n",
    "\n",
    "    # use trigonometry to determine the angle of each triangle\n",
    "    # tan(angle) = base / (r-h)\n",
    "    angle = 2 * math.degrees(math.atan( base / (r-h) ))\n",
    "\n",
    "    # calculate area of slice of circle\n",
    "    area_slice = (angle / 360) * area_circle\n",
    "\n",
    "    # calculate area of each triangle\n",
    "    area_triangle = 0.5 * base * (r-h)\n",
    "\n",
    "    # calculate required area\n",
    "    return area_slice - ( 2 * area_triangle )"
   ]
  },
  {
   "cell_type": "code",
   "execution_count": 48,
   "metadata": {},
   "outputs": [],
   "source": [
    "def tankvol(h, d, vt):\n",
    "    import math\n",
    "\n",
    "    # radius is half of diameter\n",
    "    r = d / 2\n",
    "\n",
    "    # determine area of circle\n",
    "    area_circle = math.pi * r**2\n",
    "\n",
    "    # if height of fuel is the same as radius of tank, tank is half full\n",
    "    if h == r:\n",
    "        return math.floor(vt / 2)\n",
    "\n",
    "    # if height of fuel is less than radius of tank, area of segment is area of fuel\n",
    "    if h < r:\n",
    "        area_fuel = calc_area_segment(h, r, area_circle)\n",
    "\n",
    "    # otherwise, area of fuel = area of circle - area of segment\n",
    "    else:\n",
    "        area_fuel = area_circle - calc_area_segment(d-h, r, area_circle)\n",
    "\n",
    "    # determine length of the tank\n",
    "    length_tank = vt / area_circle\n",
    "\n",
    "    # calculate the volume of fuel\n",
    "    return math.floor(area_fuel * length_tank)"
   ]
  },
  {
   "cell_type": "code",
   "execution_count": 49,
   "metadata": {},
   "outputs": [
    {
     "output_type": "execute_result",
     "data": {
      "text/plain": [
       "1021"
      ]
     },
     "metadata": {},
     "execution_count": 49
    }
   ],
   "source": [
    "tankvol(40,120,3500)\n",
    "# 1021"
   ]
  },
  {
   "cell_type": "code",
   "execution_count": 50,
   "metadata": {},
   "outputs": [
    {
     "output_type": "execute_result",
     "data": {
      "text/plain": [
       "2940"
      ]
     },
     "metadata": {},
     "execution_count": 50
    }
   ],
   "source": [
    "tankvol(5,7,3848)\n",
    "# 2940"
   ]
  },
  {
   "cell_type": "code",
   "execution_count": null,
   "metadata": {},
   "outputs": [],
   "source": []
  }
 ]
}
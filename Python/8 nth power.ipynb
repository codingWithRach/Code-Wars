{
 "metadata": {
  "language_info": {
   "codemirror_mode": {
    "name": "ipython",
    "version": 3
   },
   "file_extension": ".py",
   "mimetype": "text/x-python",
   "name": "python",
   "nbconvert_exporter": "python",
   "pygments_lexer": "ipython3",
   "version": 3
  },
  "orig_nbformat": 2
 },
 "nbformat": 4,
 "nbformat_minor": 2,
 "cells": [
  {
   "source": [
    "You are given an array with positive numbers and a non-negative number N. You should find the N-th power of the element in the array with the index N. If N is outside of the array, then return -1. Don't forget that the first element has the index 0.\n",
    "\n",
    "Let's look at a few examples:\n",
    "\n",
    "    array = [1, 2, 3, 4] and N = 2, then the result is 3^2 == 9;\n",
    "    array = [1, 2, 3] and N = 3, but N is outside of the array, so the result is -1.\n"
   ],
   "cell_type": "markdown",
   "metadata": {}
  },
  {
   "cell_type": "code",
   "execution_count": null,
   "metadata": {},
   "outputs": [],
   "source": [
    "def index(array, n):\n",
    "    if n > len(array) - 1:\n",
    "        return -1\n",
    "    return array[n]**n"
   ]
  }
 ]
}
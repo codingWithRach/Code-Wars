{
 "metadata": {
  "language_info": {
   "codemirror_mode": {
    "name": "ipython",
    "version": 3
   },
   "file_extension": ".py",
   "mimetype": "text/x-python",
   "name": "python",
   "nbconvert_exporter": "python",
   "pygments_lexer": "ipython3",
   "version": "3.8.5-final"
  },
  "orig_nbformat": 2,
  "kernelspec": {
   "name": "python3",
   "display_name": "Python 3",
   "language": "python"
  }
 },
 "nbformat": 4,
 "nbformat_minor": 2,
 "cells": [
  {
   "source": [
    "# Motivation\n",
    "Natural language texts often have a very high frequency of certain letters, in German for example, almost every 5th letter is an E, but only every 500th is a Q. It would then be clever to choose a very small representation for E. This is exactly what the Huffman compression is about, choosing the length of the representation based on the frequencies of the symbol in the text.\n",
    "\n",
    "# Algorithm\n",
    "Let's assume we want to encode the word \"aaaabcc\", then we calculate the frequencies of the letters in the text:\n",
    "Symbol \tFrequency\n",
    "a \t4\n",
    "b \t1\n",
    "c \t2\n",
    "\n",
    "Now we choose a smaller representation the more often it occurs, to minimize the overall space needed. The algorithm uses a tree for encoding and decoding:\n",
    "\n",
    "  .\n",
    " / \\\n",
    "a   .\n",
    "   / \\\n",
    "   b  c\n",
    "\n",
    "Usually we choose 0 for the left branch and 1 for the right branch (but it might also be swapped). By traversing from the root to the symbol leaf, we want to encode, we get the matching representation. To decode a sequence of binary digits into a symbol, we start from the root and just follow the path in the same way, until we reach a symbol.\n",
    "\n",
    "Considering the above tree, we would encode a with 0, b with 10 and c with 11. Therefore encoding \"aaaabcc\" will result in 0000101111.\n",
    "\n",
    "(Note: As you can see the encoding is not optimal, since the code for b and c have same length, but that is topic of another data compression Kata.)\n",
    "# Tree construction\n",
    "\n",
    "To build the tree, we turn each symbol into a leaf and sort them by their frequency. In every step, we remove 2 trees with the smallest frequency and put them under a node. This node gets reinserted and has the sum of the frequencies of both trees as new frequency. We are finished, when there is only 1 tree left.\n",
    "\n",
    "(Hint: Maybe you can do it without sorting in every step?)\n",
    "# Goal\n",
    "\n",
    "Write functions frequencies, encode and decode.\n",
    "\n",
    "Note: Frequency lists with just one or less elements should get rejected. (Because then there is no information we could encode, but the length.)"
   ],
   "cell_type": "markdown",
   "metadata": {}
  },
  {
   "source": [
    "# Notes from Test Cases\n",
    "\n",
    "1. the higher frequencies are, the lower the length of their encoding should be (can also be equal for non-powers of 2)\n",
    "2. for an alphabet with same frequencies and with size of 2^n all encodings should have the length n"
   ],
   "cell_type": "markdown",
   "metadata": {}
  },
  {
   "cell_type": "code",
   "execution_count": 187,
   "metadata": {},
   "outputs": [],
   "source": [
    "# takes: str; returns: [ (str, int) ] (Strings in return value are single characters)\n",
    "def frequencies(s):\n",
    "    from collections import Counter\n",
    "    frequencies = Counter(s)\n",
    "    new_list = sorted(s, key=lambda x: (frequencies[x], x), reverse=False)\n",
    "    letters = list(dict.fromkeys(new_list))\n",
    "    if len(letters) == 0:\n",
    "        return []\n",
    "    freqs_list = []\n",
    "    for char in letters:\n",
    "         freqs_list.append((char, s.count(char)))\n",
    "    return freqs_list"
   ]
  },
  {
   "cell_type": "code",
   "execution_count": 213,
   "metadata": {},
   "outputs": [],
   "source": [
    "def combine_freq(freqs):   \n",
    "    # find the entry with the lowest frequency\n",
    "    freq_num = [freq for (char, freq) in freqs]\n",
    "    pos1 = freq_num.index(min(freq_num))\n",
    "\n",
    "    # the entry with the lowest frequency is not necessarily the first entry\n",
    "    # to find the entry with the sescond lowest frequency, first split the frequency table into two\n",
    "    low_before = low_after = max(freq_num) + 1\n",
    "    if pos1 > 0:\n",
    "         low_before = min(freq_num[0:pos1])\n",
    "    if pos1 < len(freqs)-1:\n",
    "        low_after = min(freq_num[pos1+1:])\n",
    "    pos2 = freq_num.index(min(low_before, low_after))\n",
    "    if pos2 == pos1:\n",
    "        pos2 = freq_num.index(min(low_before, low_after), pos1+1)\n",
    "\n",
    "    # combine the 2 entries with the lowest frequencies to create a new entry in the list\n",
    "    if pos2 < pos1:\n",
    "        pos1, pos2 = pos2, pos1\n",
    "    new_entry = [((freqs[pos1][0], freqs[pos2][0]), min(freq_num) + min(low_before, low_after))]\n",
    "    freqs_adj = new_entry + freqs[0:pos1] + freqs[pos1+1:pos2] + freqs[pos2+1:]\n",
    "\n",
    "    return freqs_adj"
   ]
  },
  {
   "cell_type": "code",
   "execution_count": 194,
   "metadata": {},
   "outputs": [],
   "source": [
    "def get_branch(dict, branch, digit, letter_first):\n",
    "    if len(branch) == 1:\n",
    "        if letter_first:\n",
    "            dict.update({branch : digit})\n",
    "        else:\n",
    "            dict.update({digit : branch})\n",
    "    else:\n",
    "        dict = get_branch( dict, branch[0], digit + '0', letter_first )\n",
    "        dict = get_branch( dict, branch[1], digit + '1', letter_first )\n",
    "    return dict"
   ]
  },
  {
   "cell_type": "code",
   "execution_count": 159,
   "metadata": {},
   "outputs": [],
   "source": [
    "def create_tree(freqs, letter_first):\n",
    "    freqs_adj = freqs[:]\n",
    "    while len(freqs_adj) > 2:\n",
    "        freqs_adj = combine_freq(freqs_adj)\n",
    "\n",
    "    # should now have 2 entries\n",
    "    # the first entry will be the '0' branch of the tree\n",
    "    dict = {}\n",
    "    dict = get_branch( dict, freqs_adj[0][0], '0', letter_first )\n",
    "\n",
    "    # the second entry will be the '1' branch of the tree\n",
    "    dict = get_branch( dict, freqs_adj[1][0], '1', letter_first )\n",
    "    return dict"
   ]
  },
  {
   "cell_type": "code",
   "execution_count": 169,
   "metadata": {},
   "outputs": [],
   "source": [
    "def single_level(freqs, power, letter_first):\n",
    "    dict = {}\n",
    "    for i in range(2**power):\n",
    "        # convert the value to its equivalent binary value (ignoring the 0b at the start)\n",
    "        bin_value = str(bin(i))[2:]\n",
    "\n",
    "        # pad the value with zeroes to the number of digits given by the number of levels \n",
    "        entry = '0' * (power - len(bin_value)) + bin_value\n",
    "\n",
    "        # append entry to dictionary\n",
    "        if letter_first:\n",
    "            dict.update({freqs[i][0] : entry})\n",
    "        else:\n",
    "            dict.update({ entry: freqs[i][0]})\n",
    "    return dict"
   ]
  },
  {
   "cell_type": "code",
   "execution_count": 183,
   "metadata": {},
   "outputs": [],
   "source": [
    "def create_dict(freqs, letter_first):\n",
    "    # determine whether the length of the frequency table is a power of 2\n",
    "    power = 1\n",
    "    while 2**power < len(freqs):\n",
    "        power += 1\n",
    "\n",
    "    # if the length of the frequency table is an exact power of 2, and all entries have the same frequency, create the tree all on one level\n",
    "    freq_num = [freq for (char, freq) in freqs]\n",
    "    if 2**power == len(freqs) and min(freq_num) == max(freq_num):\n",
    "        dict = single_level(freqs, power, letter_first)\n",
    "\n",
    "    # not a power of 2, so need to create tree, with high-frequency entries higher up the tree than low-frequency entries\n",
    "    else:\n",
    "        dict = create_tree(freqs, letter_first)\n",
    "\n",
    "    return dict"
   ]
  },
  {
   "cell_type": "code",
   "execution_count": 171,
   "metadata": {},
   "outputs": [],
   "source": [
    "# takes: [ (str, int) ], str; returns: String (with \"0\" and \"1\")\n",
    "def encode(freqs, s):\n",
    "    if len(freqs) < 2:\n",
    "        return None\n",
    "\n",
    "    dict = create_dict(freqs, True)\n",
    "    encoded = ''\n",
    "    for char in s:\n",
    "        if char in dict:\n",
    "            encoded += dict[char]\n",
    "    return encoded"
   ]
  },
  {
   "cell_type": "code",
   "execution_count": 172,
   "metadata": {},
   "outputs": [],
   "source": [
    "# takes [ [str, int] ], str (with \"0\" and \"1\"); returns: str\n",
    "def decode(freqs,bits):\n",
    "    if len(freqs) < 2:\n",
    "         return None\n",
    "\n",
    "    dict = create_dict(freqs, False)\n",
    "    bit = ''\n",
    "    decoded = ''\n",
    "    for char in bits:\n",
    "        bit += char\n",
    "        if bit in dict:\n",
    "            decoded += dict[bit]\n",
    "            bit = ''\n",
    "    return decoded"
   ]
  },
  {
   "cell_type": "code",
   "execution_count": 214,
   "metadata": {},
   "outputs": [
    {
     "output_type": "stream",
     "name": "stdout",
     "text": [
      "{'e': '0000000', 'f': '0000001', 'l': '000001', 'm': '00001', 'o': '0001', 'q': '001', 'v': '01', 'z': '1'}\nencoded: 0001\ndecoded: o\ndecodes correctly: True\n"
     ]
    }
   ],
   "source": [
    "fs = [('e', 2), ('f', 2), ('l', 4), ('m', 8), ('o', 16), ('q', 32), ('v', 64), ('z', 128)]\n",
    "word = 'o'\n",
    "print(create_dict(fs, True))\n",
    "print('encoded:', encode(fs, word))\n",
    "print('decoded:', decode(fs, encode(fs, word)))\n",
    "print('decodes correctly:', word == decode(fs, encode(fs, word)))"
   ]
  },
  {
   "cell_type": "code",
   "execution_count": 215,
   "metadata": {},
   "outputs": [
    {
     "output_type": "stream",
     "name": "stdout",
     "text": [
      "{'e': '0000000', 'f': '0000001', 'l': '000001', 'm': '00001', 'o': '0001', 'q': '001', 'v': '01', 'z': '1'}\nencoded: 001\ndecoded: q\ndecodes correctly: True\n"
     ]
    }
   ],
   "source": [
    "fs = [('e', 2), ('f', 2), ('l', 4), ('m', 8), ('o', 16), ('q', 32), ('v', 64), ('z', 128)]\n",
    "word = 'q'\n",
    "print(create_dict(fs, True))\n",
    "print('encoded:', encode(fs, word))\n",
    "print('decoded:', decode(fs, encode(fs, word)))\n",
    "print('decodes correctly:', word == decode(fs, encode(fs, word)))"
   ]
  },
  {
   "cell_type": "code",
   "execution_count": 202,
   "metadata": {},
   "outputs": [
    {
     "output_type": "stream",
     "name": "stdout",
     "text": [
      "14\n{'b': '0000000000000', 'c': '0000000000001', 'd': '000000000001', 'k': '00000000001', 'l': '0000000001', 'p': '000000001', 'r': '00000001', 's': '0000001', 't': '000001', 'u': '00001', 'v': '0001', 'x': '001', 'y': '01', 'z': '1'}\nencoded: 0000000000001\ndecoded: c\ndecodes correctly: True\n"
     ]
    }
   ],
   "source": [
    "fs = [('b', 2), ('c', 2), ('d', 4), ('k', 8), ('l', 16), ('p', 32), ('r', 64), ('s', 128), ('t', 256), ('u', 512), ('v', 1024), ('x', 2048), ('y', 4096), ('z', 8192)]\n",
    "print(len(fs))\n",
    "word = 'c'\n",
    "print(create_dict(fs, True))\n",
    "print('encoded:', encode(fs, word))\n",
    "print('decoded:', decode(fs, encode(fs, word)))\n",
    "print('decodes correctly:', word == decode(fs, encode(fs, word)))"
   ]
  },
  {
   "cell_type": "code",
   "execution_count": 203,
   "metadata": {},
   "outputs": [
    {
     "output_type": "stream",
     "name": "stdout",
     "text": [
      "{'b': '00', 'c': '01', 'a': '1'}\nencoded: 1111000101\ndecoded: aaaabcc\ndecodes correctly: True\n"
     ]
    }
   ],
   "source": [
    "fs = [('b', 1), ('c', 2), ('a', 4)]\n",
    "word = 'aaaabcc'\n",
    "print(create_dict(fs, True))\n",
    "print('encoded:', encode(fs, word))\n",
    "print('decoded:', decode(fs, encode(fs, word)))\n",
    "print('decodes correctly:', word == decode(fs, encode(fs, word)))"
   ]
  },
  {
   "cell_type": "code",
   "execution_count": 204,
   "metadata": {},
   "outputs": [
    {
     "output_type": "stream",
     "name": "stdout",
     "text": [
      "{'a': '0', 'b': '1'}\nencoded: 0\ndecoded: a\ndecodes correctly: True\n"
     ]
    }
   ],
   "source": [
    "fs = [('a', 1), ('b', 1)]\n",
    "word = 'a'\n",
    "print(create_dict(fs, True))\n",
    "print('encoded:', encode(fs, word))\n",
    "print('decoded:', decode(fs, encode(fs, word)))\n",
    "print('decodes correctly:', word == decode(fs, encode(fs, word)))"
   ]
  },
  {
   "cell_type": "code",
   "execution_count": 205,
   "metadata": {
    "tags": []
   },
   "outputs": [
    {
     "output_type": "stream",
     "name": "stdout",
     "text": [
      "{'a': '0000', 'b': '0001', 'c': '001', 'f': '01', 'd': '10', 'e': '11'}\nencoded: 000000010001001001101010111111010101\ndecoded: abbccdddeeefff\ndecodes correctly: True\n"
     ]
    }
   ],
   "source": [
    "fs = [('a', 1), ('b', 2), ('c', 2), ('d', 3), ('e', 3), ('f', 3)]\n",
    "word = 'abbccdddeeefff'\n",
    "print(create_dict(fs, True))\n",
    "print('encoded:', encode(fs, word))\n",
    "print('decoded:', decode(fs, encode(fs, word)))\n",
    "print('decodes correctly:', word == decode(fs, encode(fs, word)))"
   ]
  },
  {
   "cell_type": "code",
   "execution_count": 206,
   "metadata": {},
   "outputs": [
    {
     "output_type": "stream",
     "name": "stdout",
     "text": [
      "{'b': '00', 'c': '01', 'a': '1'}\nencoded: 1111000101\ndecoded: aaaabcc\ndecodes correctly: True\n"
     ]
    }
   ],
   "source": [
    "fs = [('b', 1), ('c', 2), ('a', 4)]\n",
    "word = 'aaaabcc'\n",
    "print(create_dict(fs, True))\n",
    "print('encoded:', encode(fs, word))\n",
    "print('decoded:', decode(fs, encode(fs, word)))\n",
    "print('decodes correctly:', word == decode(fs, encode(fs, word)))"
   ]
  },
  {
   "cell_type": "code",
   "execution_count": 207,
   "metadata": {
    "tags": []
   },
   "outputs": [
    {
     "output_type": "stream",
     "name": "stdout",
     "text": [
      "{'k': '000000', 'q': '000001', 'o': '000010', 'U': '000011', 'W': '000100', 'v': '000101', '!': '000110', 'm': '000111', '?': '001000', '5': '001001', 'T': '001010', 'R': '001011', 'e': '001100', 'V': '001101', 'B': '001110', 'F': '001111', 'D': '010000', 'i': '010001', 'X': '010010', 'l': '010011', 'n': '010100', 'I': '010101', '1': '010110', 'Y': '010111', '7': '011000', 'u': '011001', '0': '011010', 'Z': '011011', 'P': '011100', 'J': '011101', 'M': '011110', 'C': '011111', '4': '100000', 'j': '100001', 'g': '100010', 'w': '100011', 'x': '100100', 'K': '100101', 'A': '100110', 's': '100111', '9': '101000', 'f': '101001', 'r': '101010', '3': '101011', 'Q': '101100', 'b': '101101', '2': '101110', 'G': '101111', 'h': '110000', 'd': '110001', 'c': '110010', 'N': '110011', 'S': '110100', 'O': '110101', '6': '110110', 't': '110111', 'E': '111000', 'H': '111001', 'z': '111010', 'y': '111011', 'L': '111100', 'p': '111101', '8': '111110', 'a': '111111'}\nencoded: 000001\ndecoded: q\ndecodes correctly: True\n"
     ]
    }
   ],
   "source": [
    "fs = [('k', 5), ('q', 5), ('o', 5), ('U', 5), ('W', 5), ('v', 5), ('!', 5), ('m', 5), ('?', 5), ('5', 5), ('T', 5), ('R', 5), ('e', 5), ('V', 5), ('B', 5), ('F', 5), ('D', 5), ('i', 5), ('X', 5), ('l', 5), ('n', 5), ('I', 5), ('1', 5), ('Y', 5), ('7', 5), ('u', 5), ('0', 5), ('Z', 5), ('P', 5), ('J', 5), ('M', 5), ('C', 5), ('4', 5), ('j', 5), ('g', 5), ('w', 5), ('x', 5), ('K', 5), ('A', 5), ('s', 5), ('9', 5), ('f', 5), ('r', 5), ('3', 5), ('Q', 5), ('b', 5), ('2', 5), ('G', 5), ('h', 5), ('d', 5), ('c', 5), ('N', 5), ('S', 5), ('O', 5), ('6', 5), ('t', 5), ('E', 5), ('H', 5), ('z', 5), ('y', 5), ('L', 5), ('p', 5), ('8', 5), ('a', 5)]\n",
    "word = 'q'\n",
    "print(create_dict(fs, True))\n",
    "print('encoded:', encode(fs, word))\n",
    "print('decoded:', decode(fs, encode(fs, word)))\n",
    "print('decodes correctly:', word == decode(fs, encode(fs, word)))"
   ]
  },
  {
   "cell_type": "code",
   "execution_count": 208,
   "metadata": {},
   "outputs": [
    {
     "output_type": "stream",
     "name": "stdout",
     "text": [
      "{'k': '0000', 'q': '0001', 'n': '001000', 's': '001001', 'h': '001010', 'i': '001011', 'w': '001100', 'y': '001101', 't': '001110', 'v': '001111', 'm': '01000', 'r': '01001', 'o': '0101', 'a': '0110', 'j': '0111', 'b': '100', 'z': '101', 'g': '1100', 'l': '1101', 'c': '11100', 'd': '11101', 'e': '1111'}\nencoded: 10000001000110100101011010101010111000100110101110010001110100000100010110001001011100011110011010010101000100111110001111111010100000001100110000111101100011000101000001011010010110001001110001001101\ndecoded: bkbabzazojqyjndkmzbrjqclhbreqelmkggvawokoziqtsz\ndecodes correctly: True\n"
     ]
    }
   ],
   "source": [
    "fs = [('c', 1), ('d', 1), ('h', 1), ('i', 1), ('n', 1), ('s', 1), ('t', 1), ('v', 1), ('w', 1), ('y', 1), ('e', 2), ('g', 2), ('l', 2), ('m', 2), ('r', 2), ('a', 3), ('j', 3), ('o', 3), ('k', 4), ('q', 4), ('b', 5), ('z', 5)]\n",
    "word = 'bkbabzazojqyjndkmzbrjqclhbreqelmkggvawokoziqtsz'\n",
    "print(create_dict(fs, True))\n",
    "print('encoded:', encode(fs, word))\n",
    "print('decoded:', decode(fs, encode(fs, word)))\n",
    "print('decodes correctly:', word == decode(fs, encode(fs, word)))"
   ]
  },
  {
   "cell_type": "code",
   "execution_count": 209,
   "metadata": {},
   "outputs": [
    {
     "output_type": "stream",
     "name": "stdout",
     "text": [
      "{'k': '000', 'p': '001', 'f': '0100', 'g': '0101', 'd': '0110', 'e': '0111', 'h': '1000', 'l': '1001', 'r': '101', 'q': '11'}\nencoded: 1010111001110110110010100100110000000101000\ndecoded: repqdqpflhkgk\ndecodes correctly: True\n"
     ]
    }
   ],
   "source": [
    "fs = [('d', 1), ('e', 1), ('f', 1), ('g', 1), ('h', 1), ('l', 1), ('r', 1), ('k', 2), ('p', 2), ('q', 2)]\n",
    "word = 'repqdqpflhkgk'\n",
    "print(create_dict(fs, True))\n",
    "print('encoded:', encode(fs, word))\n",
    "print('decoded:', decode(fs, encode(fs, word)))\n",
    "print('decodes correctly:', word == decode(fs, encode(fs, word)))"
   ]
  },
  {
   "cell_type": "code",
   "execution_count": 210,
   "metadata": {
    "tags": []
   },
   "outputs": [
    {
     "output_type": "stream",
     "name": "stdout",
     "text": [
      "fs [('b', 1), ('c', 2), ('a', 4)]\ndict {'b': '00', 'c': '01', 'a': '1'}\ndict {'00': 'b', '01': 'c', '1': 'a'}\nencoded: 1111000101\ndecoded: aaaabcc\ndecodes correctly: True\n"
     ]
    }
   ],
   "source": [
    "word = 'aaaabcc'\n",
    "fs = frequencies(word)\n",
    "print('fs', fs)\n",
    "print('dict', create_dict(fs, True))\n",
    "print('dict', create_dict(fs, False))\n",
    "print('encoded:', encode(fs, word))\n",
    "print('decoded:', decode(fs, encode(fs, word)))\n",
    "print('decodes correctly:', word == decode(fs, encode(fs, word)))"
   ]
  },
  {
   "cell_type": "code",
   "execution_count": null,
   "metadata": {},
   "outputs": [],
   "source": []
  }
 ]
}
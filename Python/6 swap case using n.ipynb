{
 "metadata": {
  "language_info": {
   "codemirror_mode": {
    "name": "ipython",
    "version": 3
   },
   "file_extension": ".py",
   "mimetype": "text/x-python",
   "name": "python",
   "nbconvert_exporter": "python",
   "pygments_lexer": "ipython3",
   "version": "3.9.0"
  },
  "orig_nbformat": 4,
  "kernelspec": {
   "name": "python3",
   "display_name": "Python 3.9.0 64-bit ('Python39')"
  },
  "interpreter": {
   "hash": "e9440e5d603c35774c62af017100812874226e35d1790890ccf27e7cab51d293"
  }
 },
 "nbformat": 4,
 "nbformat_minor": 2,
 "cells": [
  {
   "source": [
    "Your job is to change the given string s using a non-negative integer n.\n",
    "\n",
    "Each bit in n will specify whether or not to swap the case for each alphabetic character in s: if the bit is 1, swap the case; if its 0, leave it as is. When you finish with the last bit of n, start again with the first bit.\n",
    "\n",
    "You should skip the checking of bits when a non-alphabetic character is encountered, but they should be preserved in their original positions.\n",
    "# Examples\n",
    "\n",
    "swap(\"Hello world!\", 11)  -->  \"heLLO wORLd!\"\n",
    "\n",
    "...because 11 is 1011 in binary, so the 1st, 3rd, 4th, 5th, 7th, 8th and 9th alphabetical characters have to be swapped:\n",
    "\n",
    "H e l l o   w o r l d !\n",
    "1 0 1 1 1 x 0 1 1 1 0 x\n",
    "^   ^ ^ ^    ^ ^ ^\n",
    "\n",
    "# More examples\n",
    "\n",
    "swap(\"gOOd MOrniNg\", 7864)  -->  \"GooD MorNIng\"\n",
    "swap(\"\", 11345)  -->  \"\"\n",
    "swap(\"the lord of the rings\", 0)  -->  \"the lord of the rings\""
   ],
   "cell_type": "markdown",
   "metadata": {}
  },
  {
   "cell_type": "code",
   "execution_count": 30,
   "metadata": {},
   "outputs": [],
   "source": [
    "def swap(s,n):\n",
    "    bin_n = bin(n)[2:]\n",
    "    pos = 0\n",
    "    result = ''\n",
    "    for char in s:\n",
    "        if char.isalpha():\n",
    "            if bin_n[pos] == '1':\n",
    "                char = char.swapcase()\n",
    "            pos += 1\n",
    "            if pos >= len(bin_n):\n",
    "                pos = 0\n",
    "        result = result + char\n",
    "    return result"
   ]
  },
  {
   "cell_type": "code",
   "execution_count": 31,
   "metadata": {},
   "outputs": [
    {
     "output_type": "execute_result",
     "data": {
      "text/plain": [
       "'heLLO wORLd!'"
      ]
     },
     "metadata": {},
     "execution_count": 31
    }
   ],
   "source": [
    "swap('Hello world!', 11)"
   ]
  },
  {
   "cell_type": "code",
   "execution_count": null,
   "metadata": {},
   "outputs": [],
   "source": []
  }
 ]
}
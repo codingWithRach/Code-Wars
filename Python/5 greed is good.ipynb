{
 "cells": [
  {
   "cell_type": "markdown",
   "metadata": {},
   "source": [
    "Greed is a dice game played with five six-sided dice. Your mission, should you choose to accept it, is to score a throw according to these rules. You will always be given an array with five six-sided dice values.\r\n",
    "\r\n",
    " Three 1's => 1000 points\r\n",
    " Three 6's =>  600 points\r\n",
    " Three 5's =>  500 points\r\n",
    " Three 4's =>  400 points\r\n",
    " Three 3's =>  300 points\r\n",
    " Three 2's =>  200 points\r\n",
    " One   1   =>  100 points\r\n",
    " One   5   =>   50 point\r\n",
    "\r\n",
    "A single die can only be counted once in each roll. For example, a given \"5\" can only count as part of a triplet (contributing to the 500 points) or as a single 50 points, but not both in the same roll.\r\n",
    "\r\n",
    "Example scoring\r\n",
    "\r\n",
    " Throw       Score\r\n",
    " ---------   ------------------\r\n",
    " 5 1 3 4 1   250:  50 (for the 5) + 2 * 100 (for the 1s)\r\n",
    " 1 1 1 3 1   1100: 1000 (for three 1s) + 100 (for the other 1)\r\n",
    " 2 4 4 5 4   450:  400 (for three 4s) + 50 (for the 5)\r\n",
    "\r\n",
    "In some languages, it is possible to mutate the input to the function. This is something that you should never do. If you mutate the input, you will not be able to pass all the tests."
   ]
  },
  {
   "cell_type": "markdown",
   "metadata": {},
   "source": []
  },
  {
   "cell_type": "code",
   "execution_count": 24,
   "metadata": {},
   "outputs": [],
   "source": [
    "def score(dice):\r\n",
    "    result = 0\r\n",
    "    # 3 of a kind\r\n",
    "    for i in range(1,7):\r\n",
    "        if dice.count(i) >= 3:\r\n",
    "            if i == 1:\r\n",
    "                result += 1000\r\n",
    "            else:\r\n",
    "                result += i * 100\r\n",
    "    # single 1 or 5\r\n",
    "    for i in (1, 5):\r\n",
    "        if dice.count(i)> 0:\r\n",
    "            num = dice.count(i)\r\n",
    "            if num >= 3:\r\n",
    "                num -= 3\r\n",
    "            if i == 1:\r\n",
    "                num *= 10\r\n",
    "            result += i * num * 10\r\n",
    "    return result"
   ]
  },
  {
   "cell_type": "code",
   "execution_count": 25,
   "metadata": {},
   "outputs": [
    {
     "data": {
      "text/plain": [
       "250"
      ]
     },
     "execution_count": 25,
     "metadata": {},
     "output_type": "execute_result"
    }
   ],
   "source": [
    "score( [5, 1, 3, 4, 1] )"
   ]
  },
  {
   "cell_type": "code",
   "execution_count": 26,
   "metadata": {},
   "outputs": [
    {
     "data": {
      "text/plain": [
       "1100"
      ]
     },
     "execution_count": 26,
     "metadata": {},
     "output_type": "execute_result"
    }
   ],
   "source": [
    "score( [1, 1, 1, 1, 3])"
   ]
  },
  {
   "cell_type": "markdown",
   "metadata": {},
   "source": []
  }
 ],
 "metadata": {
  "interpreter": {
   "hash": "e9440e5d603c35774c62af017100812874226e35d1790890ccf27e7cab51d293"
  },
  "kernelspec": {
   "display_name": "Python 3.9.0 64-bit",
   "name": "python3"
  },
  "language_info": {
   "codemirror_mode": {
    "name": "ipython",
    "version": 3
   },
   "file_extension": ".py",
   "mimetype": "text/x-python",
   "name": "python",
   "nbconvert_exporter": "python",
   "pygments_lexer": "ipython3",
   "version": "3.9.0"
  },
  "orig_nbformat": 2
 },
 "nbformat": 4,
 "nbformat_minor": 2
}
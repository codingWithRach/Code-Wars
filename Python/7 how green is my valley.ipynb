{
 "metadata": {
  "language_info": {
   "codemirror_mode": {
    "name": "ipython",
    "version": 3
   },
   "file_extension": ".py",
   "mimetype": "text/x-python",
   "name": "python",
   "nbconvert_exporter": "python",
   "pygments_lexer": "ipython3",
   "version": "3.9.0"
  },
  "orig_nbformat": 2,
  "kernelspec": {
   "name": "python390jvsc74a57bd0e9440e5d603c35774c62af017100812874226e35d1790890ccf27e7cab51d293",
   "display_name": "Python 3.9.0 64-bit"
  },
  "metadata": {
   "interpreter": {
    "hash": "e9440e5d603c35774c62af017100812874226e35d1790890ccf27e7cab51d293"
   }
  }
 },
 "nbformat": 4,
 "nbformat_minor": 2,
 "cells": [
  {
   "source": [
    "Input : an array of integers.\n",
    "\n",
    "Output : this array, but sorted in such a way that there are two wings:\n",
    "- the left wing with numbers decreasing,\n",
    "- the right wing with numbers increasing.\n",
    "- the two wings have the same length. If the length of the array is odd the wings are around the bottom, if the length is even the bottom is considered to be part of the right wing.\n",
    "- each integer l of the left wing must be greater or equal to its counterpart r in the right wing, the difference l - r being as small as possible. In other words the right wing must be nearly as steep as the left wing.\n",
    "\n",
    "a = [79, 35, 54, 19, 35, 25]\n",
    "make_valley(a) --> [79, 35, 25, *19*, 35, 54]\n",
    "The bottom is 19, left wing is [79, 35, 25], right wing is [*19*, 35, 54].\n",
    "79..................54\n",
    "    35..........35\n",
    "        25. \n",
    "          ..19\n",
    "\n",
    "a = [67, 93, 100, -16, 65, 97, 92]\n",
    "make_valley(a) --> [100, 93, 67, *-16*, 65, 92, 97]\n",
    "The bottom is -16, left wing [100, 93, 67] and right wing [65, 92, 97] have same length.\n",
    "100.........................97\n",
    "    93..........\n",
    "               .........92\n",
    "        67......\n",
    "               .....65\n",
    "            -16     \n",
    "\n",
    "a = [66, 55, 100, 68, 46, -82, 12, 72, 12, 38]\n",
    "make_valley(a) --> [100, 68, 55, 38, 12, *-82*, 12, 46, 66, 72]\n",
    "The bottom is -82, left wing is [100, 68, 55, 38, 12]], right wing is [*-82*, 12, 46, 66, 72].\n",
    "\n",
    "a = [14,14,14,14,7,14]\n",
    "make_valley(a) => [14, 14, 14, *7*, 14, 14]\n",
    "\n",
    "a = [14,14,14,14,14]\n",
    "make_valley(a) => [14, 14, *14*, 14, 14]\n",
    "\n",
    "A counter-example:\n",
    "\n",
    "a = [17, 17, 15, 14, 8, 7, 7, 5, 4, 4, 1]\n",
    "A solution could be [17, 17, 15, 14, 8, 1, 4, 4, 5, 7, 7]\n",
    "but the right wing [4, 4, 5, 7, 7] is much flatter than the left one \n",
    "[17, 17, 15, 14, 8].\n",
    "\n",
    "Summing the differences between left and right wing:\n",
    "(17-7)+(17-7)+(15-5)+(14-4)+(8-4) = 44\n",
    "\n",
    "Consider the following solution:\n",
    "[17, 15, 8, 7, 4, 1, 4, 5, 7, 14, 17]\n",
    "Summing the differences between left and right wing:\n",
    "(17-17)+(15-14)+(8-7)+(7-5)+(4-4) = 4\n",
    "The right wing is nearly as steep as the right one."
   ],
   "cell_type": "markdown",
   "metadata": {}
  },
  {
   "cell_type": "code",
   "execution_count": 67,
   "metadata": {},
   "outputs": [],
   "source": [
    "# long-winded version\n",
    "def make_valley(arr):\n",
    "    arr_sorted = sorted(arr, reverse=True)\n",
    "    valley = [0 for i in range(len(arr))]\n",
    "    i = j = 0\n",
    "    while i < len(arr) // 2 + len(arr) % 2:\n",
    "        valley[i] = arr_sorted[j]\n",
    "        if i != len(arr) - i - 1:   # not the bottom of an odd-numbered valley\n",
    "            valley[len(arr) - i - 1] = arr_sorted[j+1]\n",
    "        i += 1\n",
    "        j += 2\n",
    "    return valley"
   ]
  },
  {
   "cell_type": "code",
   "execution_count": 70,
   "metadata": {},
   "outputs": [],
   "source": [
    "# neater version\n",
    "def make_valley(arr):\n",
    "    arr_sorted = sorted(arr, reverse=True)\n",
    "    return arr_sorted[::2] + arr_sorted[1::2][::-1]"
   ]
  },
  {
   "cell_type": "code",
   "execution_count": 71,
   "metadata": {},
   "outputs": [
    {
     "output_type": "execute_result",
     "data": {
      "text/plain": [
       "[79, 35, 25, 19, 35, 54]"
      ]
     },
     "metadata": {},
     "execution_count": 71
    }
   ],
   "source": [
    "make_valley([79,35,54,19,35,25])"
   ]
  },
  {
   "cell_type": "code",
   "execution_count": 72,
   "metadata": {},
   "outputs": [
    {
     "output_type": "execute_result",
     "data": {
      "text/plain": [
       "[100, 93, 67, -16, 65, 92, 97]"
      ]
     },
     "metadata": {},
     "execution_count": 72
    }
   ],
   "source": [
    "make_valley([67, 93, 100, -16, 65, 97, 92])"
   ]
  },
  {
   "cell_type": "code",
   "execution_count": null,
   "metadata": {},
   "outputs": [],
   "source": []
  }
 ]
}
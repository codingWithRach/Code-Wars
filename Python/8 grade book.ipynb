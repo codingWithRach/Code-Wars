{
 "metadata": {
  "language_info": {
   "codemirror_mode": {
    "name": "ipython",
    "version": 3
   },
   "file_extension": ".py",
   "mimetype": "text/x-python",
   "name": "python",
   "nbconvert_exporter": "python",
   "pygments_lexer": "ipython3",
   "version": "3.8.5-final"
  },
  "orig_nbformat": 2,
  "kernelspec": {
   "name": "python3",
   "display_name": "Python 3",
   "language": "python"
  }
 },
 "nbformat": 4,
 "nbformat_minor": 2,
 "cells": [
  {
   "source": [
    "Complete the function so that it finds the mean of the three scores passed to it and returns the letter value associated with that grade.\n",
    "Numerical Score \tLetter Grade\n",
    "90 <= score <= 100 \t'A'\n",
    "80 <= score < 90 \t'B'\n",
    "70 <= score < 80 \t'C'\n",
    "60 <= score < 70 \t'D'\n",
    "0 <= score < 60 \t'F'\n",
    "\n",
    "Tested values are all between 0 and 100. Theres is no need to check for negative values or values greater than 100."
   ],
   "cell_type": "markdown",
   "metadata": {}
  },
  {
   "cell_type": "code",
   "execution_count": 5,
   "metadata": {},
   "outputs": [],
   "source": [
    "def get_grade(s1, s2, s3):\n",
    "    avg = (s1+s2+s3)/3\n",
    "    if avg >= 90:\n",
    "        return 'A'\n",
    "    if avg >= 80:\n",
    "        return 'B'\n",
    "    if avg >= 70:\n",
    "        return 'C'\n",
    "    if avg >= 60:\n",
    "        return 'D'\n",
    "    return 'F'"
   ]
  },
  {
   "cell_type": "code",
   "execution_count": null,
   "metadata": {},
   "outputs": [],
   "source": []
  }
 ]
}
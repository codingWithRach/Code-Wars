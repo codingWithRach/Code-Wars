{
 "metadata": {
  "language_info": {
   "codemirror_mode": {
    "name": "ipython",
    "version": 3
   },
   "file_extension": ".py",
   "mimetype": "text/x-python",
   "name": "python",
   "nbconvert_exporter": "python",
   "pygments_lexer": "ipython3",
   "version": "3.8.5-final"
  },
  "orig_nbformat": 2,
  "kernelspec": {
   "name": "python3",
   "display_name": "Python 3.8.5 64-bit (conda)",
   "metadata": {
    "interpreter": {
     "hash": "a6d5379567e5c9aa2d153209ef4a1d00a383d1ae7f32ebada2471f125a521807"
    }
   }
  }
 },
 "nbformat": 4,
 "nbformat_minor": 2,
 "cells": [
  {
   "source": [
    "Let's pretend your company just hired your friend from college and paid you a referral bonus. Awesome! To celebrate, you're taking your team out to the terrible dive bar next door and using the referral bonus to buy, and build, the largest three-dimensional beer can pyramid you can. And then probably drink those beers, because let's pretend it's Friday too.\n",
    "\n",
    "A beer can pyramid will square the number of cans in each level - 1 can in the top level, 4 in the second, 9 in the next, 16, 25...\n",
    "\n",
    "Complete the beeramid function to return the number of complete levels of a beer can pyramid you can make, given the parameters of:\n",
    "\n",
    "    your referral bonus, and\n",
    "\n",
    "    the price of a beer can\n",
    "\n",
    "For example:\n",
    "\n",
    "beeramid(1500, 2); // should === 12\n",
    "beeramid(5000, 3); // should === 16"
   ],
   "cell_type": "markdown",
   "metadata": {}
  },
  {
   "cell_type": "code",
   "execution_count": 21,
   "metadata": {},
   "outputs": [],
   "source": [
    "def beeramid(bonus, price):\n",
    "    remaining = bonus\n",
    "    levels = 0\n",
    "    while remaining > 0:\n",
    "        cost_of_level = ((levels+1)**2) * price\n",
    "        if cost_of_level <= remaining:\n",
    "            levels += 1\n",
    "            remaining -= cost_of_level\n",
    "        else:\n",
    "            remaining = 0\n",
    "    return levels"
   ]
  },
  {
   "cell_type": "code",
   "execution_count": null,
   "metadata": {},
   "outputs": [],
   "source": []
  }
 ]
}
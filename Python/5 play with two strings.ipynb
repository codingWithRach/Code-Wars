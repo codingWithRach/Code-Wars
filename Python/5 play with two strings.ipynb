{
 "metadata": {
  "language_info": {
   "codemirror_mode": {
    "name": "ipython",
    "version": 3
   },
   "file_extension": ".py",
   "mimetype": "text/x-python",
   "name": "python",
   "nbconvert_exporter": "python",
   "pygments_lexer": "ipython3",
   "version": "3.8.5"
  },
  "orig_nbformat": 2,
  "kernelspec": {
   "name": "python385jvsc74a57bd0a6d5379567e5c9aa2d153209ef4a1d00a383d1ae7f32ebada2471f125a521807",
   "display_name": "Python 3.8.5 64-bit ('base': conda)"
  }
 },
 "nbformat": 4,
 "nbformat_minor": 2,
 "cells": [
  {
   "source": [
    "Your task is to Combine two Strings. But consider the rule...\n",
    "\n",
    "By the way you don't have to check errors or incorrect input values, everything is ok without bad tricks, only two input strings and as result one output string;-)...\n",
    "\n",
    "And here's the rule:\n",
    "Input Strings a and b: For every character in string a swap the casing of every occurrence of the same character in string b. Then do the same casing swap with the inputs reversed. Return a single string consisting of the changed version of a followed by the changed version of b. A char of a is in b regardless if it's in upper or lower case - see the testcases too.\n",
    "I think that's all;-)...\n",
    "\n",
    "Some easy examples:\n",
    "- Input: \"abc\" and \"cde\"      => Output: \"abCCde\" \n",
    "- Input: \"ab\" and \"aba\"       => Output: \"aBABA\"\n",
    "- Input: \"abab\" and \"bababa\"  => Output: \"ABABbababa\"\n",
    "\n",
    "Once again for the last example - description from KenKamau, see discourse;-):\n",
    "\n",
    "a) swap the case of characters in string b for every occurrence of that character in string a\n",
    "char 'a' occurs twice in string a, so we swap all 'a' in string b twice. This means we start with \"bababa\" then \"bAbAbA\" => \"bababa\"\n",
    "char 'b' occurs twice in string a and so string b moves as follows: start with \"bababa\" then \"BaBaBa\" => \"bababa\"\n",
    "\n",
    "b) then, swap the case of characters in string a for every occurrence in string b\n",
    "char 'a' occurs 3 times in string b. So string a swaps cases as follows: start with \"abab\" then => \"AbAb\" => \"abab\" => \"AbAb\"\n",
    "char 'b' occurs 3 times in string b. So string a swaps as follow: start with \"AbAb\" then => \"ABAB\" => \"AbAb\" => \"ABAB\".\n",
    "\n",
    "c) merge new strings a and b\n",
    "return \"ABABbababa\"\n",
    "\n",
    "There are some static tests at the beginning and many random tests if you submit your solution."
   ],
   "cell_type": "markdown",
   "metadata": {}
  },
  {
   "cell_type": "code",
   "execution_count": 11,
   "metadata": {},
   "outputs": [],
   "source": [
    "def process_string(x, y):\n",
    "    for char in x:\n",
    "        pos = y.lower().find(char.lower())\n",
    "        while pos != -1:\n",
    "            y = y[:pos] + y[pos:pos+1].swapcase() + y[pos+1:]\n",
    "            pos = y.lower().find(char.lower(), pos+1)\n",
    "    return y"
   ]
  },
  {
   "cell_type": "code",
   "execution_count": 12,
   "metadata": {},
   "outputs": [],
   "source": [
    "def work_on_strings(a,b):\n",
    "    b = process_string(a,b)\n",
    "    a = process_string(b,a)\n",
    "    return a+b"
   ]
  },
  {
   "cell_type": "code",
   "execution_count": 13,
   "metadata": {},
   "outputs": [
    {
     "output_type": "execute_result",
     "data": {
      "text/plain": [
       "'abCCde'"
      ]
     },
     "metadata": {},
     "execution_count": 13
    }
   ],
   "source": [
    "work_on_strings('abc', 'cde')"
   ]
  },
  {
   "cell_type": "code",
   "execution_count": 14,
   "metadata": {},
   "outputs": [
    {
     "output_type": "execute_result",
     "data": {
      "text/plain": [
       "'aBABA'"
      ]
     },
     "metadata": {},
     "execution_count": 14
    }
   ],
   "source": [
    "work_on_strings('ab','aba')"
   ]
  },
  {
   "cell_type": "code",
   "execution_count": 15,
   "metadata": {},
   "outputs": [
    {
     "output_type": "execute_result",
     "data": {
      "text/plain": [
       "'ABABbababa'"
      ]
     },
     "metadata": {},
     "execution_count": 15
    }
   ],
   "source": [
    "work_on_strings('abab','bababa')"
   ]
  },
  {
   "cell_type": "code",
   "execution_count": null,
   "metadata": {},
   "outputs": [],
   "source": []
  }
 ]
}
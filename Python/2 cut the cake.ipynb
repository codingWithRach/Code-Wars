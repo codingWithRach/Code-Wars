{
 "metadata": {
  "language_info": {
   "codemirror_mode": {
    "name": "ipython",
    "version": 3
   },
   "file_extension": ".py",
   "mimetype": "text/x-python",
   "name": "python",
   "nbconvert_exporter": "python",
   "pygments_lexer": "ipython3",
   "version": "3.8.5-final"
  },
  "orig_nbformat": 2,
  "kernelspec": {
   "name": "python3",
   "display_name": "Python 3",
   "language": "python"
  }
 },
 "nbformat": 4,
 "nbformat_minor": 2,
 "cells": [
  {
   "source": [
    "# Task\n",
    "\n",
    "We have a rectangular cake with some raisins on it:\n",
    "\n",
    "cake = \n",
    "  ........\n",
    "  ..o.....\n",
    "  ...o....\n",
    "  ........\n",
    "// o is the raisins\n",
    "\n",
    "We need to cut the cake evenly into n small rectangular pieces, so that each small cake has 1 raisin. n is not an argument, it is the number of raisins contained inside the cake:\n",
    "\n",
    "cake = \n",
    "  ........\n",
    "  ..o.....\n",
    "  ...o....\n",
    "  ........\n",
    "\n",
    "result should be an array:\n",
    "  [\n",
    "     ........\n",
    "     ..o.....\n",
    "  ,\n",
    "     ...o....\n",
    "     ........\n",
    "  ]\n",
    "// In order to clearly show, we omit the quotes and \"\\n\"\n",
    "\n",
    "If there is no solution, return an empty array []\n",
    "\n",
    "# Note\n",
    "\n",
    "    The number of raisins is always more than 1 and less than 10.\n",
    "    If there are multiple solutions, select the one with the largest width of the first element of the array. (See also the examples below.)\n",
    "    Evenly cut into n pieces, meaning the same area. But their shapes can be different. (See also the examples below.)\n",
    "    In the result array, the order of pieces is from top to bottom and from left to right (according to the location of the upper left corner).\n",
    "    Each piece of cake should be rectangular.\n",
    "\n",
    "# Examples\n",
    "\n",
    "    An example of multiple solutions:\n",
    "\n",
    "cake = \n",
    "  .o......\n",
    "  ......o.\n",
    "  ....o...\n",
    "  ..o.....\n",
    "\n",
    "In this test case, we can found three solution:\n",
    "solution 1 (horizontal cutting):\n",
    "  [\n",
    "    .o......  //piece 1\n",
    "  ,\n",
    "    ......o.  //piece 2\n",
    "  ,\n",
    "    ....o...  //piece 3\n",
    "  ,\n",
    "    ..o.....  //piece 4\n",
    "  ]\n",
    "\n",
    "solution 2 (vertical cutting):\n",
    "  [\n",
    "    .o  //piece 1\n",
    "    ..\n",
    "    ..\n",
    "    ..\n",
    "  ,\n",
    "    ..  //piece 2\n",
    "    ..\n",
    "    ..\n",
    "    o.\n",
    "  ,\n",
    "    ..  //piece 3\n",
    "    ..\n",
    "    o.\n",
    "    ..\n",
    "  ,\n",
    "    ..  //piece 4\n",
    "    o.\n",
    "    ..\n",
    "    ..\n",
    "  ]\n",
    "\n",
    "solution 3 (cross cutting):\n",
    "  [\n",
    "    .o..  //piece 1\n",
    "    ....\n",
    "  ,\n",
    "    ....  //piece 2\n",
    "    ..o.\n",
    "  ,\n",
    "    ....  //piece 3\n",
    "    ..o.\n",
    "  ,\n",
    "    o...  //piece 4\n",
    "    ....   \n",
    "  ]\n",
    "\n",
    "we need choose solution 1 as result\n",
    "\n",
    "    An example of different shapes:\n",
    "\n",
    "cake = \n",
    "  .o.o....\n",
    "  ........\n",
    "  ....o...\n",
    "  ........\n",
    "  .....o..\n",
    "  ........\n",
    "\n",
    "the result should be:\n",
    "  [\n",
    "    .o      //pieces 1\n",
    "    ..\n",
    "    ..\n",
    "    ..\n",
    "    ..\n",
    "    ..\n",
    "  ,\n",
    "    .o....  //pieces 2\n",
    "    ......\n",
    "  ,\n",
    "    ..o...  //pieces 3\n",
    "    ......\n",
    "  ,\n",
    "    ...o..  //pieces 4\n",
    "    ......   \n",
    "  ]\n",
    "Although they have different shapes, \n",
    "they have the same area(2 x 6 = 12 and 6 x 2 = 12).\n",
    "\n",
    "    An example of no solution case:\n",
    "\n",
    "cake = \n",
    "  .o.o....\n",
    "  .o.o....\n",
    "  ........\n",
    "  ........\n",
    "  ........\n",
    "  ........\n",
    "the result should be []"
   ],
   "cell_type": "markdown",
   "metadata": {}
  },
  {
   "cell_type": "code",
   "execution_count": 222,
   "metadata": {},
   "outputs": [],
   "source": [
    "def get_slice( cake_rows, size_of_slice, width_of_slice ):\n",
    "    # calculate depth of slice\n",
    "    depth_of_slice = int(size_of_slice / width_of_slice)\n",
    "\n",
    "    # look for first row in cake with unused positions\n",
    "    sliced_cake = []\n",
    "    for start_row in range(len(cake_rows)):\n",
    "        spaces_left = len(cake_rows[start_row]) - cake_rows[start_row].count('x')\n",
    "        if spaces_left > 0:\n",
    "            # if it doesn't have enough unused positions to fit a slice of this width, return\n",
    "            if spaces_left < width_of_slice:\n",
    "                return [], cake_rows, 0\n",
    "            # otherwise check the spaces are consecutive\n",
    "            else:\n",
    "                for start_col in range(len(cake_rows[start_row])):\n",
    "                    if cake_rows[start_row][start_col] != 'x':\n",
    "                        break\n",
    "            break\n",
    "        # initialise the sliced cake with used rows\n",
    "        sliced_cake.append(cake_rows[start_row])\n",
    "\n",
    "    # check there's sufficient depth to fit the slice\n",
    "    if start_row + depth_of_slice > len(cake_rows):\n",
    "        return [], cake_rows, 0\n",
    "\n",
    "    # now extract the slice and replace slice entries with x in the cake to mark them as used\n",
    "    this_slice = []\n",
    "    for i in range(depth_of_slice):\n",
    "        cake_row = cake_rows[start_row + i]\n",
    "        slice_row = ''\n",
    "        adj_cake_row = cake_row[:start_col]\n",
    "        for j in range(start_col, start_col + width_of_slice):\n",
    "            if cake_row[j] == 'x':\n",
    "                return [], cake_rows, 0\n",
    "            else:\n",
    "                slice_row += cake_row[j]\n",
    "                adj_cake_row += 'x'\n",
    "        this_slice.append(slice_row)\n",
    "        adj_cake_row += cake_row[start_col + width_of_slice :]\n",
    "        sliced_cake.append(adj_cake_row)\n",
    "\n",
    "    # check the slice only contains one raisin\n",
    "    if ''.join(this_slice).count('o') != 1:\n",
    "        return [], cake_rows, 0\n",
    "\n",
    "    # append remaining rows to sliced cake\n",
    "    for i in range(start_row + depth_of_slice, len(cake_rows)):\n",
    "        sliced_cake.append( cake_rows[i] )\n",
    "\n",
    "    # now again find the first row with unused positions\n",
    "    for row in range(len(sliced_cake)):\n",
    "        if len(sliced_cake[row]) - sliced_cake[row].count('x') > 0:\n",
    "            break\n",
    "    entry = sliced_cake[row]\n",
    "    remaining_width = len(entry) - entry.count('x')\n",
    "\n",
    "    return this_slice, sliced_cake, remaining_width"
   ]
  },
  {
   "cell_type": "code",
   "execution_count": 223,
   "metadata": {},
   "outputs": [],
   "source": [
    "def cut(cake):\n",
    "    # split cake into rows\n",
    "    cake_rows = cake.split(chr(10))\n",
    "\n",
    "    # dimensions of cake\n",
    "    width_of_cake = len(cake_rows[0])\n",
    "    height_of_cake = len(cake_rows)\n",
    "    size_of_cake = width_of_cake * height_of_cake \n",
    "    n = cake.count('o')\n",
    "    size_of_slice = size_of_cake / n\n",
    "\n",
    "    # if size of slice is not an integer, there is no solution\n",
    "    if size_of_slice != int(size_of_slice):\n",
    "        return []\n",
    "    size_of_slice = int(size_of_slice) \n",
    "\n",
    "    # # work through all possible slice widths, starting with the longest\n",
    "    start_widths = []\n",
    "    result = []\n",
    "    sliced_cake = cake_rows[:]\n",
    "    remaining_width = width_of_cake\n",
    "    remaining_raisins = ''.join(sliced_cake).count('o')\n",
    "    while remaining_raisins > 0 and remaining_width > 0:\n",
    "        possible_widths = [i for i in range(remaining_width, 0, -1) if size_of_slice % i == 0]\n",
    "        for width in possible_widths:\n",
    "            # if we failed on a previous attempt, and this is the final iteration on which we got a valid slice last time, omit that slice width\n",
    "            if len(start_widths) > 0:\n",
    "                if len(result) < len(start_widths) - 1 and width > start_widths[len(result)]:\n",
    "                    continue\n",
    "                if len(result) == len(start_widths) - 1 and start_widths[len(result)] <= width:\n",
    "                    continue\n",
    "            # otherwise continue as normal\n",
    "            if ''.join(sliced_cake).count('o') > 0:\n",
    "                this_slice, sliced_cake, remaining_width = get_slice(sliced_cake, size_of_slice, width)\n",
    "                if len(this_slice) > 0:\n",
    "                    result.append(chr(10).join(this_slice).strip())\n",
    "                    remaining_raisins = ''.join(sliced_cake).count('o')\n",
    "                    break\n",
    "\n",
    "        # if successfully sliced, break out of the loop\n",
    "        if size_of_cake == ''.join(sliced_cake).count('x'):\n",
    "            break\n",
    "\n",
    "        if width == 1 and (size_of_cake - ''.join(sliced_cake).count('x')) > 0:\n",
    "            # if we didn't manage to get any results at all there's no solution\n",
    "            if len(result) == 0 and len(start_widths) == 0:\n",
    "                return []\n",
    "\n",
    "            # otherwise have another go with different start lengths\n",
    "            prev_start_widths = start_widths[:]\n",
    "            start_widths = []\n",
    "            for entry in result:\n",
    "                if entry.find(chr(10)) == -1:\n",
    "                    start_widths.append(len(entry))\n",
    "                else:\n",
    "                    start_widths.append(entry.find(chr(10)))\n",
    "            if len(start_widths) == 0:\n",
    "                 start_widths = prev_start_widths[:-1]\n",
    "                 if len(start_widths) == 0:\n",
    "                     return []\n",
    "            sliced_cake = cake_rows[:]\n",
    "            remaining_raisins = ''.join(sliced_cake).count('o')\n",
    "            remaining_width = width_of_cake\n",
    "            result = []\n",
    "        \n",
    "    # if we've tried all widths and there is still unused cake, there's no solution\n",
    "    if width == 1 and (size_of_cake - ''.join(sliced_cake).count('x')) > 0:\n",
    "        return []\n",
    "\n",
    "    return result"
   ]
  },
  {
   "cell_type": "code",
   "execution_count": 224,
   "metadata": {
    "tags": []
   },
   "outputs": [
    {
     "output_type": "stream",
     "name": "stdout",
     "text": [
      "['........\\n........\\n.o......', '....\\n....\\n....\\n....\\n....\\n..o.', '...\\no..\\n...\\n...\\n...\\n...\\n...\\n...', '........\\no.......\\n........', '............\\n...o........']\n"
     ]
    }
   ],
   "source": [
    "cake = '''\n",
    "...............\n",
    "............o..\n",
    ".o.............\n",
    "...............\n",
    "o..............\n",
    "..........o....\n",
    "...............\n",
    "...o...........\n",
    "'''.strip()\n",
    "print(cut(cake))\n",
    "\n",
    "# expected \n",
    "# [ ........ / ........ / .o...... / ,\n",
    "# .... / .... / .... / .... / .... / ..o. ,\n",
    "# ... / o.. / ... / ... / ... / ... / ... / ... ,\n",
    "# ........ / o....... / ........ / ,\n",
    "# ............ / ...o........ ]"
   ]
  },
  {
   "cell_type": "code",
   "execution_count": 225,
   "metadata": {},
   "outputs": [
    {
     "output_type": "stream",
     "name": "stdout",
     "text": [
      "[]\n"
     ]
    }
   ],
   "source": [
    "cake = '''\n",
    "...................................................o..................\n",
    ".....................o................................................\n",
    "..........o................................o..........................\n",
    "......................................................................\n",
    ".........o.....o................................o.....................\n",
    "'''.strip()\n",
    "print(cut(cake))\n",
    "\n",
    "# expected []"
   ]
  },
  {
   "cell_type": "code",
   "execution_count": 226,
   "metadata": {
    "tags": []
   },
   "outputs": [
    {
     "output_type": "stream",
     "name": "stdout",
     "text": [
      "[]\n"
     ]
    }
   ],
   "source": [
    "cake = '''\n",
    ".................................................................................\n",
    "...........................o..............o.............................o........\n",
    "........o........................................................................\n",
    ".........o.......................................................................\n",
    "...........o..............................o......................................\n",
    ".................................o...................o........................... \n",
    "'''.strip()\n",
    "print(cut(cake))\n",
    "\n",
    "# expected []"
   ]
  },
  {
   "cell_type": "code",
   "execution_count": 227,
   "metadata": {
    "tags": []
   },
   "outputs": [
    {
     "output_type": "stream",
     "name": "stdout",
     "text": [
      "['............\\n............\\n..........o.\\n............', '............\\n............\\n...o........\\n............', '.................o......\\n........................', '........................\\n........o...............', '............o...................................', '.................................o..............']\n"
     ]
    }
   ],
   "source": [
    "cake = '''\n",
    ".........................................o......\n",
    "................................................\n",
    "..........o....o................................\n",
    "................................o...............\n",
    "............o...................................\n",
    ".................................o..............\n",
    "'''.strip()\n",
    "print(cut(cake))\n",
    "\n",
    "# EXPECTING\n",
    "# [ ............ / ............ / ..........o. / ............ ,\n",
    "# ............ / ............ / ...o........ / ............ ,\n",
    "# .................o...... / ........................ ,\n",
    "# ........................ / ........o............... ,\n",
    "# ............o................................... ,\n",
    "# .................................o.............. ]"
   ]
  },
  {
   "cell_type": "code",
   "execution_count": 228,
   "metadata": {
    "tags": []
   },
   "outputs": [
    {
     "output_type": "stream",
     "name": "stdout",
     "text": [
      "['.o\\n..\\n..\\n..\\n..\\n..', '.o....\\n......', '..o...\\n......', '...o..\\n......']\n"
     ]
    }
   ],
   "source": [
    "cake = '''\n",
    ".o.o....\n",
    "........\n",
    "....o...\n",
    "........\n",
    ".....o..\n",
    "........\n",
    "'''.strip()\n",
    "print(cut(cake))\n",
    "# Expected:\n",
    "# [ .o / .. / .. / .. / .. / .. ,\n",
    "# .o.... / ...... ,\n",
    "# ..o... / ...... ,\n",
    "# ...o.. / ...... ]"
   ]
  },
  {
   "cell_type": "code",
   "execution_count": 229,
   "metadata": {
    "tags": []
   },
   "outputs": [
    {
     "output_type": "stream",
     "name": "stdout",
     "text": [
      "[]\n"
     ]
    }
   ],
   "source": [
    "cake = '''\n",
    "..........o...................\n",
    "..............................\n",
    "..............................\n",
    "..............................\n",
    "..o..................o........\n",
    "..............................\n",
    "................o.............\n",
    "..........o...................\n",
    ".............................. \n",
    "'''.strip()\n",
    "result = cut(cake)\n",
    "print(result)\n",
    "# expected []"
   ]
  },
  {
   "cell_type": "code",
   "execution_count": 230,
   "metadata": {},
   "outputs": [
    {
     "output_type": "stream",
     "name": "stdout",
     "text": [
      "['..........o...................', '..........\\n..........\\n.....o....', '..........\\n.........o\\n..........', 'o.............................', '.o............................']\n"
     ]
    }
   ],
   "source": [
    "cake = '''\n",
    "..........o.......................................\n",
    "o................................................o\n",
    ".o.................................o.............. \n",
    "'''.strip()\n",
    "result = cut(cake)\n",
    "print(result)"
   ]
  },
  {
   "cell_type": "code",
   "execution_count": 231,
   "metadata": {},
   "outputs": [
    {
     "output_type": "stream",
     "name": "stdout",
     "text": [
      "['.o..', '..o.', '.o..', '..o.', '..\\no.', '..\\n.o', '..\\no.', '..\\n.o']\n"
     ]
    }
   ],
   "source": [
    "cake = '''\n",
    ".o....o.\n",
    ".o....o.\n",
    "........\n",
    "o..oo..o \n",
    "'''.strip()\n",
    "print(cut(cake))\n",
    "# SHOULD BE WIDTH 4, 4, 4, 4, 2, 2, 2, 2"
   ]
  },
  {
   "cell_type": "code",
   "execution_count": 232,
   "metadata": {
    "tags": []
   },
   "outputs": [
    {
     "output_type": "stream",
     "name": "stdout",
     "text": [
      "['................\\n.....o..........', '................\\n...............o', '........\\n........\\n........\\n.....o..', '....\\n....\\n....\\no...\\n....\\n....\\n....\\n....', '....\\n....\\n....\\n..o.\\n....\\n....\\n....\\n....', '........\\n........\\n...o....\\n........', '................\\n...............o', '................\\n.o..............']\n"
     ]
    }
   ],
   "source": [
    "cake = '''\n",
    "................\n",
    ".....o..........\n",
    "................\n",
    "...............o\n",
    "................\n",
    "................\n",
    "................\n",
    ".....o..o.....o.\n",
    "................\n",
    "................\n",
    "...o............\n",
    "................\n",
    "................\n",
    "...............o\n",
    "................\n",
    ".o..............\n",
    "'''.strip()\n",
    "print(cut(cake))"
   ]
  },
  {
   "cell_type": "code",
   "execution_count": 233,
   "metadata": {
    "tags": []
   },
   "outputs": [
    {
     "output_type": "stream",
     "name": "stdout",
     "text": [
      "['................\\n.....o..........', '................\\n...............o', '........\\n........\\n........\\n.....o..', '....\\n....\\n....\\no...\\n....\\n....\\n....\\n....', '....\\n....\\n....\\n..o.\\n....\\n....\\n....\\n....', '........\\n........\\n...o....\\n........', '................\\n...............o', '................\\n.o..............']\n"
     ]
    }
   ],
   "source": [
    "cake4 = '''\n",
    ".o.o....\n",
    ".o.o....\n",
    "........\n",
    "........\n",
    "'''.strip()\n",
    "print(cut(cake))"
   ]
  },
  {
   "cell_type": "code",
   "execution_count": 234,
   "metadata": {},
   "outputs": [
    {
     "output_type": "stream",
     "name": "stdout",
     "text": [
      "['.o..', '..o.', '.o..', '..o.', '..\\no.', '..\\n.o', '..\\no.', '..\\n.o']\n"
     ]
    }
   ],
   "source": [
    "cake = '''\n",
    ".o....o.\n",
    ".o....o.\n",
    "........\n",
    "o..oo..o\n",
    "'''.strip()\n",
    "print(cut(cake))"
   ]
  },
  {
   "cell_type": "code",
   "execution_count": 235,
   "metadata": {
    "tags": []
   },
   "outputs": [
    {
     "output_type": "stream",
     "name": "stdout",
     "text": [
      "['........\\n..o.....', '...o....\\n........']\n"
     ]
    }
   ],
   "source": [
    "cake = '''\n",
    "........\n",
    "..o.....\n",
    "...o....\n",
    "........\n",
    "'''.strip()\n",
    "print(cut(cake))"
   ]
  }
 ]
}
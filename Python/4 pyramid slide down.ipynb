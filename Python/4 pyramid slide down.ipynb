{
 "metadata": {
  "language_info": {
   "codemirror_mode": {
    "name": "ipython",
    "version": 3
   },
   "file_extension": ".py",
   "mimetype": "text/x-python",
   "name": "python",
   "nbconvert_exporter": "python",
   "pygments_lexer": "ipython3",
   "version": "3.8.5-final"
  },
  "orig_nbformat": 2,
  "kernelspec": {
   "name": "python3",
   "display_name": "Python 3",
   "language": "python"
  }
 },
 "nbformat": 4,
 "nbformat_minor": 2,
 "cells": [
  {
   "source": [
    "Pyramids are amazing! Both in architectural and mathematical sense. If you have a computer, you can mess with pyramids even if you are not in Egypt at the time. For example, let's consider the following problem. Imagine that you have a pyramid built of numbers, like this one here:\n",
    "\n",
    "   /3/\n",
    "  \\7\\ 4 \n",
    " 2 \\4\\ 6 \n",
    "8 5 \\9\\ 3\n",
    "\n",
    "Here comes the task...\n",
    "\n",
    "Let's say that the 'slide down' is the maximum sum of consecutive numbers from the top to the bottom of the pyramid. As you can see, the longest 'slide down' is 3 + 7 + 4 + 9 = 23\n",
    "\n",
    "Your task is to write a function longest_slide_down that takes a pyramid representation as argument and returns its' largest 'slide down'. For example,\n",
    "\n",
    "longest_slide_down([[3], [7, 4], [2, 4, 6], [8, 5, 9, 3]]) => 23\n",
    "\n",
    "To clarify: need to calculate all possible routes through the pyramid, and determine which has the greatest sum"
   ],
   "cell_type": "markdown",
   "metadata": {}
  },
  {
   "cell_type": "code",
   "execution_count": 40,
   "metadata": {},
   "outputs": [],
   "source": [
    "def longest_slide_down(pyramid):\n",
    "    # work back from the penultimate row - replace each point in the row with the sum of the point and\n",
    "    # the greater of the two consecutive points in the final row\n",
    "    for row in range(len(pyramid) - 2, -1, -1):\n",
    "        for col in range(len(pyramid[row])):\n",
    "            pyramid[row][col] = pyramid[row][col] + max(pyramid[row + 1][col], pyramid[row+1][col+1])\n",
    "    return pyramid[0][0]"
   ]
  },
  {
   "source": [
    "The following solution was my first approach - it works on medium pyramids, but is far too inefficient to pass the codewars testing for huge pyramids"
   ],
   "cell_type": "markdown",
   "metadata": {}
  },
  {
   "cell_type": "code",
   "execution_count": 181,
   "metadata": {},
   "outputs": [],
   "source": [
    "def longest_slide_down1(pyramid):\n",
    "    # number of paths through the pyramid\n",
    "    num_paths = 2 ** (len(pyramid) - 1)\n",
    "\n",
    "    # determine all possible paths through the pyramid - the starting point is always the apex of the pyramix\n",
    "    paths = [[0] for x in range(num_paths)]\n",
    "    for row in range(1,len(pyramid)):\n",
    "        num_points = int(num_paths / (2 ** row))\n",
    "        for j in range(0,num_paths,(2*num_points)):\n",
    "            for i in range(num_points):\n",
    "                pos = paths[i+j][row - 1]\n",
    "                paths[i+j].append(pos)\n",
    "                paths[i+j+num_points].append(pos + 1)\n",
    "\n",
    "    # now sum the values for each possible path and return the max\n",
    "    return max([sum([pyramid[row][paths[i][row]] for row in range(len(paths[i]))]) for i in range(num_paths)])"
   ]
  }
 ]
}
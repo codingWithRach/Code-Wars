{
 "metadata": {
  "language_info": {
   "codemirror_mode": {
    "name": "ipython",
    "version": 3
   },
   "file_extension": ".py",
   "mimetype": "text/x-python",
   "name": "python",
   "nbconvert_exporter": "python",
   "pygments_lexer": "ipython3",
   "version": "3.8.5-final"
  },
  "orig_nbformat": 2,
  "kernelspec": {
   "name": "python3",
   "display_name": "Python 3",
   "language": "python"
  }
 },
 "nbformat": 4,
 "nbformat_minor": 2,
 "cells": [
  {
   "source": [
    "In mathematics, a Diophantine equation is a polynomial equation, usually with two or more unknowns, such that only the integer solutions are sought or studied.\n",
    "\n",
    "In this kata we want to find all integers x, y (x >= 0, y >= 0) solutions of a diophantine equation of the form:\n",
    "x2 - 4 * y2 = n\n",
    "\n",
    "(where the unknowns are x and y, and n is a given positive number) in decreasing order of the positive xi.\n",
    "\n",
    "If there is no solution return [] or \"[]\" or \"\". (See \"RUN SAMPLE TESTS\" for examples of returns).\n",
    "\n",
    "HINT\n",
    "x2 - 4 * y2 = (x - 2*y) * (x + 2*y)"
   ],
   "cell_type": "markdown",
   "metadata": {}
  },
  {
   "source": [
    "THE FOLLOWING IS THE SOLUTION SUBMITTED TO CODEWARS"
   ],
   "cell_type": "markdown",
   "metadata": {}
  },
  {
   "cell_type": "code",
   "execution_count": 314,
   "metadata": {},
   "outputs": [],
   "source": [
    "# x2 - 4 y2 = n can also be written as (x - 2y)(x + 2y) = n\n",
    "# define a as x - 2y, and define b as x + 2y\n",
    "# thus a * b = n, and b = n/a\n",
    "# rearranging these equations results in \n",
    "#     x = (a + b)/2\n",
    "#     y = (b - a)/4\n",
    "# to restrict to positive numbers for y we want \n",
    "#     b >= a i.e. n/a >= a i.e. n >= a**2 i.e. a <= n**0.5 \n",
    "\n",
    "def sol_equa(n):\n",
    "    # first get the integer values of a and b for which a*b = n and b > a\n",
    "    ab_solution = [[a, int(n/a)] for a in range(1, int((n**0.5)+1)) if n/a == int(n/a)]\n",
    "    # now use the values of a,b to calculate the integer values of x and y\n",
    "    return [[int((a+b)/2), int((b-a)/4)] for a,b in ab_solution if (a+b)/2 == int((a+b)/2) and (b-a)/4 == int((b-a)/4)]"
   ]
  },
  {
   "source": [
    "THE FOLLOWING SOLUTIONS ALL PROVIDE THE CORRECT RESULT BUT ARE TOO INEFFICIENT TO PASS CODEWARS TESTING"
   ],
   "cell_type": "markdown",
   "metadata": {}
  },
  {
   "cell_type": "code",
   "execution_count": 125,
   "metadata": {},
   "outputs": [],
   "source": [
    "def sol_equa1(n):\n",
    "    solution = []\n",
    "    for x in range(n, int(n**0.5)-1, -1):\n",
    "        if x**2 >= n:\n",
    "            y = int((((x**2)-n)/4)**(0.5))\n",
    "            if (x**2) - (4*y**2) == n:\n",
    "                solution.append([x,y])\n",
    "    return solution"
   ]
  },
  {
   "cell_type": "code",
   "execution_count": null,
   "metadata": {},
   "outputs": [],
   "source": [
    "def sol_equa2(n):\n",
    "    solution = []\n",
    "    for x in [ x for x in range(n) if x**2 >= n]:\n",
    "        y = int((((x**2)-n)/4)**(0.5))\n",
    "        if (x**2) - (4*y**2) == n:\n",
    "            solution.insert(0,[x,y])\n",
    "    return solution"
   ]
  },
  {
   "cell_type": "code",
   "execution_count": 130,
   "metadata": {},
   "outputs": [],
   "source": [
    "def sol_equa3(n):\n",
    "    solution = []\n",
    "    for x in [ x for x in range(n) if x**2 >= n]:\n",
    "        y = int((((x**2)-n)/4)**(0.5))\n",
    "        if (x - 2*y) * (x + 2*y) == n:\n",
    "            solution.insert(0,[x,y])\n",
    "    return solution"
   ]
  },
  {
   "cell_type": "code",
   "execution_count": 134,
   "metadata": {},
   "outputs": [],
   "source": [
    "def sol_equa4(n):\n",
    "    solution = []\n",
    "    for x in [ x for x in range(n) if x**2 >= n]:\n",
    "        y = (((x**2)-n)/4)**(0.5)\n",
    "        if y // 1 == y:\n",
    "            solution.insert(0,[x,int(y)])\n",
    "    return solution"
   ]
  },
  {
   "cell_type": "code",
   "execution_count": null,
   "metadata": {},
   "outputs": [],
   "source": [
    "def sol_equa5(n):\n",
    "    x_list = [x1 for x1 in range(n) if x1**2 >= n]\n",
    "    solution = [[x, int(((x**2 - n)/4)**0.5)] for x in x_list if int((((x**2 - n)/4)**0.5)) == (((x**2 - n)/4)**0.5)]\n",
    "    return sorted(solution, reverse=True)"
   ]
  },
  {
   "cell_type": "code",
   "execution_count": 240,
   "metadata": {},
   "outputs": [],
   "source": [
    "def sol_equa6(n):\n",
    "    from math import ceil\n",
    "    return sorted([[x, int(((x**2 - n)/4)**0.5)] for x in range(ceil(n**0.5), n) if int((((x**2 - n)/4)**0.5)) == (((x**2 - n)/4)**0.5)], reverse=True)"
   ]
  },
  {
   "cell_type": "code",
   "execution_count": 254,
   "metadata": {},
   "outputs": [],
   "source": [
    "def sol_equa7(n):\n",
    "    from math import ceil\n",
    "    result = lambda x, n : ((x**2 - n)/4)**0.5\n",
    "    return sorted([[x, int(result(x,n))] \n",
    "                  for x in range(ceil(n**0.5), n) if int(result(x,n)) == result(x,n)], reverse=True)"
   ]
  },
  {
   "cell_type": "code",
   "execution_count": null,
   "metadata": {},
   "outputs": [],
   "source": []
  }
 ]
}
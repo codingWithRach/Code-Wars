{
 "metadata": {
  "language_info": {
   "codemirror_mode": {
    "name": "ipython",
    "version": 3
   },
   "file_extension": ".py",
   "mimetype": "text/x-python",
   "name": "python",
   "nbconvert_exporter": "python",
   "pygments_lexer": "ipython3",
   "version": "3.8.5-final"
  },
  "orig_nbformat": 2,
  "kernelspec": {
   "name": "python3",
   "display_name": "Python 3",
   "language": "python"
  }
 },
 "nbformat": 4,
 "nbformat_minor": 2,
 "cells": [
  {
   "source": [
    "In this kata we want to convert a string into an integer. The strings simply represent the numbers in words.\n",
    "\n",
    "Examples:\n",
    "\n",
    "    \"one\" => 1\n",
    "    \"twenty\" => 20\n",
    "    \"two hundred forty-six\" => 246\n",
    "    \"seven hundred eighty-three thousand nine hundred and nineteen\" => 783919\n",
    "\n",
    "Additional Notes:\n",
    "\n",
    "    The minimum number is \"zero\" (inclusively)\n",
    "    The maximum number, which must be supported is 1 million (inclusively)\n",
    "    The \"and\" in e.g. \"one hundred and twenty-four\" is optional, in some cases it's present and in others it's not\n",
    "    All tested numbers are valid, you don't need to validate them\n",
    "\n"
   ],
   "cell_type": "markdown",
   "metadata": {}
  },
  {
   "cell_type": "code",
   "execution_count": 11,
   "metadata": {},
   "outputs": [],
   "source": [
    "numbers = { 'zero'      : 0,\n",
    "            'one'       : 1,\n",
    "            'two'       : 2,\n",
    "            'three'     : 3,\n",
    "            'four'      : 4,\n",
    "            'five'      : 5,\n",
    "            'six'       : 6,\n",
    "            'seven'     : 7,\n",
    "            'eight'     : 8,\n",
    "            'nine'      : 9,\n",
    "            'ten'       : 10,\n",
    "            'eleven'    : 11,\n",
    "            'twelve'    : 12,\n",
    "            'thirteen'  : 13,\n",
    "            'fourteen'  : 14,\n",
    "            'fifteen'   : 15,\n",
    "            'sixteen'   : 16,\n",
    "            'seventeen' : 17,\n",
    "            'eighteen'  : 18,\n",
    "            'nineteen'  : 19, \n",
    "            'twenty'    : 20,\n",
    "            'thirty'    : 30,\n",
    "            'forty'     : 40,\n",
    "            'fifty'     : 50,\n",
    "            'sixty'     : 60,\n",
    "            'seventy'   : 70,\n",
    "            'eighty'    : 80,\n",
    "            'ninety'    : 90 }"
   ]
  },
  {
   "cell_type": "code",
   "execution_count": 112,
   "metadata": {},
   "outputs": [],
   "source": [
    "def get_digit(string, multiplier):\n",
    "    pos = string.find('-')\n",
    "    if pos == -1:\n",
    "        num = numbers[string]\n",
    "    else:\n",
    "        num = numbers[string[ : pos]] + numbers[string[ pos + 1 : ]]\n",
    "    if num > 9 and multiplier > 10:\n",
    "        multiplier /= 10\n",
    "    return num * int(multiplier)"
   ]
  },
  {
   "cell_type": "code",
   "execution_count": 113,
   "metadata": {},
   "outputs": [],
   "source": [
    "def parse_int(string):\n",
    "    num = 0\n",
    "    multiplier = 1\n",
    "    thousands_multiplier = 1\n",
    "    for hundreds in string.split(' thousand')[::-1]:\n",
    "        for digit in hundreds.split()[::-1]:\n",
    "            if digit == 'and':\n",
    "                pass\n",
    "            elif digit == 'hundred':\n",
    "                multiplier = 100\n",
    "            elif digit == 'million':\n",
    "                multiplier = 1000000\n",
    "            else:\n",
    "                num += get_digit(digit, multiplier) * thousands_multiplier\n",
    "                multiplier = 1\n",
    "        thousands_multiplier *= 1000\n",
    "    return num"
   ]
  },
  {
   "cell_type": "code",
   "execution_count": 114,
   "metadata": {},
   "outputs": [
    {
     "output_type": "execute_result",
     "data": {
      "text/plain": [
       "666666"
      ]
     },
     "metadata": {},
     "execution_count": 114
    }
   ],
   "source": [
    "parse_int(\"sixty-six hundred six thousand sixty-six hundred six\")"
   ]
  },
  {
   "cell_type": "code",
   "execution_count": 115,
   "metadata": {},
   "outputs": [
    {
     "output_type": "execute_result",
     "data": {
      "text/plain": [
       "20"
      ]
     },
     "metadata": {},
     "execution_count": 115
    }
   ],
   "source": [
    "parse_int('twenty')"
   ]
  },
  {
   "cell_type": "code",
   "execution_count": 116,
   "metadata": {},
   "outputs": [
    {
     "output_type": "execute_result",
     "data": {
      "text/plain": [
       "2000"
      ]
     },
     "metadata": {},
     "execution_count": 116
    }
   ],
   "source": [
    "parse_int('two thousand')"
   ]
  },
  {
   "cell_type": "code",
   "execution_count": null,
   "metadata": {},
   "outputs": [],
   "source": []
  }
 ]
}
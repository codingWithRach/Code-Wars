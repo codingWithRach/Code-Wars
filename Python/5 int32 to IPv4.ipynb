{
 "metadata": {
  "language_info": {
   "codemirror_mode": {
    "name": "ipython",
    "version": 3
   },
   "file_extension": ".py",
   "mimetype": "text/x-python",
   "name": "python",
   "nbconvert_exporter": "python",
   "pygments_lexer": "ipython3",
   "version": "3.9.0"
  },
  "orig_nbformat": 2,
  "kernelspec": {
   "name": "python390jvsc74a57bd0e9440e5d603c35774c62af017100812874226e35d1790890ccf27e7cab51d293",
   "display_name": "Python 3.9.0 64-bit"
  },
  "metadata": {
   "interpreter": {
    "hash": "e9440e5d603c35774c62af017100812874226e35d1790890ccf27e7cab51d293"
   }
  }
 },
 "nbformat": 4,
 "nbformat_minor": 2,
 "cells": [
  {
   "source": [
    "Take the following IPv4 address: 128.32.10.1\n",
    "\n",
    "This address has 4 octets where each octet is a single byte (or 8 bits).\n",
    "- 1st octet 128 has the binary representation: 10000000\n",
    "- 2nd octet 32 has the binary representation: 00100000\n",
    "- 3rd octet 10 has the binary representation: 00001010\n",
    "- 4th octet 1 has the binary representation: 00000001\n",
    "\n",
    "So 128.32.10.1 == 10000000.00100000.00001010.00000001\n",
    "\n",
    "Because the above IP address has 32 bits, we can represent it as the unsigned 32 bit number: 2149583361\n",
    "\n",
    "Complete the function that takes an unsigned 32 bit number and returns a string representation of its IPv4 address.\n",
    "\n",
    "# Examples\n",
    "2149583361 ==> \"128.32.10.1\"\n",
    "32         ==> \"0.0.0.32\"\n",
    "0          ==> \"0.0.0.0\""
   ],
   "cell_type": "markdown",
   "metadata": {}
  },
  {
   "cell_type": "code",
   "execution_count": 56,
   "metadata": {},
   "outputs": [],
   "source": [
    "def int32_to_ip(int32):\n",
    "    # convert to binary and pad to 32 digits\n",
    "    bin_num = bin(int32)[2:]\n",
    "    while len(bin_num) < 32:\n",
    "        bin_num = '0' + bin_num\n",
    "    # convert each octet into an integer\n",
    "    return str(int(bin_num[:8],2)) + '.' + str(int(bin_num[8:16],2)) + '.' + str(int(bin_num[16:24],2)) + '.' + str(int(bin_num[24:],2))"
   ]
  },
  {
   "cell_type": "code",
   "execution_count": 57,
   "metadata": {},
   "outputs": [
    {
     "output_type": "execute_result",
     "data": {
      "text/plain": [
       "'120.112.200.116'"
      ]
     },
     "metadata": {},
     "execution_count": 57
    }
   ],
   "source": [
    "int32_to_ip(2020657268)\n",
    "# 120.112.200.116"
   ]
  },
  {
   "cell_type": "code",
   "execution_count": 55,
   "metadata": {},
   "outputs": [
    {
     "output_type": "execute_result",
     "data": {
      "text/plain": [
       "'0.0.0.0'"
      ]
     },
     "metadata": {},
     "execution_count": 55
    }
   ],
   "source": [
    "int32_to_ip(0)"
   ]
  }
 ]
}
{
 "metadata": {
  "language_info": {
   "codemirror_mode": {
    "name": "ipython",
    "version": 3
   },
   "file_extension": ".py",
   "mimetype": "text/x-python",
   "name": "python",
   "nbconvert_exporter": "python",
   "pygments_lexer": "ipython3",
   "version": "3.8.5-final"
  },
  "orig_nbformat": 2,
  "kernelspec": {
   "name": "python3",
   "display_name": "Python 3",
   "language": "python"
  }
 },
 "nbformat": 4,
 "nbformat_minor": 2,
 "cells": [
  {
   "source": [
    "Assume \"#\" is like a backspace in string. This means that string \"a#bc#d\" actually is \"bd\"\n",
    "\n",
    "Your task is to process a string with \"#\" symbols.\n",
    "Examples\n",
    "\n",
    "\"abc#d##c\"      ==>  \"ac\"\n",
    "\"abc##d######\"  ==>  \"\"\n",
    "\"#######\"       ==>  \"\"\n",
    "\"\"              ==>  \"\""
   ],
   "cell_type": "markdown",
   "metadata": {}
  },
  {
   "cell_type": "code",
   "execution_count": 1,
   "metadata": {},
   "outputs": [],
   "source": [
    "def clean_string(s):\n",
    "    pos = s.find('#')\n",
    "    while pos != -1:\n",
    "        if pos == 0:\n",
    "            s = s[pos+1:]\n",
    "        else:\n",
    "            s = s[:pos-1]+s[pos+1:]\n",
    "        pos = s.find('#')\n",
    "    return s"
   ]
  },
  {
   "cell_type": "code",
   "execution_count": null,
   "metadata": {},
   "outputs": [],
   "source": []
  }
 ]
}
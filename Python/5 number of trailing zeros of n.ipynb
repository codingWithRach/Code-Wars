{
 "metadata": {
  "language_info": {
   "codemirror_mode": {
    "name": "ipython",
    "version": 3
   },
   "file_extension": ".py",
   "mimetype": "text/x-python",
   "name": "python",
   "nbconvert_exporter": "python",
   "pygments_lexer": "ipython3",
   "version": "3.8.5-final"
  },
  "orig_nbformat": 2,
  "kernelspec": {
   "name": "python3",
   "display_name": "Python 3.8.5 64-bit (conda)",
   "metadata": {
    "interpreter": {
     "hash": "a6d5379567e5c9aa2d153209ef4a1d00a383d1ae7f32ebada2471f125a521807"
    }
   }
  }
 },
 "nbformat": 4,
 "nbformat_minor": 2,
 "cells": [
  {
   "source": [
    "Write a program that will calculate the number of trailing zeros in a factorial of a given number.\n",
    "\n",
    "N! = 1 x 2 x 3 x ... x N\n",
    "\n",
    "Be careful 1000! has 2568 digits...\n",
    "\n",
    "For more info, see: http://mathworld.wolfram.com/Factorial.html\n",
    "# Examples\n",
    "\n",
    "zeros(6) = 1\n",
    "6! = 1 x 2 x 3 x 4 x 5 x 6 = 720 --> 1 trailing zero\n",
    "\n",
    "zeros(12) = 2\n",
    "12! = 479001600 --> 2 trailing zeros\n",
    "\n",
    "Hint: You're not meant to calculate the factorial. Find another way to find the number of zeros."
   ],
   "cell_type": "markdown",
   "metadata": {}
  },
  {
   "cell_type": "code",
   "execution_count": 58,
   "metadata": {},
   "outputs": [],
   "source": [
    "# there is a trailing zero if two of the numbers being multiplied result in 10 i.e. 2 * 5 * x.  Thus for each increase of 5 the end result will have another 0\n",
    "# however, for each multiple of 25, the end result gets another 2 zeroes\n",
    "# for each multiple of 125, the end result gets another 3 zeroes\n",
    "# i.e. for each multiple of (5 ** k) the end result gets another k zeroes\n",
    "def get_log_5(n):\n",
    "    for i in range(n):\n",
    "        if 5 ** (i+1) <= n:\n",
    "            i += 1\n",
    "        else:\n",
    "            return i"
   ]
  },
  {
   "cell_type": "code",
   "execution_count": 55,
   "metadata": {},
   "outputs": [],
   "source": [
    "def zeros(n):\n",
    "    # validation\n",
    "    if n < 1:\n",
    "        return 0\n",
    "\n",
    "    # find the greatest value of k for which 5 ** k does not exceed n\n",
    "    k = get_log_5(n)\n",
    "    \n",
    "    # add on k zeroes for each multiple of (5 ** k)\n",
    "    result = 0\n",
    "    for i in range(k):\n",
    "        result += n // (5 ** (i+1))\n",
    "    return result"
   ]
  },
  {
   "source": [
    "The following works, but CodeWars does not allow the import of the log function"
   ],
   "cell_type": "markdown",
   "metadata": {}
  },
  {
   "cell_type": "code",
   "execution_count": 41,
   "metadata": {},
   "outputs": [],
   "source": [
    "# there is a trailing zero if two of the numbers being multiplied result in 10 i.e. 2 * 5 * x.  Thus for each increase of 5 the end result will have another 0\n",
    "# however, for each multiple of 25, the end result gets another 2 zeroes\n",
    "# for each multiple of 125, the end result gets another 3 zeroes\n",
    "# i.e. for each multiple of (5 ** k) the end result gets another k zeroes\n",
    "def zeros(n):\n",
    "    # find the greatest value of k for which 5 ** k does not exceed n\n",
    "    from math import log\n",
    "    k = int(log(n, 5))\n",
    "\n",
    "    # add on k zeroes for each multiple of (5 ** k)\n",
    "    result = 0\n",
    "    for i in range(k):\n",
    "        result += n // (5 ** (i+1))\n",
    "    return result"
   ]
  },
  {
   "cell_type": "code",
   "execution_count": null,
   "metadata": {},
   "outputs": [],
   "source": []
  }
 ]
}
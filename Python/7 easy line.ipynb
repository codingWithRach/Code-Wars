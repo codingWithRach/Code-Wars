{
 "metadata": {
  "language_info": {
   "codemirror_mode": {
    "name": "ipython",
    "version": 3
   },
   "file_extension": ".py",
   "mimetype": "text/x-python",
   "name": "python",
   "nbconvert_exporter": "python",
   "pygments_lexer": "ipython3",
   "version": "3.8.5"
  },
  "orig_nbformat": 2,
  "kernelspec": {
   "name": "python3",
   "display_name": "Python 3.8.5 64-bit ('base': conda)",
   "metadata": {
    "interpreter": {
     "hash": "a6d5379567e5c9aa2d153209ef4a1d00a383d1ae7f32ebada2471f125a521807"
    }
   }
  }
 },
 "nbformat": 4,
 "nbformat_minor": 2,
 "cells": [
  {
   "source": [
    "In the drawing below we have a part of the Pascal's triangle, horizontal lines are numbered from zero (top).\n",
    "\n",
    "We want to calculate the sum of the squares of the binomial coefficients on a given horizontal line with a function called easyline (or easyLine or easy-line).\n",
    "\n",
    "Can you write a program which calculate easyline(n) where n is the horizontal line number?\n",
    "\n",
    "The function will take n (with: n>= 0) as parameter and will return the sum of the squares of the binomial coefficients on line n.\n",
    "Examples:\n",
    "\n",
    "easyline(0) => 1\n",
    "easyline(1) => 2\n",
    "easyline(4) => 70\n",
    "easyline(50) => 100891344545564193334812497256\n",
    "\n",
    "Ref: http://mathworld.wolfram.com/BinomialCoefficient.html\n",
    "\n"
   ],
   "cell_type": "markdown",
   "metadata": {}
  },
  {
   "cell_type": "code",
   "execution_count": 59,
   "metadata": {},
   "outputs": [],
   "source": [
    "# sum of squares of binomial coefficients on row n is given by:\n",
    "# (2n)! / (n!)^2\n",
    "# multiply this out to give:\n",
    "# 2n(2n-1)...(n+1) / n!\n",
    "def factorial(start, end):\n",
    "    result = 1\n",
    "    for i in range(start, end+1):\n",
    "        result *= i\n",
    "    return result\n",
    "\n",
    "def easyline(n):\n",
    "    print('n:', n)\n",
    "    return factorial(n+1, 2*n) // factorial(1,n)"
   ]
  },
  {
   "cell_type": "code",
   "execution_count": null,
   "metadata": {},
   "outputs": [],
   "source": []
  }
 ]
}
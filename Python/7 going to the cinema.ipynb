{
 "cells": [
  {
   "cell_type": "markdown",
   "metadata": {},
   "source": [
    "My friend John likes to go to the cinema. He can choose between system A and system B.\r\n",
    "\r\n",
    "System A : he buys a ticket (15 dollars) every time\r\n",
    "System B : he buys a card (500 dollars) and a first ticket for 0.90 times the ticket price, \r\n",
    "then for each additional ticket he pays 0.90 times the price paid for the previous ticket.\r\n",
    "\r\n",
    "# Example:\r\n",
    "If John goes to the cinema 3 times:\r\n",
    "- System A : 15 * 3 = 45\r\n",
    "- System B : 500 + 15 * 0.90 + (15 * 0.90) * 0.90 + (15 * 0.90 * 0.90) * 0.90 ( = 536.5849999999999, no rounding for each ticket)\r\n",
    "\r\n",
    "John wants to know how many times he must go to the cinema so that the final result of System B, when rounded up to the next dollar, will be cheaper than System A.\r\n",
    "\r\n",
    "The function movie has 3 parameters: card (price of the card), ticket (normal price of a ticket), perc (fraction of what he paid for the previous ticket) and returns the first n such that\r\n",
    "ceil(price of System B) < price of System A.\r\n",
    "\r\n",
    "# More examples:\r\n",
    "movie(500, 15, 0.9) should return 43 \r\n",
    "    (with card the total price is 634, with tickets 645)\r\n",
    "movie(100, 10, 0.95) should return 24 \r\n",
    "    (with card the total price is 235, with tickets 240)"
   ]
  },
  {
   "cell_type": "code",
   "execution_count": 4,
   "metadata": {},
   "outputs": [],
   "source": [
    "from math import ceil\r\n",
    "def movie(card, ticket, perc):\r\n",
    "    systema = n = 0\r\n",
    "    systemb = card\r\n",
    "    lastprice = ticket\r\n",
    "    while ceil(systemb) >= systema:\r\n",
    "        n += 1\r\n",
    "        systema += ticket\r\n",
    "        lastprice *= perc\r\n",
    "        systemb += lastprice\r\n",
    "    return n"
   ]
  },
  {
   "cell_type": "code",
   "execution_count": 5,
   "metadata": {},
   "outputs": [
    {
     "data": {
      "text/plain": [
       "43"
      ]
     },
     "execution_count": 5,
     "metadata": {},
     "output_type": "execute_result"
    }
   ],
   "source": [
    "movie(500,15, 0.9)"
   ]
  },
  {
   "cell_type": "code",
   "execution_count": 6,
   "metadata": {},
   "outputs": [
    {
     "data": {
      "text/plain": [
       "24"
      ]
     },
     "execution_count": 6,
     "metadata": {},
     "output_type": "execute_result"
    }
   ],
   "source": [
    "movie(100,10,0.95)"
   ]
  }
 ],
 "metadata": {
  "interpreter": {
   "hash": "e9440e5d603c35774c62af017100812874226e35d1790890ccf27e7cab51d293"
  },
  "kernelspec": {
   "display_name": "Python 3.9.0 64-bit",
   "name": "python3"
  },
  "language_info": {
   "codemirror_mode": {
    "name": "ipython",
    "version": 3
   },
   "file_extension": ".py",
   "mimetype": "text/x-python",
   "name": "python",
   "nbconvert_exporter": "python",
   "pygments_lexer": "ipython3",
   "version": "3.9.0"
  },
  "orig_nbformat": 4
 },
 "nbformat": 4,
 "nbformat_minor": 2
}
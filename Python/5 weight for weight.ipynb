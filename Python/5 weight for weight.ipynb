{
 "metadata": {
  "language_info": {
   "codemirror_mode": {
    "name": "ipython",
    "version": 3
   },
   "file_extension": ".py",
   "mimetype": "text/x-python",
   "name": "python",
   "nbconvert_exporter": "python",
   "pygments_lexer": "ipython3",
   "version": "3.8.5"
  },
  "orig_nbformat": 2,
  "kernelspec": {
   "name": "python385jvsc74a57bd0a6d5379567e5c9aa2d153209ef4a1d00a383d1ae7f32ebada2471f125a521807",
   "display_name": "Python 3.8.5 64-bit ('base': conda)"
  }
 },
 "nbformat": 4,
 "nbformat_minor": 2,
 "cells": [
  {
   "source": [
    "My friend John and I are members of the \"Fat to Fit Club (FFC)\". John is worried because each month a list with the weights of members is published and each month he is the last on the list which means he is the heaviest.\n",
    "\n",
    "I am the one who establishes the list so I told him: \"Don't worry any more, I will modify the order of the list\". It was decided to attribute a \"weight\" to numbers. The weight of a number will be from now on the sum of its digits.\n",
    "\n",
    "For example 99 will have \"weight\" 18, 100 will have \"weight\" 1 so in the list 100 will come before 99.\n",
    "\n",
    "Given a string with the weights of FFC members in normal order can you give this string ordered by \"weights\" of these numbers?\n",
    "Example:\n",
    "\n",
    "\"56 65 74 100 99 68 86 180 90\" ordered by numbers weights becomes: \n",
    "\n",
    "\"100 180 90 56 65 74 68 86 99\"\n",
    "\n",
    "When two numbers have the same \"weight\", let us class them as if they were strings (alphabetical ordering) and not numbers:\n",
    "\n",
    "180 is before 90 since, having the same \"weight\" (9), it comes before as a string.\n",
    "\n",
    "All numbers in the list are positive numbers and the list can be empty.\n",
    "\n",
    "Note: it may happen that the input string have leading, trailing whitespaces and more than a unique whitespace between two consecutive numbers"
   ],
   "cell_type": "markdown",
   "metadata": {}
  },
  {
   "cell_type": "code",
   "execution_count": 18,
   "metadata": {},
   "outputs": [],
   "source": [
    "def order_weight(strng):\n",
    "    weighted = []\n",
    "    for entry in strng.split():\n",
    "        weight = 0\n",
    "        for char in entry:\n",
    "            weight += int(char)\n",
    "        weighted.append([weight, entry])\n",
    "    weighted.sort(key = lambda row: (row[0], row[1]))\n",
    "    return ' '.join([x[1] for x in weighted])"
   ]
  },
  {
   "cell_type": "code",
   "execution_count": null,
   "metadata": {},
   "outputs": [],
   "source": []
  }
 ]
}
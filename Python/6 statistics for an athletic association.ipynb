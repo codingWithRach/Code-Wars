{
 "metadata": {
  "language_info": {
   "codemirror_mode": {
    "name": "ipython",
    "version": 3
   },
   "file_extension": ".py",
   "mimetype": "text/x-python",
   "name": "python",
   "nbconvert_exporter": "python",
   "pygments_lexer": "ipython3",
   "version": "3.8.5"
  },
  "orig_nbformat": 2,
  "kernelspec": {
   "name": "python3",
   "display_name": "Python 3.8.5 64-bit ('base': conda)",
   "metadata": {
    "interpreter": {
     "hash": "a6d5379567e5c9aa2d153209ef4a1d00a383d1ae7f32ebada2471f125a521807"
    }
   }
  }
 },
 "nbformat": 4,
 "nbformat_minor": 2,
 "cells": [
  {
   "source": [
    "You are the \"computer expert\" of a local Athletic Association (C.A.A.). Many teams of runners come to compete. Each time you get a string of all race results of every team who has run. For example here is a string showing the individual results of a team of 5 runners:\n",
    "\n",
    "\"01|15|59, 1|47|6, 01|17|20, 1|32|34, 2|3|17\"\n",
    "\n",
    "Each part of the string is of the form: h|m|s where h, m, s (h for hour, m for minutes, s for seconds) are positive or null integer (represented as strings) with one or two digits. There are no traps in this format.\n",
    "\n",
    "To compare the results of the teams you are asked for giving three statistics; range, average and median.\n",
    "\n",
    "    Range : difference between the lowest and highest values. In {4, 6, 9, 3, 7} the lowest value is 3, and the highest is 9, so the range is 9 − 3 = 6.\n",
    "\n",
    "    Mean or Average : To calculate mean, add together all of the numbers in a set and then divide the sum by the total count of numbers.\n",
    "\n",
    "    Median : In statistics, the median is the number separating the higher half of a data sample from the lower half. The median of a finite list of numbers can be found by arranging all the observations from lowest value to highest value and picking the middle one (e.g., the median of {3, 3, 5, 9, 11} is 5) when there is an odd number of observations. If there is an even number of observations, then there is no single middle value; the median is then defined to be the mean of the two middle values (the median of {3, 5, 6, 9} is (5 + 6) / 2 = 5.5).\n",
    "\n",
    "Your task is to return a string giving these 3 values. For the example given above, the string result will be\n",
    "\n",
    "\"Range: 00|47|18 Average: 01|35|15 Median: 01|32|34\"\n",
    "\n",
    "of the form: \"Range: hh|mm|ss Average: hh|mm|ss Median: hh|mm|ss\"`\n",
    "\n",
    "where hh, mm, ss are integers (represented by strings) with each 2 digits.\n",
    "\n",
    "Remarks:\n",
    "\n",
    "- if a result in seconds is ab.xy... it will be given truncated as ab.\n",
    "- if the given string is \"\" you will return \"\""
   ],
   "cell_type": "markdown",
   "metadata": {}
  },
  {
   "cell_type": "code",
   "execution_count": 50,
   "metadata": {},
   "outputs": [],
   "source": [
    "import numpy as np\n",
    "def split_time(seconds):\n",
    "    hours = seconds // 3600\n",
    "    if seconds >= 3600:\n",
    "        remainder = seconds % (hours * 3600)\n",
    "    else:\n",
    "        remainder = seconds\n",
    "    minutes = remainder // 60\n",
    "    if remainder >= 60:\n",
    "        seconds = remainder % (minutes * 60)\n",
    "    else:\n",
    "        seconds = remainder\n",
    "    return str(int(hours)).zfill(2) + '|' + str(int(minutes)).zfill(2) + '|' + str(int(seconds)).zfill(2)\n",
    "\n",
    "def stat(strg):\n",
    "    if strg == '':\n",
    "        return ''\n",
    "\n",
    "    seconds = []\n",
    "    for race_result in strg.split(','):\n",
    "        race_time = race_result.split('|')\n",
    "        seconds.append((int(race_time[0]) * 3600) + (int(race_time[1]) * 60) + int(race_time[2]))\n",
    "\n",
    "    range = split_time(max(seconds) - min(seconds))\n",
    "    average = split_time(np.mean(seconds))\n",
    "    median = split_time(np.median(seconds))\n",
    "    return 'Range: ' + range + ' Average: ' + average + ' Median: ' + median"
   ]
  },
  {
   "cell_type": "code",
   "execution_count": 51,
   "metadata": {
    "tags": []
   },
   "outputs": [
    {
     "output_type": "stream",
     "name": "stdout",
     "text": [
      "Range: 00|47|18 Average: 01|35|15 Median: 01|32|34\n"
     ]
    }
   ],
   "source": [
    "print(stat(\"01|15|59, 1|47|6, 01|17|20, 1|32|34, 2|3|17\"))"
   ]
  },
  {
   "cell_type": "code",
   "execution_count": null,
   "metadata": {},
   "outputs": [],
   "source": []
  }
 ]
}